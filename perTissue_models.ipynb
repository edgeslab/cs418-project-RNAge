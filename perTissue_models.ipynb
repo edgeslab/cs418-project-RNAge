{
 "cells": [
  {
   "cell_type": "markdown",
   "metadata": {},
   "source": [
    "# per Tissue Analysis and Models\n",
    "*Ben Imlay*"
   ]
  },
  {
   "cell_type": "markdown",
   "metadata": {},
   "source": [
    "## Database Setup"
   ]
  },
  {
   "cell_type": "code",
   "execution_count": 19,
   "metadata": {},
   "outputs": [],
   "source": [
    "import pandas as pd\n",
    "from pathlib import Path\n",
    "from os import listdir\n",
    "TISSUE='Liver'"
   ]
  },
  {
   "cell_type": "code",
   "execution_count": null,
   "metadata": {},
   "outputs": [],
   "source": [
    "manifest={\"data\":\"All_Tissue_Site_Details.combined.reads.gct\",\n",
    "              \"sample_meta\":\"GTEx_v7_Annotations_SampleAttributesDS.txt\",\n",
    "              \"subject_meta\":\"GTEx_v7_Annotations_SubjectPhenotypesDS.txt\",\n",
    "               \"merged_meta\":\"merged_meta.tsv\"}\n",
    "meta=pd.read_csv(data_dir/manifest['merged_meta'],sep=\"\\t\",dtype={'SMUBRID':object,'SEX':object,'DTHHRDY':object})\n",
    "\n",
    "data_dir=Path(\"data\")\n",
    "infiles=listdir(data_dir/\"tissue-specific\")\n",
    "\n",
    "meta.iloc[0:3,:]"
   ]
  },
  {
   "cell_type": "markdown",
   "metadata": {},
   "source": [
    "## Avaiable Tissues"
   ]
  },
  {
   "cell_type": "code",
   "execution_count": 23,
   "metadata": {},
   "outputs": [
    {
     "data": {
      "text/plain": [
       "['Liver_lcpm.tsv', 'Liver_cpm.tsv']"
      ]
     },
     "execution_count": 23,
     "metadata": {},
     "output_type": "execute_result"
    }
   ],
   "source": [
    "# To do python plots of counts\n",
    "TISSUE_files=[f for f in infiles if  TISSUE in f]\n",
    "TISSUE_files"
   ]
  },
  {
   "cell_type": "code",
   "execution_count": 26,
   "metadata": {},
   "outputs": [
    {
     "data": {
      "text/plain": [
       "array(['60-69', '50-59', '40-49', '20-29', '30-39', '70-79', nan],\n",
       "      dtype=object)"
      ]
     },
     "execution_count": 26,
     "metadata": {},
     "output_type": "execute_result"
    }
   ],
   "source": [
    "meta['AGE'].unique()"
   ]
  },
  {
   "cell_type": "code",
   "execution_count": null,
   "metadata": {},
   "outputs": [],
   "source": []
  }
 ],
 "metadata": {
  "kernelspec": {
   "display_name": "Python 3",
   "language": "python",
   "name": "python3"
  },
  "language_info": {
   "codemirror_mode": {
    "name": "ipython",
    "version": 3
   },
   "file_extension": ".py",
   "mimetype": "text/x-python",
   "name": "python",
   "nbconvert_exporter": "python",
   "pygments_lexer": "ipython3",
   "version": "3.7.1"
  }
 },
 "nbformat": 4,
 "nbformat_minor": 2
}
