{
 "cells": [
  {
   "cell_type": "markdown",
   "metadata": {},
   "source": [
    "# per Tissue Analysis and Models\n",
    "*Ben Imlay*"
   ]
  },
  {
   "cell_type": "markdown",
   "metadata": {},
   "source": [
    "## Database Setup"
   ]
  },
  {
   "cell_type": "code",
   "execution_count": 1,
   "metadata": {},
   "outputs": [],
   "source": [
    "import pandas as pd\n",
    "import numpy as np\n",
    "import seaborn as sns\n",
    "import matplotlib.pyplot as plt\n",
    "from IPython.display import display, HTML\n",
    "from pathlib import Path\n",
    "from os import listdir\n",
    "import sklearn.model_selection\n",
    "import sklearn.feature_selection\n",
    "%matplotlib inline\n",
    "sns.set_style(\"darkgrid\")"
   ]
  },
  {
   "cell_type": "code",
   "execution_count": 2,
   "metadata": {},
   "outputs": [
    {
     "data": {
      "text/html": [
       "<div>\n",
       "<style scoped>\n",
       "    .dataframe tbody tr th:only-of-type {\n",
       "        vertical-align: middle;\n",
       "    }\n",
       "\n",
       "    .dataframe tbody tr th {\n",
       "        vertical-align: top;\n",
       "    }\n",
       "\n",
       "    .dataframe thead th {\n",
       "        text-align: right;\n",
       "    }\n",
       "</style>\n",
       "<table border=\"1\" class=\"dataframe\">\n",
       "  <thead>\n",
       "    <tr style=\"text-align: right;\">\n",
       "      <th></th>\n",
       "      <th>SAMPID</th>\n",
       "      <th>SMATSSCR</th>\n",
       "      <th>SMCENTER</th>\n",
       "      <th>SMPTHNTS</th>\n",
       "      <th>SMRIN</th>\n",
       "      <th>SMTS</th>\n",
       "      <th>SMTSD</th>\n",
       "      <th>SMUBRID</th>\n",
       "      <th>SMTSISCH</th>\n",
       "      <th>SMTSPAX</th>\n",
       "      <th>...</th>\n",
       "      <th>SME1PCTS</th>\n",
       "      <th>SMRRNART</th>\n",
       "      <th>SME1MPRT</th>\n",
       "      <th>SMNUM5CD</th>\n",
       "      <th>SMDPMPRT</th>\n",
       "      <th>SME2PCTS</th>\n",
       "      <th>SUBJID</th>\n",
       "      <th>SEX</th>\n",
       "      <th>AGE</th>\n",
       "      <th>DTHHRDY</th>\n",
       "    </tr>\n",
       "  </thead>\n",
       "  <tbody>\n",
       "    <tr>\n",
       "      <th>0</th>\n",
       "      <td>GTEX-1117F-0226-SM-5GZZ7</td>\n",
       "      <td>0.0</td>\n",
       "      <td>B1</td>\n",
       "      <td>2 pieces, ~15% vessel stroma, rep delineated</td>\n",
       "      <td>6.8</td>\n",
       "      <td>Adipose Tissue</td>\n",
       "      <td>Adipose - Subcutaneous</td>\n",
       "      <td>0002190</td>\n",
       "      <td>1214.0</td>\n",
       "      <td>1125.0</td>\n",
       "      <td>...</td>\n",
       "      <td>50.094357</td>\n",
       "      <td>0.003102</td>\n",
       "      <td>0.992826</td>\n",
       "      <td>NaN</td>\n",
       "      <td>0.0</td>\n",
       "      <td>50.12628</td>\n",
       "      <td>GTEX-1117F</td>\n",
       "      <td>2.0</td>\n",
       "      <td>60-69</td>\n",
       "      <td>4.0</td>\n",
       "    </tr>\n",
       "    <tr>\n",
       "      <th>1</th>\n",
       "      <td>GTEX-111CU-1826-SM-5GZYN</td>\n",
       "      <td>0.0</td>\n",
       "      <td>B1</td>\n",
       "      <td>2 pieces, small portion of nerve (&lt;10% of one ...</td>\n",
       "      <td>7.5</td>\n",
       "      <td>Adipose Tissue</td>\n",
       "      <td>Adipose - Subcutaneous</td>\n",
       "      <td>0002190</td>\n",
       "      <td>138.0</td>\n",
       "      <td>571.0</td>\n",
       "      <td>...</td>\n",
       "      <td>50.089250</td>\n",
       "      <td>0.002126</td>\n",
       "      <td>0.993923</td>\n",
       "      <td>NaN</td>\n",
       "      <td>0.0</td>\n",
       "      <td>50.10142</td>\n",
       "      <td>GTEX-111CU</td>\n",
       "      <td>1.0</td>\n",
       "      <td>50-59</td>\n",
       "      <td>0.0</td>\n",
       "    </tr>\n",
       "    <tr>\n",
       "      <th>2</th>\n",
       "      <td>GTEX-111FC-0226-SM-5N9B8</td>\n",
       "      <td>2.0</td>\n",
       "      <td>B1</td>\n",
       "      <td>2 pieces, larger piece is 30% fibrovascular ti...</td>\n",
       "      <td>7.3</td>\n",
       "      <td>Adipose Tissue</td>\n",
       "      <td>Adipose - Subcutaneous</td>\n",
       "      <td>0002190</td>\n",
       "      <td>1040.0</td>\n",
       "      <td>869.0</td>\n",
       "      <td>...</td>\n",
       "      <td>50.113018</td>\n",
       "      <td>0.003756</td>\n",
       "      <td>0.992825</td>\n",
       "      <td>NaN</td>\n",
       "      <td>0.0</td>\n",
       "      <td>50.06186</td>\n",
       "      <td>GTEX-111FC</td>\n",
       "      <td>1.0</td>\n",
       "      <td>60-69</td>\n",
       "      <td>1.0</td>\n",
       "    </tr>\n",
       "  </tbody>\n",
       "</table>\n",
       "<p>3 rows × 67 columns</p>\n",
       "</div>"
      ],
      "text/plain": [
       "                     SAMPID  SMATSSCR SMCENTER  \\\n",
       "0  GTEX-1117F-0226-SM-5GZZ7       0.0       B1   \n",
       "1  GTEX-111CU-1826-SM-5GZYN       0.0       B1   \n",
       "2  GTEX-111FC-0226-SM-5N9B8       2.0       B1   \n",
       "\n",
       "                                            SMPTHNTS  SMRIN            SMTS  \\\n",
       "0       2 pieces, ~15% vessel stroma, rep delineated    6.8  Adipose Tissue   \n",
       "1  2 pieces, small portion of nerve (<10% of one ...    7.5  Adipose Tissue   \n",
       "2  2 pieces, larger piece is 30% fibrovascular ti...    7.3  Adipose Tissue   \n",
       "\n",
       "                    SMTSD  SMUBRID  SMTSISCH  SMTSPAX   ...      SME1PCTS  \\\n",
       "0  Adipose - Subcutaneous  0002190    1214.0   1125.0   ...     50.094357   \n",
       "1  Adipose - Subcutaneous  0002190     138.0    571.0   ...     50.089250   \n",
       "2  Adipose - Subcutaneous  0002190    1040.0    869.0   ...     50.113018   \n",
       "\n",
       "   SMRRNART  SME1MPRT SMNUM5CD SMDPMPRT  SME2PCTS      SUBJID  SEX    AGE  \\\n",
       "0  0.003102  0.992826      NaN      0.0  50.12628  GTEX-1117F  2.0  60-69   \n",
       "1  0.002126  0.993923      NaN      0.0  50.10142  GTEX-111CU  1.0  50-59   \n",
       "2  0.003756  0.992825      NaN      0.0  50.06186  GTEX-111FC  1.0  60-69   \n",
       "\n",
       "   DTHHRDY  \n",
       "0      4.0  \n",
       "1      0.0  \n",
       "2      1.0  \n",
       "\n",
       "[3 rows x 67 columns]"
      ]
     },
     "execution_count": 2,
     "metadata": {},
     "output_type": "execute_result"
    }
   ],
   "source": [
    "data_dir=Path(\"data\")\n",
    "tissue_dir=Path(\"tissue-specific\")\n",
    "manifest={\"data\":\"All_Tissue_Site_Details.combined.reads.gct\",\n",
    "              \"sample_meta\":\"GTEx_v7_Annotations_SampleAttributesDS.txt\",\n",
    "              \"subject_meta\":\"GTEx_v7_Annotations_SubjectPhenotypesDS.txt\",\n",
    "               \"merged_meta\":\"merged_meta.tsv\"}\n",
    "age_conversion={}\n",
    "meta=pd.read_csv(data_dir/manifest['merged_meta'],sep=\"\\t\",dtype={'SMUBRID':object,'SEX':object,'DTHHRDY':object})\n",
    "meta=meta[~(meta['AGE'].isnull())] # removes all samples without age\n",
    "meta.iloc[0:3,:]"
   ]
  },
  {
   "cell_type": "markdown",
   "metadata": {},
   "source": [
    "## Avaiable Tissues"
   ]
  },
  {
   "cell_type": "code",
   "execution_count": 3,
   "metadata": {
    "scrolled": true
   },
   "outputs": [
    {
     "data": {
      "text/html": [
       "<div>\n",
       "<style scoped>\n",
       "    .dataframe tbody tr th:only-of-type {\n",
       "        vertical-align: middle;\n",
       "    }\n",
       "\n",
       "    .dataframe tbody tr th {\n",
       "        vertical-align: top;\n",
       "    }\n",
       "\n",
       "    .dataframe thead th {\n",
       "        text-align: right;\n",
       "    }\n",
       "</style>\n",
       "<table border=\"1\" class=\"dataframe\">\n",
       "  <thead>\n",
       "    <tr style=\"text-align: right;\">\n",
       "      <th></th>\n",
       "      <th>SMTS</th>\n",
       "    </tr>\n",
       "  </thead>\n",
       "  <tbody>\n",
       "    <tr>\n",
       "      <th>Skin</th>\n",
       "      <td>1202</td>\n",
       "    </tr>\n",
       "    <tr>\n",
       "      <th>Esophagus</th>\n",
       "      <td>1021</td>\n",
       "    </tr>\n",
       "    <tr>\n",
       "      <th>Blood Vessel</th>\n",
       "      <td>913</td>\n",
       "    </tr>\n",
       "    <tr>\n",
       "      <th>Adipose Tissue</th>\n",
       "      <td>797</td>\n",
       "    </tr>\n",
       "    <tr>\n",
       "      <th>Heart</th>\n",
       "      <td>600</td>\n",
       "    </tr>\n",
       "    <tr>\n",
       "      <th>Muscle</th>\n",
       "      <td>564</td>\n",
       "    </tr>\n",
       "    <tr>\n",
       "      <th>Blood</th>\n",
       "      <td>537</td>\n",
       "    </tr>\n",
       "    <tr>\n",
       "      <th>Colon</th>\n",
       "      <td>507</td>\n",
       "    </tr>\n",
       "    <tr>\n",
       "      <th>Thyroid</th>\n",
       "      <td>446</td>\n",
       "    </tr>\n",
       "    <tr>\n",
       "      <th>Lung</th>\n",
       "      <td>427</td>\n",
       "    </tr>\n",
       "    <tr>\n",
       "      <th>Nerve</th>\n",
       "      <td>414</td>\n",
       "    </tr>\n",
       "    <tr>\n",
       "      <th>Brain</th>\n",
       "      <td>331</td>\n",
       "    </tr>\n",
       "    <tr>\n",
       "      <th>Breast</th>\n",
       "      <td>290</td>\n",
       "    </tr>\n",
       "    <tr>\n",
       "      <th>Stomach</th>\n",
       "      <td>261</td>\n",
       "    </tr>\n",
       "    <tr>\n",
       "      <th>Testis</th>\n",
       "      <td>259</td>\n",
       "    </tr>\n",
       "    <tr>\n",
       "      <th>Pancreas</th>\n",
       "      <td>248</td>\n",
       "    </tr>\n",
       "    <tr>\n",
       "      <th>Adrenal Gland</th>\n",
       "      <td>190</td>\n",
       "    </tr>\n",
       "    <tr>\n",
       "      <th>Pituitary</th>\n",
       "      <td>183</td>\n",
       "    </tr>\n",
       "    <tr>\n",
       "      <th>Liver</th>\n",
       "      <td>175</td>\n",
       "    </tr>\n",
       "    <tr>\n",
       "      <th>Spleen</th>\n",
       "      <td>162</td>\n",
       "    </tr>\n",
       "    <tr>\n",
       "      <th>Prostate</th>\n",
       "      <td>152</td>\n",
       "    </tr>\n",
       "    <tr>\n",
       "      <th>Small Intestine</th>\n",
       "      <td>137</td>\n",
       "    </tr>\n",
       "    <tr>\n",
       "      <th>Ovary</th>\n",
       "      <td>133</td>\n",
       "    </tr>\n",
       "    <tr>\n",
       "      <th>Vagina</th>\n",
       "      <td>115</td>\n",
       "    </tr>\n",
       "    <tr>\n",
       "      <th>Uterus</th>\n",
       "      <td>111</td>\n",
       "    </tr>\n",
       "    <tr>\n",
       "      <th>Salivary Gland</th>\n",
       "      <td>97</td>\n",
       "    </tr>\n",
       "    <tr>\n",
       "      <th>Kidney</th>\n",
       "      <td>45</td>\n",
       "    </tr>\n",
       "    <tr>\n",
       "      <th>Cervix Uteri</th>\n",
       "      <td>11</td>\n",
       "    </tr>\n",
       "    <tr>\n",
       "      <th>Bladder</th>\n",
       "      <td>11</td>\n",
       "    </tr>\n",
       "    <tr>\n",
       "      <th>Fallopian Tube</th>\n",
       "      <td>7</td>\n",
       "    </tr>\n",
       "  </tbody>\n",
       "</table>\n",
       "</div>"
      ],
      "text/plain": [
       "                 SMTS\n",
       "Skin             1202\n",
       "Esophagus        1021\n",
       "Blood Vessel      913\n",
       "Adipose Tissue    797\n",
       "Heart             600\n",
       "Muscle            564\n",
       "Blood             537\n",
       "Colon             507\n",
       "Thyroid           446\n",
       "Lung              427\n",
       "Nerve             414\n",
       "Brain             331\n",
       "Breast            290\n",
       "Stomach           261\n",
       "Testis            259\n",
       "Pancreas          248\n",
       "Adrenal Gland     190\n",
       "Pituitary         183\n",
       "Liver             175\n",
       "Spleen            162\n",
       "Prostate          152\n",
       "Small Intestine   137\n",
       "Ovary             133\n",
       "Vagina            115\n",
       "Uterus            111\n",
       "Salivary Gland     97\n",
       "Kidney             45\n",
       "Cervix Uteri       11\n",
       "Bladder            11\n",
       "Fallopian Tube      7"
      ]
     },
     "metadata": {},
     "output_type": "display_data"
    }
   ],
   "source": [
    "counts=pd.DataFrame(meta['SMTS'].value_counts())\n",
    "display(counts)"
   ]
  },
  {
   "cell_type": "markdown",
   "metadata": {},
   "source": [
    "This table shows that there are many tissues with >200 samples with age recorded. Only tissues with 200 samples or more will be considered for predictive analysis."
   ]
  },
  {
   "cell_type": "code",
   "execution_count": 4,
   "metadata": {},
   "outputs": [
    {
     "data": {
      "text/html": [
       "<div>\n",
       "<style scoped>\n",
       "    .dataframe tbody tr th:only-of-type {\n",
       "        vertical-align: middle;\n",
       "    }\n",
       "\n",
       "    .dataframe tbody tr th {\n",
       "        vertical-align: top;\n",
       "    }\n",
       "\n",
       "    .dataframe thead th {\n",
       "        text-align: right;\n",
       "    }\n",
       "</style>\n",
       "<table border=\"1\" class=\"dataframe\">\n",
       "  <thead>\n",
       "    <tr style=\"text-align: right;\">\n",
       "      <th>AGE</th>\n",
       "      <th>20-29</th>\n",
       "      <th>30-39</th>\n",
       "      <th>40-49</th>\n",
       "      <th>50-59</th>\n",
       "      <th>60-69</th>\n",
       "      <th>70-79</th>\n",
       "    </tr>\n",
       "    <tr>\n",
       "      <th>SMTS</th>\n",
       "      <th></th>\n",
       "      <th></th>\n",
       "      <th></th>\n",
       "      <th></th>\n",
       "      <th></th>\n",
       "      <th></th>\n",
       "    </tr>\n",
       "  </thead>\n",
       "  <tbody>\n",
       "    <tr>\n",
       "      <th>Adipose Tissue</th>\n",
       "      <td>57</td>\n",
       "      <td>66</td>\n",
       "      <td>131</td>\n",
       "      <td>273</td>\n",
       "      <td>245</td>\n",
       "      <td>25</td>\n",
       "    </tr>\n",
       "    <tr>\n",
       "      <th>Blood</th>\n",
       "      <td>50</td>\n",
       "      <td>46</td>\n",
       "      <td>103</td>\n",
       "      <td>169</td>\n",
       "      <td>163</td>\n",
       "      <td>6</td>\n",
       "    </tr>\n",
       "    <tr>\n",
       "      <th>Blood Vessel</th>\n",
       "      <td>75</td>\n",
       "      <td>75</td>\n",
       "      <td>160</td>\n",
       "      <td>310</td>\n",
       "      <td>273</td>\n",
       "      <td>20</td>\n",
       "    </tr>\n",
       "    <tr>\n",
       "      <th>Brain</th>\n",
       "      <td>12</td>\n",
       "      <td>8</td>\n",
       "      <td>36</td>\n",
       "      <td>112</td>\n",
       "      <td>152</td>\n",
       "      <td>11</td>\n",
       "    </tr>\n",
       "    <tr>\n",
       "      <th>Breast</th>\n",
       "      <td>26</td>\n",
       "      <td>32</td>\n",
       "      <td>53</td>\n",
       "      <td>88</td>\n",
       "      <td>81</td>\n",
       "      <td>10</td>\n",
       "    </tr>\n",
       "    <tr>\n",
       "      <th>Colon</th>\n",
       "      <td>45</td>\n",
       "      <td>48</td>\n",
       "      <td>95</td>\n",
       "      <td>164</td>\n",
       "      <td>140</td>\n",
       "      <td>15</td>\n",
       "    </tr>\n",
       "    <tr>\n",
       "      <th>Esophagus</th>\n",
       "      <td>102</td>\n",
       "      <td>91</td>\n",
       "      <td>191</td>\n",
       "      <td>356</td>\n",
       "      <td>258</td>\n",
       "      <td>23</td>\n",
       "    </tr>\n",
       "    <tr>\n",
       "      <th>Heart</th>\n",
       "      <td>33</td>\n",
       "      <td>29</td>\n",
       "      <td>95</td>\n",
       "      <td>220</td>\n",
       "      <td>205</td>\n",
       "      <td>18</td>\n",
       "    </tr>\n",
       "    <tr>\n",
       "      <th>Lung</th>\n",
       "      <td>27</td>\n",
       "      <td>30</td>\n",
       "      <td>76</td>\n",
       "      <td>145</td>\n",
       "      <td>139</td>\n",
       "      <td>10</td>\n",
       "    </tr>\n",
       "    <tr>\n",
       "      <th>Muscle</th>\n",
       "      <td>46</td>\n",
       "      <td>45</td>\n",
       "      <td>88</td>\n",
       "      <td>188</td>\n",
       "      <td>179</td>\n",
       "      <td>18</td>\n",
       "    </tr>\n",
       "    <tr>\n",
       "      <th>Nerve</th>\n",
       "      <td>33</td>\n",
       "      <td>33</td>\n",
       "      <td>70</td>\n",
       "      <td>130</td>\n",
       "      <td>133</td>\n",
       "      <td>15</td>\n",
       "    </tr>\n",
       "    <tr>\n",
       "      <th>Pancreas</th>\n",
       "      <td>20</td>\n",
       "      <td>21</td>\n",
       "      <td>53</td>\n",
       "      <td>95</td>\n",
       "      <td>57</td>\n",
       "      <td>2</td>\n",
       "    </tr>\n",
       "    <tr>\n",
       "      <th>Skin</th>\n",
       "      <td>98</td>\n",
       "      <td>94</td>\n",
       "      <td>200</td>\n",
       "      <td>398</td>\n",
       "      <td>377</td>\n",
       "      <td>35</td>\n",
       "    </tr>\n",
       "    <tr>\n",
       "      <th>Stomach</th>\n",
       "      <td>33</td>\n",
       "      <td>27</td>\n",
       "      <td>52</td>\n",
       "      <td>93</td>\n",
       "      <td>55</td>\n",
       "      <td>1</td>\n",
       "    </tr>\n",
       "    <tr>\n",
       "      <th>Testis</th>\n",
       "      <td>25</td>\n",
       "      <td>25</td>\n",
       "      <td>38</td>\n",
       "      <td>90</td>\n",
       "      <td>75</td>\n",
       "      <td>6</td>\n",
       "    </tr>\n",
       "    <tr>\n",
       "      <th>Thyroid</th>\n",
       "      <td>30</td>\n",
       "      <td>29</td>\n",
       "      <td>81</td>\n",
       "      <td>151</td>\n",
       "      <td>143</td>\n",
       "      <td>12</td>\n",
       "    </tr>\n",
       "  </tbody>\n",
       "</table>\n",
       "</div>"
      ],
      "text/plain": [
       "AGE             20-29  30-39  40-49  50-59  60-69  70-79\n",
       "SMTS                                                    \n",
       "Adipose Tissue     57     66    131    273    245     25\n",
       "Blood              50     46    103    169    163      6\n",
       "Blood Vessel       75     75    160    310    273     20\n",
       "Brain              12      8     36    112    152     11\n",
       "Breast             26     32     53     88     81     10\n",
       "Colon              45     48     95    164    140     15\n",
       "Esophagus         102     91    191    356    258     23\n",
       "Heart              33     29     95    220    205     18\n",
       "Lung               27     30     76    145    139     10\n",
       "Muscle             46     45     88    188    179     18\n",
       "Nerve              33     33     70    130    133     15\n",
       "Pancreas           20     21     53     95     57      2\n",
       "Skin               98     94    200    398    377     35\n",
       "Stomach            33     27     52     93     55      1\n",
       "Testis             25     25     38     90     75      6\n",
       "Thyroid            30     29     81    151    143     12"
      ]
     },
     "metadata": {},
     "output_type": "display_data"
    }
   ],
   "source": [
    "df=meta[meta['SMTS'].isin(counts[counts['SMTS']>200].index)]\n",
    "df=pd.crosstab(index=df['SMTS'],columns=df['AGE'])\n",
    "display(df)"
   ]
  },
  {
   "cell_type": "code",
   "execution_count": 5,
   "metadata": {},
   "outputs": [
    {
     "data": {
      "text/plain": [
       "['Colon_c.tsv', 'Colon_lcpm.tsv', 'Colon_cpm.tsv']"
      ]
     },
     "execution_count": 5,
     "metadata": {},
     "output_type": "execute_result"
    }
   ],
   "source": [
    "TISSUE='Colon'\n",
    "infiles=listdir(data_dir/tissue_dir)\n",
    "TISSUE_files=[f for f in infiles if  TISSUE in f]\n",
    "TISSUE_files\n",
    "# Just need to confirm that they are all here"
   ]
  },
  {
   "cell_type": "markdown",
   "metadata": {},
   "source": [
    "## Reading CPM and LCPM files."
   ]
  },
  {
   "cell_type": "code",
   "execution_count": 6,
   "metadata": {},
   "outputs": [],
   "source": [
    "cpm=pd.read_csv(data_dir/tissue_dir/str(TISSUE+\"_cpm.tsv\"),sep=\"\\t\",index_col=0)\n",
    "lcpm=pd.read_csv(data_dir/tissue_dir/str(TISSUE+\"_lcpm.tsv\"),sep=\"\\t\",index_col=0)\n",
    "cdat=pd.read_csv(data_dir/tissue_dir/str(TISSUE+\"_c.tsv\"),sep=\"\\t\",index_col=0)"
   ]
  },
  {
   "cell_type": "code",
   "execution_count": 7,
   "metadata": {},
   "outputs": [
    {
     "name": "stderr",
     "output_type": "stream",
     "text": [
      "/home/imlay/programs.installed/anaconda3/envs/cs418env/lib/python3.7/site-packages/scipy/stats/stats.py:1713: FutureWarning: Using a non-tuple sequence for multidimensional indexing is deprecated; use `arr[tuple(seq)]` instead of `arr[seq]`. In the future this will be interpreted as an array index, `arr[np.array(seq)]`, which will result either in an error or a different result.\n",
      "  return np.add.reduce(sorted[indexer] * weights, axis=axis) / sumval\n"
     ]
    },
    {
     "data": {
      "text/html": [
       "<div>\n",
       "<style scoped>\n",
       "    .dataframe tbody tr th:only-of-type {\n",
       "        vertical-align: middle;\n",
       "    }\n",
       "\n",
       "    .dataframe tbody tr th {\n",
       "        vertical-align: top;\n",
       "    }\n",
       "\n",
       "    .dataframe thead th {\n",
       "        text-align: right;\n",
       "    }\n",
       "</style>\n",
       "<table border=\"1\" class=\"dataframe\">\n",
       "  <thead>\n",
       "    <tr style=\"text-align: right;\">\n",
       "      <th></th>\n",
       "      <th>ENSG00000223972</th>\n",
       "      <th>ENSG00000227232</th>\n",
       "      <th>ENSG00000243485</th>\n",
       "      <th>ENSG00000237613</th>\n",
       "      <th>ENSG00000268020</th>\n",
       "      <th>ENSG00000240361</th>\n",
       "    </tr>\n",
       "  </thead>\n",
       "  <tbody>\n",
       "    <tr>\n",
       "      <th>GTEX-111CU-1226-SM-5EGIN</th>\n",
       "      <td>0.037198</td>\n",
       "      <td>5.691331</td>\n",
       "      <td>0.018599</td>\n",
       "      <td>0.018599</td>\n",
       "      <td>0.037198</td>\n",
       "      <td>0.018599</td>\n",
       "    </tr>\n",
       "    <tr>\n",
       "      <th>GTEX-111YS-1826-SM-5GIEP</th>\n",
       "      <td>0.096569</td>\n",
       "      <td>6.006591</td>\n",
       "      <td>0.038628</td>\n",
       "      <td>0.019314</td>\n",
       "      <td>0.057941</td>\n",
       "      <td>0.019314</td>\n",
       "    </tr>\n",
       "    <tr>\n",
       "      <th>GTEX-1122O-1426-SM-5H11R</th>\n",
       "      <td>0.029172</td>\n",
       "      <td>8.868290</td>\n",
       "      <td>0.014586</td>\n",
       "      <td>0.000000</td>\n",
       "      <td>0.014586</td>\n",
       "      <td>0.029172</td>\n",
       "    </tr>\n",
       "    <tr>\n",
       "      <th>GTEX-117XS-2226-SM-5GIE1</th>\n",
       "      <td>0.056571</td>\n",
       "      <td>10.899255</td>\n",
       "      <td>0.018857</td>\n",
       "      <td>0.056571</td>\n",
       "      <td>0.037714</td>\n",
       "      <td>0.037714</td>\n",
       "    </tr>\n",
       "    <tr>\n",
       "      <th>GTEX-117YX-0526-SM-5EGJH</th>\n",
       "      <td>0.033939</td>\n",
       "      <td>5.854534</td>\n",
       "      <td>0.000000</td>\n",
       "      <td>0.033939</td>\n",
       "      <td>0.000000</td>\n",
       "      <td>0.016970</td>\n",
       "    </tr>\n",
       "  </tbody>\n",
       "</table>\n",
       "</div>"
      ],
      "text/plain": [
       "                          ENSG00000223972  ENSG00000227232  ENSG00000243485  \\\n",
       "GTEX-111CU-1226-SM-5EGIN         0.037198         5.691331         0.018599   \n",
       "GTEX-111YS-1826-SM-5GIEP         0.096569         6.006591         0.038628   \n",
       "GTEX-1122O-1426-SM-5H11R         0.029172         8.868290         0.014586   \n",
       "GTEX-117XS-2226-SM-5GIE1         0.056571        10.899255         0.018857   \n",
       "GTEX-117YX-0526-SM-5EGJH         0.033939         5.854534         0.000000   \n",
       "\n",
       "                          ENSG00000237613  ENSG00000268020  ENSG00000240361  \n",
       "GTEX-111CU-1226-SM-5EGIN         0.018599         0.037198         0.018599  \n",
       "GTEX-111YS-1826-SM-5GIEP         0.019314         0.057941         0.019314  \n",
       "GTEX-1122O-1426-SM-5H11R         0.000000         0.014586         0.029172  \n",
       "GTEX-117XS-2226-SM-5GIE1         0.056571         0.037714         0.037714  \n",
       "GTEX-117YX-0526-SM-5EGJH         0.033939         0.000000         0.016970  "
      ]
     },
     "execution_count": 7,
     "metadata": {},
     "output_type": "execute_result"
    },
    {
     "data": {
      "image/png": "[encoded data removed]",
      "text/plain": [
       "<Figure size 1152x432 with 1 Axes>"
      ]
     },
     "metadata": {
      "needs_background": "light"
     },
     "output_type": "display_data"
    }
   ],
   "source": [
    "lib_size=np.sum(cdat,axis=1)\n",
    "plt.figure(figsize=(16, 6))\n",
    "sns.distplot(lib_size,kde=False,rug=True)\n",
    "cpm.iloc[0:5,0:6]"
   ]
  },
  {
   "cell_type": "code",
   "execution_count": 8,
   "metadata": {},
   "outputs": [
    {
     "data": {
      "text/html": [
       "<div>\n",
       "<style scoped>\n",
       "    .dataframe tbody tr th:only-of-type {\n",
       "        vertical-align: middle;\n",
       "    }\n",
       "\n",
       "    .dataframe tbody tr th {\n",
       "        vertical-align: top;\n",
       "    }\n",
       "\n",
       "    .dataframe thead th {\n",
       "        text-align: right;\n",
       "    }\n",
       "</style>\n",
       "<table border=\"1\" class=\"dataframe\">\n",
       "  <thead>\n",
       "    <tr style=\"text-align: right;\">\n",
       "      <th></th>\n",
       "      <th>ENSG00000223972</th>\n",
       "      <th>ENSG00000227232</th>\n",
       "      <th>ENSG00000243485</th>\n",
       "      <th>ENSG00000237613</th>\n",
       "      <th>ENSG00000268020</th>\n",
       "      <th>ENSG00000240361</th>\n",
       "    </tr>\n",
       "  </thead>\n",
       "  <tbody>\n",
       "    <tr>\n",
       "      <th>GTEX-111CU-1226-SM-5EGIN</th>\n",
       "      <td>-3.848209</td>\n",
       "      <td>2.516914</td>\n",
       "      <td>-4.298031</td>\n",
       "      <td>-4.298031</td>\n",
       "      <td>-3.848209</td>\n",
       "      <td>-4.298031</td>\n",
       "    </tr>\n",
       "    <tr>\n",
       "      <th>GTEX-111YS-1826-SM-5GIEP</th>\n",
       "      <td>-2.956740</td>\n",
       "      <td>2.594268</td>\n",
       "      <td>-3.818812</td>\n",
       "      <td>-4.277890</td>\n",
       "      <td>-3.471091</td>\n",
       "      <td>-4.277890</td>\n",
       "    </tr>\n",
       "    <tr>\n",
       "      <th>GTEX-1122O-1426-SM-5H11R</th>\n",
       "      <td>-4.025430</td>\n",
       "      <td>3.153890</td>\n",
       "      <td>-4.416670</td>\n",
       "      <td>-4.955184</td>\n",
       "      <td>-4.416670</td>\n",
       "      <td>-4.025430</td>\n",
       "    </tr>\n",
       "    <tr>\n",
       "      <th>GTEX-117XS-2226-SM-5GIE1</th>\n",
       "      <td>-3.493191</td>\n",
       "      <td>3.450418</td>\n",
       "      <td>-4.290735</td>\n",
       "      <td>-3.493191</td>\n",
       "      <td>-3.837539</td>\n",
       "      <td>-3.837539</td>\n",
       "    </tr>\n",
       "    <tr>\n",
       "      <th>GTEX-117YX-0526-SM-5EGJH</th>\n",
       "      <td>-3.917563</td>\n",
       "      <td>2.557476</td>\n",
       "      <td>-4.955184</td>\n",
       "      <td>-3.917563</td>\n",
       "      <td>-4.955184</td>\n",
       "      <td>-4.345032</td>\n",
       "    </tr>\n",
       "  </tbody>\n",
       "</table>\n",
       "</div>"
      ],
      "text/plain": [
       "                          ENSG00000223972  ENSG00000227232  ENSG00000243485  \\\n",
       "GTEX-111CU-1226-SM-5EGIN        -3.848209         2.516914        -4.298031   \n",
       "GTEX-111YS-1826-SM-5GIEP        -2.956740         2.594268        -3.818812   \n",
       "GTEX-1122O-1426-SM-5H11R        -4.025430         3.153890        -4.416670   \n",
       "GTEX-117XS-2226-SM-5GIE1        -3.493191         3.450418        -4.290735   \n",
       "GTEX-117YX-0526-SM-5EGJH        -3.917563         2.557476        -4.955184   \n",
       "\n",
       "                          ENSG00000237613  ENSG00000268020  ENSG00000240361  \n",
       "GTEX-111CU-1226-SM-5EGIN        -4.298031        -3.848209        -4.298031  \n",
       "GTEX-111YS-1826-SM-5GIEP        -4.277890        -3.471091        -4.277890  \n",
       "GTEX-1122O-1426-SM-5H11R        -4.955184        -4.416670        -4.025430  \n",
       "GTEX-117XS-2226-SM-5GIE1        -3.493191        -3.837539        -3.837539  \n",
       "GTEX-117YX-0526-SM-5EGJH        -3.917563        -4.955184        -4.345032  "
      ]
     },
     "execution_count": 8,
     "metadata": {},
     "output_type": "execute_result"
    }
   ],
   "source": [
    "lcpm.iloc[0:5,0:6]"
   ]
  },
  {
   "cell_type": "markdown",
   "metadata": {},
   "source": [
    "### Merging metadata"
   ]
  },
  {
   "cell_type": "code",
   "execution_count": 9,
   "metadata": {
    "scrolled": true
   },
   "outputs": [
    {
     "data": {
      "text/html": [
       "<div>\n",
       "<style scoped>\n",
       "    .dataframe tbody tr th:only-of-type {\n",
       "        vertical-align: middle;\n",
       "    }\n",
       "\n",
       "    .dataframe tbody tr th {\n",
       "        vertical-align: top;\n",
       "    }\n",
       "\n",
       "    .dataframe thead th {\n",
       "        text-align: right;\n",
       "    }\n",
       "</style>\n",
       "<table border=\"1\" class=\"dataframe\">\n",
       "  <thead>\n",
       "    <tr style=\"text-align: right;\">\n",
       "      <th></th>\n",
       "      <th>SAMPID</th>\n",
       "      <th>SMATSSCR</th>\n",
       "      <th>SMCENTER</th>\n",
       "      <th>SMPTHNTS</th>\n",
       "      <th>SMRIN</th>\n",
       "      <th>SMTS</th>\n",
       "      <th>SMTSD</th>\n",
       "      <th>SMUBRID</th>\n",
       "      <th>SMTSISCH</th>\n",
       "      <th>SMTSPAX</th>\n",
       "      <th>...</th>\n",
       "      <th>SME1PCTS</th>\n",
       "      <th>SMRRNART</th>\n",
       "      <th>SME1MPRT</th>\n",
       "      <th>SMNUM5CD</th>\n",
       "      <th>SMDPMPRT</th>\n",
       "      <th>SME2PCTS</th>\n",
       "      <th>SUBJID</th>\n",
       "      <th>SEX</th>\n",
       "      <th>AGE</th>\n",
       "      <th>DTHHRDY</th>\n",
       "    </tr>\n",
       "  </thead>\n",
       "  <tbody>\n",
       "    <tr>\n",
       "      <th>4356</th>\n",
       "      <td>GTEX-111CU-1226-SM-5EGIN</td>\n",
       "      <td>1.0</td>\n",
       "      <td>B1</td>\n",
       "      <td>6 pieces, well trimmed of mucosa</td>\n",
       "      <td>7.3</td>\n",
       "      <td>Colon</td>\n",
       "      <td>Colon - Sigmoid</td>\n",
       "      <td>0001159</td>\n",
       "      <td>91.0</td>\n",
       "      <td>618.0</td>\n",
       "      <td>...</td>\n",
       "      <td>50.321377</td>\n",
       "      <td>0.004702</td>\n",
       "      <td>0.994489</td>\n",
       "      <td>NaN</td>\n",
       "      <td>0.0</td>\n",
       "      <td>50.012290</td>\n",
       "      <td>GTEX-111CU</td>\n",
       "      <td>1.0</td>\n",
       "      <td>50-59</td>\n",
       "      <td>0.0</td>\n",
       "    </tr>\n",
       "    <tr>\n",
       "      <th>4357</th>\n",
       "      <td>GTEX-111YS-1826-SM-5GIEP</td>\n",
       "      <td>0.0</td>\n",
       "      <td>B1</td>\n",
       "      <td>6 pieces; muscularis (target) with up to 1 mm ...</td>\n",
       "      <td>7.8</td>\n",
       "      <td>Colon</td>\n",
       "      <td>Colon - Sigmoid</td>\n",
       "      <td>0001159</td>\n",
       "      <td>182.0</td>\n",
       "      <td>707.0</td>\n",
       "      <td>...</td>\n",
       "      <td>50.184856</td>\n",
       "      <td>0.006219</td>\n",
       "      <td>0.994353</td>\n",
       "      <td>NaN</td>\n",
       "      <td>0.0</td>\n",
       "      <td>50.037487</td>\n",
       "      <td>GTEX-111YS</td>\n",
       "      <td>1.0</td>\n",
       "      <td>60-69</td>\n",
       "      <td>0.0</td>\n",
       "    </tr>\n",
       "    <tr>\n",
       "      <th>4358</th>\n",
       "      <td>GTEX-1122O-1426-SM-5H11R</td>\n",
       "      <td>0.0</td>\n",
       "      <td>B1</td>\n",
       "      <td>6 pieces, well trimmed</td>\n",
       "      <td>7.2</td>\n",
       "      <td>Colon</td>\n",
       "      <td>Colon - Sigmoid</td>\n",
       "      <td>0001159</td>\n",
       "      <td>106.0</td>\n",
       "      <td>897.0</td>\n",
       "      <td>...</td>\n",
       "      <td>50.095474</td>\n",
       "      <td>0.005570</td>\n",
       "      <td>0.994912</td>\n",
       "      <td>NaN</td>\n",
       "      <td>0.0</td>\n",
       "      <td>50.197144</td>\n",
       "      <td>GTEX-1122O</td>\n",
       "      <td>2.0</td>\n",
       "      <td>60-69</td>\n",
       "      <td>0.0</td>\n",
       "    </tr>\n",
       "  </tbody>\n",
       "</table>\n",
       "<p>3 rows × 67 columns</p>\n",
       "</div>"
      ],
      "text/plain": [
       "                        SAMPID  SMATSSCR SMCENTER  \\\n",
       "4356  GTEX-111CU-1226-SM-5EGIN       1.0       B1   \n",
       "4357  GTEX-111YS-1826-SM-5GIEP       0.0       B1   \n",
       "4358  GTEX-1122O-1426-SM-5H11R       0.0       B1   \n",
       "\n",
       "                                               SMPTHNTS  SMRIN   SMTS  \\\n",
       "4356                   6 pieces, well trimmed of mucosa    7.3  Colon   \n",
       "4357  6 pieces; muscularis (target) with up to 1 mm ...    7.8  Colon   \n",
       "4358                             6 pieces, well trimmed    7.2  Colon   \n",
       "\n",
       "                SMTSD  SMUBRID  SMTSISCH  SMTSPAX   ...      SME1PCTS  \\\n",
       "4356  Colon - Sigmoid  0001159      91.0    618.0   ...     50.321377   \n",
       "4357  Colon - Sigmoid  0001159     182.0    707.0   ...     50.184856   \n",
       "4358  Colon - Sigmoid  0001159     106.0    897.0   ...     50.095474   \n",
       "\n",
       "      SMRRNART  SME1MPRT SMNUM5CD SMDPMPRT   SME2PCTS      SUBJID  SEX    AGE  \\\n",
       "4356  0.004702  0.994489      NaN      0.0  50.012290  GTEX-111CU  1.0  50-59   \n",
       "4357  0.006219  0.994353      NaN      0.0  50.037487  GTEX-111YS  1.0  60-69   \n",
       "4358  0.005570  0.994912      NaN      0.0  50.197144  GTEX-1122O  2.0  60-69   \n",
       "\n",
       "      DTHHRDY  \n",
       "4356      0.0  \n",
       "4357      0.0  \n",
       "4358      0.0  \n",
       "\n",
       "[3 rows x 67 columns]"
      ]
     },
     "execution_count": 9,
     "metadata": {},
     "output_type": "execute_result"
    }
   ],
   "source": [
    "tissue_meta=meta[(meta['SMTS']==TISSUE)]\n",
    "tissue_meta.iloc[0:3]"
   ]
  },
  {
   "cell_type": "markdown",
   "metadata": {},
   "source": [
    "## Test and Train Set Creation"
   ]
  },
  {
   "cell_type": "code",
   "execution_count": 10,
   "metadata": {},
   "outputs": [
    {
     "name": "stdout",
     "output_type": "stream",
     "text": [
      "(354, 56202)\n",
      "(153, 56202)\n",
      "(354,)\n",
      "(153,)\n",
      "GTEX-14PHX-1126-SM-5YYA5\n",
      "GTEX-14PHX-1126-SM-5YYA5\n"
     ]
    },
    {
     "data": {
      "text/plain": [
       "17.231292534812336"
      ]
     },
     "execution_count": 10,
     "metadata": {},
     "output_type": "execute_result"
    }
   ],
   "source": [
    "cdat_train, cdat_test, y_train, y_test = \\\n",
    "        sklearn.model_selection.train_test_split(cdat, tissue_meta['AGE'], test_size=.3, random_state=1234)\n",
    "cpm_train, cpm_test, y_train, y_test = \\\n",
    "        sklearn.model_selection.train_test_split(cpm, tissue_meta['AGE'], test_size=.3, random_state=1234) # random state guarantees that the same split is made for a given tissue.\n",
    "print(cpm_train.shape)\n",
    "print(cpm_test.shape)\n",
    "print(y_train.shape)\n",
    "print(y_test.shape)\n",
    "#GTEX-P78B-1326-SM-3P611 for reference for liver\n",
    "print(cdat_train.index[0])\n",
    "print(cpm_train.index[0]) # Confirms that two different calls to train_test_split on a different data set produce the same results\n",
    "sum(cpm_train.iloc[:,0]) # Confirms that the split is the same each time"
   ]
  },
  {
   "cell_type": "markdown",
   "metadata": {},
   "source": [
    "## Filter Lowly Expressed or Low Variance Genes\n",
    "As adapted from the edgeR package function [filterByExpression](https://rdrr.io/bioc/edgeR/src/R/filterByExpr.R)."
   ]
  },
  {
   "cell_type": "code",
   "execution_count": 11,
   "metadata": {
    "scrolled": true
   },
   "outputs": [],
   "source": [
    "# Likely not possible in Python as cpm() is required\n",
    "def filter_by_expr(counts,min_count=None,min_sample=None,grp=None):\n",
    "    lib_size=np.sum(counts,axis=1)\n",
    "    MedianLibSize=np.median(lib_size)\n",
    "    norm_cutoff=min_count/MedianLibSize*1e6\n",
    "    print(norm_cutoff)\n",
    "    gene_counts=np.sum(counts)\n",
    "#filter_by_expr(cpm_train)"
   ]
  },
  {
   "cell_type": "markdown",
   "metadata": {},
   "source": [
    "### Filter by simple raw count threshold\n",
    "Still as adapted from `filterByExpression`."
   ]
  },
  {
   "cell_type": "code",
   "execution_count": 12,
   "metadata": {},
   "outputs": [
    {
     "name": "stdout",
     "output_type": "stream",
     "text": [
      "Pre 56202\n",
      "Post 44995\n",
      "(153, 44995)\n",
      "(354, 44995)\n"
     ]
    }
   ],
   "source": [
    "# Biased against samples with a smaller library size\n",
    "def simpleExpressionFilter(counts,min_count):\n",
    "    \"\"\"accepts raw counts and a minimum sum count per gene across all samples\n",
    "    return a boolean array of all genes, which can be applied to any transformed counts.\n",
    "    True is associated with passing the test.\n",
    "    \"\"\"\n",
    "    keep=np.sum(counts)>min_count\n",
    "    print(\"Pre\",counts.shape[1])\n",
    "    filtered_counts=counts.loc[:,(keep)] # similar to how the boolean array would be used on any count matrix\n",
    "    print(\"Post\",filtered_counts.shape[1])\n",
    "    return(keep)\n",
    "keep_expr=simpleExpressionFilter(cdat_train,10)\n",
    "cpm_train_expression_filter=cpm_train.loc[:,(keep_expr)]\n",
    "cpm_test_expression_filter=cpm_test.loc[:,(keep_expr)]\n",
    "print(cpm_test_expression_filter.shape) # confirming that both train and test set have undergone transformation identically\n",
    "print(cpm_train_expression_filter.shape)"
   ]
  },
  {
   "cell_type": "markdown",
   "metadata": {},
   "source": [
    "### Filter by variance"
   ]
  },
  {
   "cell_type": "code",
   "execution_count": 13,
   "metadata": {},
   "outputs": [
    {
     "name": "stdout",
     "output_type": "stream",
     "text": [
      "Pre 44995\n",
      "Post 18572\n",
      "(354, 18572)\n",
      "(153, 18572)\n"
     ]
    }
   ],
   "source": [
    "selector=sklearn.feature_selection.VarianceThreshold(threshold=.1)\n",
    "selector.fit(cpm_train_expression_filter)\n",
    "var_keep=selector.get_support(indices=True)\n",
    "train_final=cpm_train_expression_filter.iloc[:,var_keep]\n",
    "test_final=cpm_test_expression_filter.iloc[:,var_keep]\n",
    "print(\"Pre\",cpm_train_expression_filter.shape[1])\n",
    "print(\"Post\",train_final.shape[1])\n",
    "\n",
    "print(train_final.shape) # confirming that both train and test set have undergone transformation identically\n",
    "print(test_final.shape)"
   ]
  },
  {
   "cell_type": "markdown",
   "metadata": {},
   "source": [
    "### Plotting mean distribution of genes after each processing step"
   ]
  },
  {
   "cell_type": "code",
   "execution_count": 14,
   "metadata": {},
   "outputs": [
    {
     "name": "stderr",
     "output_type": "stream",
     "text": [
      "/home/imlay/programs.installed/anaconda3/envs/cs418env/lib/python3.7/site-packages/ipykernel_launcher.py:1: RuntimeWarning: divide by zero encountered in log2\n",
      "  \"\"\"Entry point for launching an IPython kernel.\n",
      "/home/imlay/programs.installed/anaconda3/envs/cs418env/lib/python3.7/site-packages/scipy/stats/stats.py:1713: FutureWarning: Using a non-tuple sequence for multidimensional indexing is deprecated; use `arr[tuple(seq)]` instead of `arr[seq]`. In the future this will be interpreted as an array index, `arr[np.array(seq)]`, which will result either in an error or a different result.\n",
      "  return np.add.reduce(sorted[indexer] * weights, axis=axis) / sumval\n"
     ]
    },
    {
     "data": {
      "image/png": "[encoded data removed]",
      "text/plain": [
       "<Figure size 432x288 with 1 Axes>"
      ]
     },
     "metadata": {
      "needs_background": "light"
     },
     "output_type": "display_data"
    }
   ],
   "source": [
    "ax=sns.kdeplot(np.log2(np.mean(cpm_train,axis=0)))\n",
    "ax=sns.kdeplot(np.log2(np.mean(cpm_train_expression_filter,axis=0)))\n",
    "ax=sns.kdeplot(np.log2(np.mean(train_final,axis=0)))"
   ]
  },
  {
   "cell_type": "markdown",
   "metadata": {},
   "source": [
    "## Training XGB model"
   ]
  },
  {
   "cell_type": "code",
   "execution_count": 15,
   "metadata": {},
   "outputs": [],
   "source": [
    "import xgboost as xgb\n",
    "from xgboost.sklearn import XGBClassifier\n",
    "from sklearn.model_selection import cross_validate,GridSearchCV\n",
    "from sklearn import metrics #Additional scklearn functions"
   ]
  },
  {
   "cell_type": "markdown",
   "metadata": {},
   "source": [
    "### Fitting function"
   ]
  },
  {
   "cell_type": "code",
   "execution_count": 21,
   "metadata": {},
   "outputs": [],
   "source": [
    "def modelfit(alg, dtrain, predictors, target, useTrainCV=True, cv_folds=5, early_stopping_rounds=50):\n",
    "    \n",
    "    if useTrainCV:\n",
    "        xgb_param = alg.get_xgb_params()\n",
    "        xgtrain = xgb.DMatrix(dtrain[predictors].values, label=dtrain[target].values)\n",
    "        cvresult = xgb.cv(xgb_param, xgtrain, num_boost_round=alg.get_params()['n_estimators'], nfold=cv_folds,\n",
    "            metrics='auc', early_stopping_rounds=early_stopping_rounds)\n",
    "        alg.set_params(n_estimators=cvresult.shape[0])\n",
    "    \n",
    "    #Fit the algorithm on the data\n",
    "    alg.fit(dtrain[predictors], dtrain[target],eval_metric='auc')\n",
    "        \n",
    "    #Predict training set:\n",
    "    dtrain_predictions = alg.predict(dtrain[predictors])\n",
    "    dtrain_predprob = alg.predict_proba(dtrain[predictors])[:,1]\n",
    "        \n",
    "    #Only reports on self-validated predictions\n",
    "    print(\"Internal Model Report\")\n",
    "    print( \"Accuracy : %.4g\" % metrics.accuracy_score(dtrain[target].values, dtrain_predictions))\n",
    "    print( \"AUC Score (Train): %f\" % metrics.roc_auc_score(dtrain[target], dtrain_predprob))\n",
    "    \n",
    "    feat_imp = pd.Series(alg.get_booster().get_score(importance_type='weight')).sort_values(ascending=False)[:10]\n",
    "    feat_imp.plot(kind='bar', title='Feature Importances')\n",
    "    plt.ylabel('Feature Importance Score')\n",
    "    return (alg,feat_imp)"
   ]
  },
  {
   "cell_type": "markdown",
   "metadata": {},
   "source": [
    "### Finalizing training data"
   ]
  },
  {
   "cell_type": "code",
   "execution_count": 17,
   "metadata": {
    "scrolled": false
   },
   "outputs": [
    {
     "data": {
      "text/html": [
       "<div>\n",
       "<style scoped>\n",
       "    .dataframe tbody tr th:only-of-type {\n",
       "        vertical-align: middle;\n",
       "    }\n",
       "\n",
       "    .dataframe tbody tr th {\n",
       "        vertical-align: top;\n",
       "    }\n",
       "\n",
       "    .dataframe thead th {\n",
       "        text-align: right;\n",
       "    }\n",
       "</style>\n",
       "<table border=\"1\" class=\"dataframe\">\n",
       "  <thead>\n",
       "    <tr style=\"text-align: right;\">\n",
       "      <th></th>\n",
       "      <th>20-29</th>\n",
       "      <th>30-39</th>\n",
       "      <th>40-49</th>\n",
       "      <th>50-59</th>\n",
       "      <th>60-69</th>\n",
       "      <th>70-79</th>\n",
       "    </tr>\n",
       "  </thead>\n",
       "  <tbody>\n",
       "    <tr>\n",
       "      <th>0</th>\n",
       "      <td>0</td>\n",
       "      <td>0</td>\n",
       "      <td>0</td>\n",
       "      <td>1</td>\n",
       "      <td>0</td>\n",
       "      <td>0</td>\n",
       "    </tr>\n",
       "    <tr>\n",
       "      <th>1</th>\n",
       "      <td>0</td>\n",
       "      <td>0</td>\n",
       "      <td>0</td>\n",
       "      <td>1</td>\n",
       "      <td>0</td>\n",
       "      <td>0</td>\n",
       "    </tr>\n",
       "    <tr>\n",
       "      <th>2</th>\n",
       "      <td>0</td>\n",
       "      <td>0</td>\n",
       "      <td>0</td>\n",
       "      <td>0</td>\n",
       "      <td>1</td>\n",
       "      <td>0</td>\n",
       "    </tr>\n",
       "  </tbody>\n",
       "</table>\n",
       "</div>"
      ],
      "text/plain": [
       "   20-29  30-39  40-49  50-59  60-69  70-79\n",
       "0      0      0      0      1      0      0\n",
       "1      0      0      0      1      0      0\n",
       "2      0      0      0      0      1      0"
      ]
     },
     "execution_count": 17,
     "metadata": {},
     "output_type": "execute_result"
    }
   ],
   "source": [
    "predictors=train_final.columns\n",
    "target='60-69'\n",
    "\n",
    "train_age_encoding=pd.get_dummies(y_train.values)\n",
    "test_age_encoding=pd.get_dummies(y_test.values)\n",
    "\n",
    "\n",
    "dtrain=pd.concat([train_final.reset_index(drop=True),train_age_encoding[target]],axis=1)\n",
    "dtrain=dtrain.set_index(cpm_train.index.values)\n",
    "train_age_encoding.iloc[:3,:]"
   ]
  },
  {
   "cell_type": "markdown",
   "metadata": {},
   "source": [
    "### Define XGB1"
   ]
  },
  {
   "cell_type": "code",
   "execution_count": 22,
   "metadata": {},
   "outputs": [
    {
     "name": "stdout",
     "output_type": "stream",
     "text": [
      "Internal Model Report\n",
      "Accuracy : 1\n",
      "AUC Score (Train): 1.000000\n"
     ]
    },
    {
     "data": {
      "image/png": "[encoded data removed]",
      "text/plain": [
       "<Figure size 432x288 with 1 Axes>"
      ]
     },
     "metadata": {
      "needs_background": "light"
     },
     "output_type": "display_data"
    }
   ],
   "source": [
    "xgb1 = XGBClassifier(\n",
    " learning_rate =0.1,\n",
    " n_estimators=1000,\n",
    " max_depth=5,\n",
    " min_child_weight=1,\n",
    " gamma=0,\n",
    " subsample=0.8,\n",
    " colsample_bytree=0.8,\n",
    " objective= 'binary:logistic',\n",
    " nthread=16,\n",
    " scale_pos_weight=1,\n",
    " seed=1234)\n",
    "fit_xgb,feat_imp=modelfit(xgb1, dtrain, predictors, target)"
   ]
  },
  {
   "cell_type": "markdown",
   "metadata": {},
   "source": [
    "## Test set validation"
   ]
  },
  {
   "cell_type": "markdown",
   "metadata": {},
   "source": [
    "$$Precision=\\frac{TP}{TP+FP}$$\n",
    "\n",
    "$$Recall=\\frac{TP}{TP+FN}$$\n",
    "\n",
    "$$F1 = 2\\times \\frac{precision \\times recall}{precision+recall}$$"
   ]
  },
  {
   "cell_type": "code",
   "execution_count": 23,
   "metadata": {},
   "outputs": [
    {
     "name": "stdout",
     "output_type": "stream",
     "text": [
      "0.7647058823529411\n",
      "0.4375\n"
     ]
    }
   ],
   "source": [
    "y_test_target=test_age_encoding[target]\n",
    "y_preds=fit_xgb.predict(test_final)\n",
    "print(metrics.accuracy_score(y_test_target,y_preds))\n",
    "print(metrics.f1_score(y_test_target,y_preds))"
   ]
  },
  {
   "cell_type": "code",
   "execution_count": 24,
   "metadata": {},
   "outputs": [
    {
     "data": {
      "text/plain": [
       "ENSG00000244694    12\n",
       "ENSG00000197646     5\n",
       "ENSG00000240376     4\n",
       "ENSG00000141560     4\n",
       "ENSG00000122966     4\n",
       "ENSG00000112319     3\n",
       "ENSG00000123405     3\n",
       "ENSG00000101307     3\n",
       "ENSG00000110244     3\n",
       "ENSG00000132932     2\n",
       "dtype: int64"
      ]
     },
     "execution_count": 24,
     "metadata": {},
     "output_type": "execute_result"
    }
   ],
   "source": [
    "feat_imp"
   ]
  },
  {
   "cell_type": "code",
   "execution_count": null,
   "metadata": {},
   "outputs": [],
   "source": []
  }
 ],
 "metadata": {
  "kernelspec": {
   "display_name": "Python 3",
   "language": "python",
   "name": "python3"
  },
  "language_info": {
   "codemirror_mode": {
    "name": "ipython",
    "version": 3
   },
   "file_extension": ".py",
   "mimetype": "text/x-python",
   "name": "python",
   "nbconvert_exporter": "python",
   "pygments_lexer": "ipython3",
   "version": "3.7.1"
  },
  "widgets": {
   "application/vnd.jupyter.widget-state+json": {
    "state": {},
    "version_major": 2,
    "version_minor": 0
   }
  }
 },
 "nbformat": 4,
 "nbformat_minor": 2
}
