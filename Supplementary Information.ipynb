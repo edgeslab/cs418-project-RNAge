{
 "cells": [
  {
   "cell_type": "markdown",
   "metadata": {},
   "source": [
    "## RNAge Supplementary Information\n",
    "\n",
    "This notebook very briefly covers biological topics relevant to the RNAge project.\n",
    "\n",
    "#### DNA and Genes\n",
    "\n",
    "Deoxyribonucleic acid (DNA) in biology consists of four bases, ATGC, arranged in complementary sequences. The reference human genome consists of ~3.2 billion base pairs. However, not all of that long sequence necessarily *does* anything. There are special gene-encoding regions of the genome. Most of these regions encode for proteins, the functional molecules in a cell primarily comprised of amino acid chains.\n",
    "\n",
    "#### The Central Dogma - how do genes become protein in a cell?\n",
    "\n",
    "<img src=\"./plots/simple_central_dogma.png\" style=\"width: 500px;\"/>\n",
    "\n",
    "This is a simplified version of the central dogma which states that DNA, the linear *book* of information in each cell, is selectively **transcribed** into RNA, which is then **translated** into protein, the complex molecules which perform functions in biology.\n",
    "\n",
    "Transcription is essentially copying a portion of DNA while translation converts the base-pair sequence into an amino acid sequence.\n",
    "\n",
    "Though each cell in a complex organmism such as a human has the same DNA in all of its cells, the amounts of each gene that ultimately becomes protein is different.\n",
    "\n",
    "#### Gene Expression\n",
    "\n",
    "Differential expression of the genome is like reading from a book where the book is DNA in a cell. Each tissue has a differently annotated version of the same book; different tissues read different parts of the book. Thus, each tissue has a different fingerprint of which proteins it creates. In reality, this process is moderated by such factors as transcription factors/enhancers, the physical conformation of the DNA, histone modification, RNA interference, and other highly complex protein-protein interactions.\n",
    "\n",
    "Given that gene expression underpins the cellular identity, researchers are interested in characterizing the gene expression of different cellular states. This approach has enabled breakthroughs in cancer research and disease pathology in general. Specifically, gene expression studies revealed the subtypes of breast cancer which are highly heterogenous. This breakthrough has enabled more personalized treatment of the molecular variant of breast cancer that a patient is facing.\n",
    "\n",
    "There are different methods of accessing gene expression depending on where in the central dogma one focuses. Cancer gene expression sometimes be deduced from the deletions or modifications of the genome, but that wouldn't work for normal tissues. Researchers can measure levels of protein directly, but that can be extremely difficult as proteins are of all different shapes and sizes. In the end, measuring gene expression via the transcriptome balances robustness and cost.\n",
    "\n",
    "#### Transcriptome\n",
    "\n",
    "The transcriptome is the collection of all transcripts in a sample, which are just strands of RNA. Collecting and analyzing the transcripts in a sample is tantamount to analyzing the proteins in a cell because transcripts are assumed destined to become proteins. There are major exceptions to this rule nonetheless.\n",
    "\n",
    "Since RNA is in the form of a nucleotide base sequence, knowing what gene a given transcript encodes is simply a matter of sequencing the transcript. Experimentally, mRNA, the stable version of transcripts, is extracted from a sample. These transcript are then sequenced using one of any Next-generation Sequencing platforms. The rawest form of the data consists 75-150 base-pair sequences. A common experiment may generate 50 million of these reads. These reads are then aligned to a genome, human in our case, to identify what gene each transcript fragment belongs to. The relative number of fragments aligning to a given gene is related to the abundance of that transcript, which as we know, is tantamount to knowing how much of that protein is being produced.\n",
    "\n",
    "This process is called **RNA-sequencing** and will be the type of data used in this project.\n",
    "\n",
    "#### RNA-sequencing and Normalization\n",
    "\n",
    "The objective in a RNA-sequencing based gene expression study is to produce *counts* for each sample for each gene that reflects the intrinsic expression of that gene. Normalized counts are intended to be insensitive to experimental variance such as biological sample size, experimental bias, and sequencing depth.\n",
    "\n",
    "##### TMM\n",
    "\n",
    "The *trimmed mean of M-values* (TMM) normalization method, which can be read about in more detail [here](https://genomebiology.biomedcentral.com/articles/10.1186/gb-2010-11-3-r25), normalizes the observed counts around the assumption that many genes are not differntially expressed across samples. The output counts are in the units of counts-per-million, or the number of aligned reads per million reads. This enables sample-sample comparison, but not gene-gene comparison as transcript length is not accounted for.\n",
    "\n"
   ]
  },
  {
   "cell_type": "code",
   "execution_count": null,
   "metadata": {},
   "outputs": [],
   "source": []
  }
 ],
 "metadata": {
  "kernelspec": {
   "display_name": "Python 3",
   "language": "python",
   "name": "python3"
  },
  "language_info": {
   "codemirror_mode": {
    "name": "ipython",
    "version": 3
   },
   "file_extension": ".py",
   "mimetype": "text/x-python",
   "name": "python",
   "nbconvert_exporter": "python",
   "pygments_lexer": "ipython3",
   "version": "3.7.1"
  }
 },
 "nbformat": 4,
 "nbformat_minor": 2
}
