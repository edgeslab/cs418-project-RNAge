{
 "cells": [
  {
   "cell_type": "markdown",
   "metadata": {},
   "source": [
    "# RNAge Progress Report"
   ]
  },
  {
   "cell_type": "code",
   "execution_count": 51,
   "metadata": {},
   "outputs": [],
   "source": [
    "import pandas as pd\n",
    "import numpy as np\n",
    "import seaborn as sns\n",
    "import matplotlib.pyplot as plt\n",
    "from IPython.display import display, HTML,Image\n",
    "from pathlib import Path\n",
    "%matplotlib inline\n",
    "sns.set_style(\"darkgrid\")\n",
    "data_dir=Path(\"cs418-project-RNAge/data\") # change\n",
    "tissue_dir=Path(\"tissue-specific\")\n",
    "#!mkdir data && cp merged_meta.tsv data #Needed after cloning repo\n",
    "manifest={\"data\":\"All_Tissue_Site_Details.combined.reads.gct\",\n",
    "              \"sample_meta\":\"GTEx_v7_Annotations_SampleAttributesDS.txt\",\n",
    "              \"subject_meta\":\"GTEx_v7_Annotations_SubjectPhenotypesDS.txt\",\n",
    "               \"merged_meta\":\"merged_meta.tsv\"}\n",
    "\n",
    "meta=pd.read_csv(data_dir/manifest['merged_meta'],sep=\"\\t\",dtype={'SMUBRID':object,'SEX':object,'DTHHRDY':object})"
   ]
  },
  {
   "cell_type": "markdown",
   "metadata": {},
   "source": [
    "## Introduction"
   ]
  },
  {
   "cell_type": "markdown",
   "metadata": {},
   "source": [
    "Text"
   ]
  },
  {
   "cell_type": "markdown",
   "metadata": {},
   "source": [
    "## Changes"
   ]
  },
  {
   "cell_type": "markdown",
   "metadata": {},
   "source": [
    "Text"
   ]
  },
  {
   "cell_type": "markdown",
   "metadata": {},
   "source": [
    "## Data Cleaning"
   ]
  },
  {
   "cell_type": "markdown",
   "metadata": {},
   "source": [
    "Our *Data Cleaning* has four general steps. 1- Remove samples without age. 2- Choose tissues with counts more than 200. 3- Filter samples with low varuance and low expression level. 4- Remove samples with low row counts.\n",
    "\n",
    "**First Step**\n",
    "\n",
    "Our data has some mossed *age* information. When we upload CSV files for each tissue, we eliminate all samples woth missed age. The following piece of code removes samples without age."
   ]
  },
  {
   "cell_type": "code",
   "execution_count": null,
   "metadata": {},
   "outputs": [],
   "source": [
    "meta=meta[~(meta['AGE'].isnull())] # removes all samples without age"
   ]
  },
  {
   "cell_type": "markdown",
   "metadata": {},
   "source": [
    "**Second Step**\n",
    "\n",
    "We choose the tissues which are relatively large enough. We assume that if the count number of a tissue is more that 200, we can include that in our analysis, otherwise, we eliminate the tissue."
   ]
  },
  {
   "cell_type": "code",
   "execution_count": null,
   "metadata": {},
   "outputs": [],
   "source": [
    "counts=pd.DataFrame(meta['SMTS'].value_counts())\n",
    "display(counts)"
   ]
  },
  {
   "cell_type": "markdown",
   "metadata": {},
   "source": [
    "This table shows that there are many tissues with >200 samples with age recorded. Only tissues with 200 samples or more will be considered for predictive analysis."
   ]
  },
  {
   "cell_type": "code",
   "execution_count": null,
   "metadata": {
    "collapsed": true
   },
   "outputs": [],
   "source": [
    "df=meta[meta['SMTS'].isin(counts[counts['SMTS']>200].index)]\n",
    "df=pd.crosstab(index=df['SMTS'],columns=df['AGE'])\n",
    "display(df)"
   ]
  },
  {
   "cell_type": "markdown",
   "metadata": {},
   "source": [
    "Now, all our data includes age of the sample and tissue with more than 200 counts.."
   ]
  },
  {
   "cell_type": "code",
   "execution_count": null,
   "metadata": {},
   "outputs": [],
   "source": [
    "cpm=pd.read_csv(data_dir/tissue_dir/str(TISSUE+\"_cpm.tsv\"),sep=\"\\t\",index_col=0)\n",
    "lcpm=pd.read_csv(data_dir/tissue_dir/str(TISSUE+\"_lcpm.tsv\"),sep=\"\\t\",index_col=0)\n",
    "cdat=pd.read_csv(data_dir/tissue_dir/str(TISSUE+\"_c.tsv\"),sep=\"\\t\",index_col=0)"
   ]
  },
  {
   "cell_type": "code",
   "execution_count": null,
   "metadata": {},
   "outputs": [],
   "source": [
    "lib_size=np.sum(cdat,axis=1)\n",
    "plt.figure(figsize=(16, 6))\n",
    "sns.distplot(lib_size,kde=False,rug=True)\n",
    "cpm.iloc[0:5,0:6]"
   ]
  },
  {
   "cell_type": "markdown",
   "metadata": {},
   "source": [
    "## EDA"
   ]
  },
  {
   "cell_type": "markdown",
   "metadata": {},
   "source": [
    "The objective of our EDA efforts were to explore each useful metadata field. The useful features included:\n",
    "- Tissue origin (SMTS)\n",
    "- Tissue sub-origin (SMTSD)\n",
    "- Sex (SEX)\n",
    "- Age (AGE)\n",
    "- Death Classification Hardy Scale (DTHHRDY)\n",
    "\n",
    "Our first task was to understand how many samples were from each tissue origin. This table shows how many samples are from each tissue. Interestingly, some of the lowest count tissues are sex organs. Some of the most collected tissues seem that they may have been easier to collect."
   ]
  },
  {
   "cell_type": "code",
   "execution_count": 7,
   "metadata": {},
   "outputs": [
    {
     "data": {
      "text/html": [
       "<div>\n",
       "<style scoped>\n",
       "    .dataframe tbody tr th:only-of-type {\n",
       "        vertical-align: middle;\n",
       "    }\n",
       "\n",
       "    .dataframe tbody tr th {\n",
       "        vertical-align: top;\n",
       "    }\n",
       "\n",
       "    .dataframe thead th {\n",
       "        text-align: right;\n",
       "    }\n",
       "</style>\n",
       "<table border=\"1\" class=\"dataframe\">\n",
       "  <thead>\n",
       "    <tr style=\"text-align: right;\">\n",
       "      <th></th>\n",
       "      <th>SMTS</th>\n",
       "    </tr>\n",
       "  </thead>\n",
       "  <tbody>\n",
       "    <tr>\n",
       "      <th>Brain</th>\n",
       "      <td>1671</td>\n",
       "    </tr>\n",
       "    <tr>\n",
       "      <th>Skin</th>\n",
       "      <td>1203</td>\n",
       "    </tr>\n",
       "    <tr>\n",
       "      <th>Esophagus</th>\n",
       "      <td>1021</td>\n",
       "    </tr>\n",
       "    <tr>\n",
       "      <th>Blood Vessel</th>\n",
       "      <td>913</td>\n",
       "    </tr>\n",
       "    <tr>\n",
       "      <th>Adipose Tissue</th>\n",
       "      <td>797</td>\n",
       "    </tr>\n",
       "    <tr>\n",
       "      <th>Heart</th>\n",
       "      <td>600</td>\n",
       "    </tr>\n",
       "    <tr>\n",
       "      <th>Muscle</th>\n",
       "      <td>564</td>\n",
       "    </tr>\n",
       "    <tr>\n",
       "      <th>Blood</th>\n",
       "      <td>537</td>\n",
       "    </tr>\n",
       "    <tr>\n",
       "      <th>Colon</th>\n",
       "      <td>507</td>\n",
       "    </tr>\n",
       "    <tr>\n",
       "      <th>Thyroid</th>\n",
       "      <td>446</td>\n",
       "    </tr>\n",
       "    <tr>\n",
       "      <th>Lung</th>\n",
       "      <td>427</td>\n",
       "    </tr>\n",
       "    <tr>\n",
       "      <th>Nerve</th>\n",
       "      <td>414</td>\n",
       "    </tr>\n",
       "    <tr>\n",
       "      <th>Breast</th>\n",
       "      <td>290</td>\n",
       "    </tr>\n",
       "    <tr>\n",
       "      <th>Stomach</th>\n",
       "      <td>262</td>\n",
       "    </tr>\n",
       "    <tr>\n",
       "      <th>Testis</th>\n",
       "      <td>259</td>\n",
       "    </tr>\n",
       "    <tr>\n",
       "      <th>Pancreas</th>\n",
       "      <td>248</td>\n",
       "    </tr>\n",
       "    <tr>\n",
       "      <th>Adrenal Gland</th>\n",
       "      <td>190</td>\n",
       "    </tr>\n",
       "    <tr>\n",
       "      <th>Pituitary</th>\n",
       "      <td>183</td>\n",
       "    </tr>\n",
       "    <tr>\n",
       "      <th>Liver</th>\n",
       "      <td>175</td>\n",
       "    </tr>\n",
       "    <tr>\n",
       "      <th>Spleen</th>\n",
       "      <td>162</td>\n",
       "    </tr>\n",
       "    <tr>\n",
       "      <th>Prostate</th>\n",
       "      <td>152</td>\n",
       "    </tr>\n",
       "    <tr>\n",
       "      <th>Small Intestine</th>\n",
       "      <td>137</td>\n",
       "    </tr>\n",
       "    <tr>\n",
       "      <th>Ovary</th>\n",
       "      <td>133</td>\n",
       "    </tr>\n",
       "    <tr>\n",
       "      <th>Vagina</th>\n",
       "      <td>115</td>\n",
       "    </tr>\n",
       "    <tr>\n",
       "      <th>Uterus</th>\n",
       "      <td>111</td>\n",
       "    </tr>\n",
       "    <tr>\n",
       "      <th>Salivary Gland</th>\n",
       "      <td>97</td>\n",
       "    </tr>\n",
       "    <tr>\n",
       "      <th>Kidney</th>\n",
       "      <td>45</td>\n",
       "    </tr>\n",
       "    <tr>\n",
       "      <th>Bladder</th>\n",
       "      <td>11</td>\n",
       "    </tr>\n",
       "    <tr>\n",
       "      <th>Cervix Uteri</th>\n",
       "      <td>11</td>\n",
       "    </tr>\n",
       "    <tr>\n",
       "      <th>Fallopian Tube</th>\n",
       "      <td>7</td>\n",
       "    </tr>\n",
       "  </tbody>\n",
       "</table>\n",
       "</div>"
      ],
      "text/plain": [
       "                 SMTS\n",
       "Brain            1671\n",
       "Skin             1203\n",
       "Esophagus        1021\n",
       "Blood Vessel      913\n",
       "Adipose Tissue    797\n",
       "Heart             600\n",
       "Muscle            564\n",
       "Blood             537\n",
       "Colon             507\n",
       "Thyroid           446\n",
       "Lung              427\n",
       "Nerve             414\n",
       "Breast            290\n",
       "Stomach           262\n",
       "Testis            259\n",
       "Pancreas          248\n",
       "Adrenal Gland     190\n",
       "Pituitary         183\n",
       "Liver             175\n",
       "Spleen            162\n",
       "Prostate          152\n",
       "Small Intestine   137\n",
       "Ovary             133\n",
       "Vagina            115\n",
       "Uterus            111\n",
       "Salivary Gland     97\n",
       "Kidney             45\n",
       "Bladder            11\n",
       "Cervix Uteri       11\n",
       "Fallopian Tube      7"
      ]
     },
     "metadata": {},
     "output_type": "display_data"
    }
   ],
   "source": [
    "counts=pd.DataFrame(meta['SMTS'].value_counts())\n",
    "display(counts)"
   ]
  },
  {
   "cell_type": "markdown",
   "metadata": {
    "scrolled": true
   },
   "source": [
    "We then sought to explore how SMTSD,sub-tissue location, affects the samples. We generated PCA plots using the top 500 most variable genes following the logCPM transformation. The code for these plots can be found in `GTEx_input.R`. We found that SMTSD seems to account for the largest axis of variance for any tissue where STMSD is recorded. Representative plots from the blood and brain samples are shown.\n",
    "![](progress_plots/Blood_Vessel_SMTSD_PCA.png)\n",
    "![](progress_plots/Brain_SMTSD_PCA.png)"
   ]
  },
  {
   "cell_type": "markdown",
   "metadata": {},
   "source": [
    "We then explored age, the primary dependent variable in our project. We found that many subjects did not have age recorded, affecting nearly 1500 samples."
   ]
  },
  {
   "cell_type": "code",
   "execution_count": 61,
   "metadata": {},
   "outputs": [
    {
     "data": {
      "image/png": "[encoded data removed]",
      "text/plain": [
       "<Figure size 720x720 with 1 Axes>"
      ]
     },
     "metadata": {},
     "output_type": "display_data"
    }
   ],
   "source": [
    "sns.set_color_codes(\"pastel\")\n",
    "AGE=meta['AGE'].copy()\n",
    "AGE[AGE.isnull()]=\"None\"\n",
    "counts=pd.DataFrame({\"AGE\":AGE.value_counts()})\n",
    "counts['Total']=counts['AGE']\n",
    "counts['AGE']=counts.index.values\n",
    "plt.figure(figsize=(10, 10))\n",
    "ax=sns.barplot(x=\"Total\", y=\"AGE\", data=counts,\n",
    "            label=\"Total\", color=\"b\")"
   ]
  },
  {
   "cell_type": "markdown",
   "metadata": {},
   "source": [
    "We explored the gender feature (SEX) in the same way. We found that there are many more men than women in the data set. And again, there are nearly 1500 samples with sex recorded."
   ]
  },
  {
   "cell_type": "code",
   "execution_count": 65,
   "metadata": {},
   "outputs": [
    {
     "data": {
      "image/png": "[encoded data removed]",
      "text/plain": [
       "<Figure size 720x720 with 1 Axes>"
      ]
     },
     "metadata": {},
     "output_type": "display_data"
    }
   ],
   "source": [
    "SEX=meta['SEX'].copy()\n",
    "SEX[SEX.isnull()]=\"None\"\n",
    "counts=pd.DataFrame({\"SEX\":SEX.value_counts()})\n",
    "counts['Total']=counts['SEX']\n",
    "counts['SEX']=counts.index.values\n",
    "counts['SEX'].replace({\"1.0\":\"Male\",\"2.0\":\"Female\"},inplace=True)\n",
    "plt.figure(figsize=(10, 10))\n",
    "ax=sns.barplot(x=\"Total\", y=\"SEX\", data=counts,\n",
    "            label=\"Total\", color=\"b\")"
   ]
  },
  {
   "cell_type": "markdown",
   "metadata": {},
   "source": [
    "We found that library sizes (the total number of reads sequenced and aligned into counts) were generally around 10 million, which is good, but there are some outliers for each tissue. This plot shows the distribution of library sizes for Colon samples. Code for this plot can be viewed in `perTissue_models.ipynb`.\n",
    "![](progress_plots/libsizeplot.png)"
   ]
  },
  {
   "cell_type": "markdown",
   "metadata": {},
   "source": [
    "And finally we visualized the effect of the death classification with MDS plots from `Glimma` a specialized R package which utilizes `D3.js` to visualize RNA-seq data. We created MDS plots for every tissue, but the heart is particularly representative of the trends from the metadata features. The plot below can browsed interactively **[here](progress_plots/Heart/MDS-Plot.html)**.\n",
    "\n",
    "A selected view shows that death classification has a major effect in the second and third dimension of MDS. There appears to be major differences between samples that died by vent or quickly by natural causes. This makes intuitive sense because dying while on a vent involves hypoxia. This trend persists for most tissues.\n",
    "![](progress_plots/MDS.png)"
   ]
  },
  {
   "cell_type": "markdown",
   "metadata": {},
   "source": [
    "## Visualization"
   ]
  },
  {
   "cell_type": "markdown",
   "metadata": {},
   "source": [
    "We knew that some tissues had very few samples. To begin testing the relationships of the data, we needed to establish a threshold of minimum number of samples per tissue. This table shows the number of people in each age group."
   ]
  },
  {
   "cell_type": "code",
   "execution_count": 28,
   "metadata": {
    "scrolled": true
   },
   "outputs": [
    {
     "data": {
      "text/html": [
       "<div>\n",
       "<style scoped>\n",
       "    .dataframe tbody tr th:only-of-type {\n",
       "        vertical-align: middle;\n",
       "    }\n",
       "\n",
       "    .dataframe tbody tr th {\n",
       "        vertical-align: top;\n",
       "    }\n",
       "\n",
       "    .dataframe thead th {\n",
       "        text-align: right;\n",
       "    }\n",
       "</style>\n",
       "<table border=\"1\" class=\"dataframe\">\n",
       "  <thead>\n",
       "    <tr style=\"text-align: right;\">\n",
       "      <th>AGE</th>\n",
       "      <th>20-29</th>\n",
       "      <th>30-39</th>\n",
       "      <th>40-49</th>\n",
       "      <th>50-59</th>\n",
       "      <th>60-69</th>\n",
       "      <th>70-79</th>\n",
       "    </tr>\n",
       "    <tr>\n",
       "      <th>SMTS</th>\n",
       "      <th></th>\n",
       "      <th></th>\n",
       "      <th></th>\n",
       "      <th></th>\n",
       "      <th></th>\n",
       "      <th></th>\n",
       "    </tr>\n",
       "  </thead>\n",
       "  <tbody>\n",
       "    <tr>\n",
       "      <th>Skin</th>\n",
       "      <td>98</td>\n",
       "      <td>94</td>\n",
       "      <td>200</td>\n",
       "      <td>398</td>\n",
       "      <td>377</td>\n",
       "      <td>35</td>\n",
       "    </tr>\n",
       "    <tr>\n",
       "      <th>Esophagus</th>\n",
       "      <td>102</td>\n",
       "      <td>91</td>\n",
       "      <td>191</td>\n",
       "      <td>356</td>\n",
       "      <td>258</td>\n",
       "      <td>23</td>\n",
       "    </tr>\n",
       "    <tr>\n",
       "      <th>Blood Vessel</th>\n",
       "      <td>75</td>\n",
       "      <td>75</td>\n",
       "      <td>160</td>\n",
       "      <td>310</td>\n",
       "      <td>273</td>\n",
       "      <td>20</td>\n",
       "    </tr>\n",
       "    <tr>\n",
       "      <th>Adipose Tissue</th>\n",
       "      <td>57</td>\n",
       "      <td>66</td>\n",
       "      <td>131</td>\n",
       "      <td>273</td>\n",
       "      <td>245</td>\n",
       "      <td>25</td>\n",
       "    </tr>\n",
       "    <tr>\n",
       "      <th>Heart</th>\n",
       "      <td>33</td>\n",
       "      <td>29</td>\n",
       "      <td>95</td>\n",
       "      <td>220</td>\n",
       "      <td>205</td>\n",
       "      <td>18</td>\n",
       "    </tr>\n",
       "    <tr>\n",
       "      <th>Muscle</th>\n",
       "      <td>46</td>\n",
       "      <td>45</td>\n",
       "      <td>88</td>\n",
       "      <td>188</td>\n",
       "      <td>179</td>\n",
       "      <td>18</td>\n",
       "    </tr>\n",
       "    <tr>\n",
       "      <th>Blood</th>\n",
       "      <td>50</td>\n",
       "      <td>46</td>\n",
       "      <td>103</td>\n",
       "      <td>169</td>\n",
       "      <td>163</td>\n",
       "      <td>6</td>\n",
       "    </tr>\n",
       "    <tr>\n",
       "      <th>Colon</th>\n",
       "      <td>45</td>\n",
       "      <td>48</td>\n",
       "      <td>95</td>\n",
       "      <td>164</td>\n",
       "      <td>140</td>\n",
       "      <td>15</td>\n",
       "    </tr>\n",
       "    <tr>\n",
       "      <th>Thyroid</th>\n",
       "      <td>30</td>\n",
       "      <td>29</td>\n",
       "      <td>81</td>\n",
       "      <td>151</td>\n",
       "      <td>143</td>\n",
       "      <td>12</td>\n",
       "    </tr>\n",
       "    <tr>\n",
       "      <th>Lung</th>\n",
       "      <td>27</td>\n",
       "      <td>30</td>\n",
       "      <td>76</td>\n",
       "      <td>145</td>\n",
       "      <td>139</td>\n",
       "      <td>10</td>\n",
       "    </tr>\n",
       "    <tr>\n",
       "      <th>Nerve</th>\n",
       "      <td>33</td>\n",
       "      <td>33</td>\n",
       "      <td>70</td>\n",
       "      <td>130</td>\n",
       "      <td>133</td>\n",
       "      <td>15</td>\n",
       "    </tr>\n",
       "    <tr>\n",
       "      <th>Brain</th>\n",
       "      <td>12</td>\n",
       "      <td>8</td>\n",
       "      <td>36</td>\n",
       "      <td>112</td>\n",
       "      <td>152</td>\n",
       "      <td>11</td>\n",
       "    </tr>\n",
       "    <tr>\n",
       "      <th>Breast</th>\n",
       "      <td>26</td>\n",
       "      <td>32</td>\n",
       "      <td>53</td>\n",
       "      <td>88</td>\n",
       "      <td>81</td>\n",
       "      <td>10</td>\n",
       "    </tr>\n",
       "    <tr>\n",
       "      <th>Stomach</th>\n",
       "      <td>33</td>\n",
       "      <td>27</td>\n",
       "      <td>52</td>\n",
       "      <td>93</td>\n",
       "      <td>55</td>\n",
       "      <td>1</td>\n",
       "    </tr>\n",
       "    <tr>\n",
       "      <th>Testis</th>\n",
       "      <td>25</td>\n",
       "      <td>25</td>\n",
       "      <td>38</td>\n",
       "      <td>90</td>\n",
       "      <td>75</td>\n",
       "      <td>6</td>\n",
       "    </tr>\n",
       "    <tr>\n",
       "      <th>Pancreas</th>\n",
       "      <td>20</td>\n",
       "      <td>21</td>\n",
       "      <td>53</td>\n",
       "      <td>95</td>\n",
       "      <td>57</td>\n",
       "      <td>2</td>\n",
       "    </tr>\n",
       "    <tr>\n",
       "      <th>Adrenal Gland</th>\n",
       "      <td>17</td>\n",
       "      <td>14</td>\n",
       "      <td>37</td>\n",
       "      <td>67</td>\n",
       "      <td>53</td>\n",
       "      <td>2</td>\n",
       "    </tr>\n",
       "    <tr>\n",
       "      <th>Pituitary</th>\n",
       "      <td>7</td>\n",
       "      <td>3</td>\n",
       "      <td>17</td>\n",
       "      <td>59</td>\n",
       "      <td>85</td>\n",
       "      <td>12</td>\n",
       "    </tr>\n",
       "    <tr>\n",
       "      <th>Liver</th>\n",
       "      <td>7</td>\n",
       "      <td>10</td>\n",
       "      <td>28</td>\n",
       "      <td>65</td>\n",
       "      <td>62</td>\n",
       "      <td>3</td>\n",
       "    </tr>\n",
       "    <tr>\n",
       "      <th>Spleen</th>\n",
       "      <td>11</td>\n",
       "      <td>20</td>\n",
       "      <td>36</td>\n",
       "      <td>60</td>\n",
       "      <td>32</td>\n",
       "      <td>3</td>\n",
       "    </tr>\n",
       "    <tr>\n",
       "      <th>Prostate</th>\n",
       "      <td>19</td>\n",
       "      <td>16</td>\n",
       "      <td>27</td>\n",
       "      <td>46</td>\n",
       "      <td>43</td>\n",
       "      <td>1</td>\n",
       "    </tr>\n",
       "    <tr>\n",
       "      <th>Small Intestine</th>\n",
       "      <td>17</td>\n",
       "      <td>16</td>\n",
       "      <td>28</td>\n",
       "      <td>45</td>\n",
       "      <td>28</td>\n",
       "      <td>3</td>\n",
       "    </tr>\n",
       "    <tr>\n",
       "      <th>Ovary</th>\n",
       "      <td>16</td>\n",
       "      <td>10</td>\n",
       "      <td>29</td>\n",
       "      <td>42</td>\n",
       "      <td>34</td>\n",
       "      <td>2</td>\n",
       "    </tr>\n",
       "    <tr>\n",
       "      <th>Vagina</th>\n",
       "      <td>11</td>\n",
       "      <td>8</td>\n",
       "      <td>30</td>\n",
       "      <td>34</td>\n",
       "      <td>28</td>\n",
       "      <td>4</td>\n",
       "    </tr>\n",
       "    <tr>\n",
       "      <th>Uterus</th>\n",
       "      <td>16</td>\n",
       "      <td>12</td>\n",
       "      <td>26</td>\n",
       "      <td>33</td>\n",
       "      <td>24</td>\n",
       "      <td>0</td>\n",
       "    </tr>\n",
       "    <tr>\n",
       "      <th>Salivary Gland</th>\n",
       "      <td>7</td>\n",
       "      <td>11</td>\n",
       "      <td>20</td>\n",
       "      <td>29</td>\n",
       "      <td>29</td>\n",
       "      <td>1</td>\n",
       "    </tr>\n",
       "    <tr>\n",
       "      <th>Kidney</th>\n",
       "      <td>1</td>\n",
       "      <td>4</td>\n",
       "      <td>5</td>\n",
       "      <td>13</td>\n",
       "      <td>21</td>\n",
       "      <td>1</td>\n",
       "    </tr>\n",
       "    <tr>\n",
       "      <th>Cervix Uteri</th>\n",
       "      <td>1</td>\n",
       "      <td>1</td>\n",
       "      <td>5</td>\n",
       "      <td>2</td>\n",
       "      <td>2</td>\n",
       "      <td>0</td>\n",
       "    </tr>\n",
       "    <tr>\n",
       "      <th>Bladder</th>\n",
       "      <td>2</td>\n",
       "      <td>1</td>\n",
       "      <td>6</td>\n",
       "      <td>2</td>\n",
       "      <td>0</td>\n",
       "      <td>0</td>\n",
       "    </tr>\n",
       "    <tr>\n",
       "      <th>Fallopian Tube</th>\n",
       "      <td>1</td>\n",
       "      <td>1</td>\n",
       "      <td>3</td>\n",
       "      <td>2</td>\n",
       "      <td>0</td>\n",
       "      <td>0</td>\n",
       "    </tr>\n",
       "  </tbody>\n",
       "</table>\n",
       "</div>"
      ],
      "text/plain": [
       "AGE              20-29  30-39  40-49  50-59  60-69  70-79\n",
       "SMTS                                                     \n",
       "Skin                98     94    200    398    377     35\n",
       "Esophagus          102     91    191    356    258     23\n",
       "Blood Vessel        75     75    160    310    273     20\n",
       "Adipose Tissue      57     66    131    273    245     25\n",
       "Heart               33     29     95    220    205     18\n",
       "Muscle              46     45     88    188    179     18\n",
       "Blood               50     46    103    169    163      6\n",
       "Colon               45     48     95    164    140     15\n",
       "Thyroid             30     29     81    151    143     12\n",
       "Lung                27     30     76    145    139     10\n",
       "Nerve               33     33     70    130    133     15\n",
       "Brain               12      8     36    112    152     11\n",
       "Breast              26     32     53     88     81     10\n",
       "Stomach             33     27     52     93     55      1\n",
       "Testis              25     25     38     90     75      6\n",
       "Pancreas            20     21     53     95     57      2\n",
       "Adrenal Gland       17     14     37     67     53      2\n",
       "Pituitary            7      3     17     59     85     12\n",
       "Liver                7     10     28     65     62      3\n",
       "Spleen              11     20     36     60     32      3\n",
       "Prostate            19     16     27     46     43      1\n",
       "Small Intestine     17     16     28     45     28      3\n",
       "Ovary               16     10     29     42     34      2\n",
       "Vagina              11      8     30     34     28      4\n",
       "Uterus              16     12     26     33     24      0\n",
       "Salivary Gland       7     11     20     29     29      1\n",
       "Kidney               1      4      5     13     21      1\n",
       "Cervix Uteri         1      1      5      2      2      0\n",
       "Bladder              2      1      6      2      0      0\n",
       "Fallopian Tube       1      1      3      2      0      0"
      ]
     },
     "metadata": {},
     "output_type": "display_data"
    }
   ],
   "source": [
    "df=meta[meta['SMTS'].isin(counts[counts['SMTS']>1].index)]\n",
    "df=pd.crosstab(index=df['SMTS'],columns=df['AGE'])\n",
    "sorted_i=df.sum(axis=1).sort_values(ascending=False).index.values\n",
    "df=df.loc[sorted_i,:]\n",
    "display(df)"
   ]
  },
  {
   "cell_type": "markdown",
   "metadata": {},
   "source": [
    "We also wanted to test whether there was differential gene expression on the basis of subject age for any tissue. Unfortunately, there are no tools in Python to accomplish the mean-dispersion estimation/transformation needed to run statistical tests on RNA-seq count data. Instead, we used `R` and the `edgeR`, `Limma`, and `Glimma` packages. "
   ]
  },
  {
   "cell_type": "markdown",
   "metadata": {},
   "source": [
    "## ML"
   ]
  },
  {
   "cell_type": "markdown",
   "metadata": {},
   "source": [
    "Text"
   ]
  },
  {
   "cell_type": "markdown",
   "metadata": {},
   "source": [
    "## Reflection"
   ]
  },
  {
   "cell_type": "markdown",
   "metadata": {},
   "source": [
    "- The size of the data has been extremely prohibitive. The transformed counts are floats, which take much more space. It is best to compute the cpm transformation on the entire data set, meaning that we had to create these floats all in R before moving to Python."
   ]
  },
  {
   "cell_type": "markdown",
   "metadata": {},
   "source": [
    "## Next Steps"
   ]
  },
  {
   "cell_type": "markdown",
   "metadata": {},
   "source": [
    "Text"
   ]
  },
  {
   "cell_type": "code",
   "execution_count": null,
   "metadata": {},
   "outputs": [],
   "source": []
  }
 ],
 "metadata": {
  "kernelspec": {
   "display_name": "Python 3",
   "language": "python",
   "name": "python3"
  },
  "language_info": {
   "codemirror_mode": {
    "name": "ipython",
    "version": 3
   },
   "file_extension": ".py",
   "mimetype": "text/x-python",
   "name": "python",
   "nbconvert_exporter": "python",
   "pygments_lexer": "ipython3",
   "version": "3.7.1"
  }
 },
 "nbformat": 4,
 "nbformat_minor": 2
}
