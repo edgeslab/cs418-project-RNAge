{
 "cells": [
  {
   "cell_type": "code",
   "execution_count": 2,
   "metadata": {},
   "outputs": [
    {
     "data": {
      "text/plain": [
       "'64bit'"
      ]
     },
     "execution_count": 2,
     "metadata": {},
     "output_type": "execute_result"
    }
   ],
   "source": [
    "#Global imports\n",
    "import pandas as pd\n",
    "\n",
    "import platform\n",
    "platform.architecture()[0]"
   ]
  },
  {
   "cell_type": "code",
   "execution_count": 3,
   "metadata": {},
   "outputs": [],
   "source": [
    "data_dir = \"D:\\\\Github\\\\cs418-project-RNAge\\\\data\"\n",
    "datasets = {\n",
    "    \"data\":\"All_Tissue_Site_Details.combined.reads.gct\",\n",
    "    \"sample_meta\":\"GTEx_v7_Annotations_SampleAttributesDS.txt\",\n",
    "    \"subject_meta\":\"GTEx_v7_Annotations_SubjectPhenotypesDS.txt\"\n",
    "}"
   ]
  },
  {
   "cell_type": "code",
   "execution_count": 4,
   "metadata": {},
   "outputs": [
    {
     "name": "stdout",
     "output_type": "stream",
     "text": [
      "D:\\Github\\cs418-project-RNAge\\data\\All_Tissue_Site_Details.combined.reads.gct\n",
      "(10000, 11688)\n"
     ]
    }
   ],
   "source": [
    "#Raw counts - chunk version\n",
    "data_file = datasets[\"data\"]\n",
    "data_full_path = data_dir + \"\\\\\" + data_file\n",
    "print(data_full_path)\n",
    "raw_count_data = pd.DataFrame()\n",
    "raw_list = []\n",
    "for chunk in pd.read_csv(data_full_path,sep=\"\\t\",skiprows=2,index_col=[0,1], chunksize = 10000):\n",
    "    raw_list.append(chunk)\n",
    "    break\n",
    "    \n",
    "raw_count_data = pd.concat(raw_list, axis=1)\n",
    "del raw_list\n",
    "print(raw_count_data.shape)"
   ]
  },
  {
   "cell_type": "code",
   "execution_count": 11,
   "metadata": {
    "scrolled": false
   },
   "outputs": [
    {
     "name": "stdout",
     "output_type": "stream",
     "text": [
      "Name                     ENSG00000223972.4 ENSG00000227232.4  \\\n",
      "Description                        DDX11L1            WASH7P   \n",
      "GTEX-1117F-0226-SM-5GZZ7               3.0             616.0   \n",
      "GTEX-111CU-1826-SM-5GZYN               4.0             395.0   \n",
      "GTEX-111FC-0226-SM-5N9B8               1.0             826.0   \n",
      "GTEX-111VG-2326-SM-5N9BK               1.0             364.0   \n",
      "GTEX-111YS-2426-SM-5GZZQ               0.0             301.0   \n",
      "\n",
      "Name                     ENSG00000243485.2 ENSG00000237613.2  \\\n",
      "Description                     MIR1302-11           FAM138A   \n",
      "GTEX-1117F-0226-SM-5GZZ7               2.0               1.0   \n",
      "GTEX-111CU-1826-SM-5GZYN               1.0               0.0   \n",
      "GTEX-111FC-0226-SM-5N9B8               1.0               1.0   \n",
      "GTEX-111VG-2326-SM-5N9BK               0.0               1.0   \n",
      "GTEX-111YS-2426-SM-5GZZQ               1.0               0.0   \n",
      "\n",
      "Name                     ENSG00000268020.2 ENSG00000240361.1  \\\n",
      "Description                         OR4G4P           OR4G11P   \n",
      "GTEX-1117F-0226-SM-5GZZ7               0.0               0.0   \n",
      "GTEX-111CU-1826-SM-5GZYN               0.0               2.0   \n",
      "GTEX-111FC-0226-SM-5N9B8               0.0               2.0   \n",
      "GTEX-111VG-2326-SM-5N9BK               0.0               0.0   \n",
      "GTEX-111YS-2426-SM-5GZZQ               0.0               0.0   \n",
      "\n",
      "Name                     ENSG00000186092.4 ENSG00000238009.2  \\\n",
      "Description                          OR4F5      RP11-34P13.7   \n",
      "GTEX-1117F-0226-SM-5GZZ7               0.0               8.0   \n",
      "GTEX-111CU-1826-SM-5GZYN               0.0               3.0   \n",
      "GTEX-111FC-0226-SM-5N9B8               0.0              12.0   \n",
      "GTEX-111VG-2326-SM-5N9BK               0.0              12.0   \n",
      "GTEX-111YS-2426-SM-5GZZQ               2.0               2.0   \n",
      "\n",
      "Name                     ENSG00000233750.3 ENSG00000237683.5  \\\n",
      "Description                         CICP27        AL627309.1   \n",
      "GTEX-1117F-0226-SM-5GZZ7              11.0             264.0   \n",
      "GTEX-111CU-1826-SM-5GZYN              29.0             300.0   \n",
      "GTEX-111FC-0226-SM-5N9B8               9.0             114.0   \n",
      "GTEX-111VG-2326-SM-5N9BK              18.0            1364.0   \n",
      "GTEX-111YS-2426-SM-5GZZQ               5.0             227.0   \n",
      "\n",
      "Name                            ...        ENSG00000224424.7  \\\n",
      "Description                     ...              PRKAR2A-AS1   \n",
      "GTEX-1117F-0226-SM-5GZZ7        ...                    111.0   \n",
      "GTEX-111CU-1826-SM-5GZYN        ...                     42.0   \n",
      "GTEX-111FC-0226-SM-5N9B8        ...                    134.0   \n",
      "GTEX-111VG-2326-SM-5N9BK        ...                    136.0   \n",
      "GTEX-111YS-2426-SM-5GZZQ        ...                     74.0   \n",
      "\n",
      "Name                     ENSG00000178537.5 ENSG00000221883.2  \\\n",
      "Description                       SLC25A20           ARIH2OS   \n",
      "GTEX-1117F-0226-SM-5GZZ7             618.0             131.0   \n",
      "GTEX-111CU-1826-SM-5GZYN            2005.0             108.0   \n",
      "GTEX-111FC-0226-SM-5N9B8            1125.0             163.0   \n",
      "GTEX-111VG-2326-SM-5N9BK            2517.0             129.0   \n",
      "GTEX-111YS-2426-SM-5GZZQ            1446.0             115.0   \n",
      "\n",
      "Name                     ENSG00000177479.15 ENSG00000235236.1  \\\n",
      "Description                           ARIH2     RP13-131K19.1   \n",
      "GTEX-1117F-0226-SM-5GZZ7             2730.0               7.0   \n",
      "GTEX-111CU-1826-SM-5GZYN             3733.0               9.0   \n",
      "GTEX-111FC-0226-SM-5N9B8             4749.0               2.0   \n",
      "GTEX-111VG-2326-SM-5N9BK             3715.0               4.0   \n",
      "GTEX-111YS-2426-SM-5GZZQ             4088.0              15.0   \n",
      "\n",
      "Name                     ENSG00000223343.1 ENSG00000178467.13  \\\n",
      "Description                  RP13-131K19.2              P4HTM   \n",
      "GTEX-1117F-0226-SM-5GZZ7               6.0             1857.0   \n",
      "GTEX-111CU-1826-SM-5GZYN               5.0             1564.0   \n",
      "GTEX-111FC-0226-SM-5N9B8              14.0             2336.0   \n",
      "GTEX-111VG-2326-SM-5N9BK               5.0             1875.0   \n",
      "GTEX-111YS-2426-SM-5GZZQ               2.0             1033.0   \n",
      "\n",
      "Name                     ENSG00000178252.13 ENSG00000178149.12  \\\n",
      "Description                            WDR6             DALRD3   \n",
      "GTEX-1117F-0226-SM-5GZZ7             4964.0              789.0   \n",
      "GTEX-111CU-1826-SM-5GZYN             5202.0             1036.0   \n",
      "GTEX-111FC-0226-SM-5N9B8             8580.0             1727.0   \n",
      "GTEX-111VG-2326-SM-5N9BK             7165.0             1234.0   \n",
      "GTEX-111YS-2426-SM-5GZZQ             4424.0              770.0   \n",
      "\n",
      "Name                     ENSG00000199032.1  \n",
      "Description                         MIR425  \n",
      "GTEX-1117F-0226-SM-5GZZ7               0.0  \n",
      "GTEX-111CU-1826-SM-5GZYN               0.0  \n",
      "GTEX-111FC-0226-SM-5N9B8               0.0  \n",
      "GTEX-111VG-2326-SM-5N9BK               0.0  \n",
      "GTEX-111YS-2426-SM-5GZZQ               0.0  \n",
      "\n",
      "[5 rows x 10000 columns]\n"
     ]
    }
   ],
   "source": [
    "raw_count_data_T = raw_count_data.T\n",
    "print(raw_count_data_T.head())"
   ]
  },
  {
   "cell_type": "code",
   "execution_count": 18,
   "metadata": {},
   "outputs": [
    {
     "name": "stdout",
     "output_type": "stream",
     "text": [
      "D:\\Github\\cs418-project-RNAge\\data\\GTEx_v7_Annotations_SampleAttributesDS.txt\n",
      "Imported metadata of dimensions (15598, 63)\n",
      "                     SAMPID  SMATSSCR SMCENTER  \\\n",
      "0  GTEX-1117F-0003-SM-58Q7G       NaN       B1   \n",
      "1  GTEX-1117F-0003-SM-5DWSB       NaN       B1   \n",
      "2  GTEX-1117F-0003-SM-6WBT7       NaN       B1   \n",
      "3  GTEX-1117F-0226-SM-5GZZ7       0.0       B1   \n",
      "4  GTEX-1117F-0426-SM-5EGHI       0.0       B1   \n",
      "\n",
      "                                            SMPTHNTS  SMRIN            SMTS  \\\n",
      "0                                                NaN    NaN           Blood   \n",
      "1                                                NaN    NaN           Blood   \n",
      "2                                                NaN    NaN           Blood   \n",
      "3       2 pieces, ~15% vessel stroma, rep delineated    6.8  Adipose Tissue   \n",
      "4  2 pieces, !5% fibrous connective tissue, delin...    7.1          Muscle   \n",
      "\n",
      "                    SMTSD  SMUBRID  SMTSISCH  SMTSPAX    ...       SME1ANTI  \\\n",
      "0             Whole Blood  0013756    1188.0      NaN    ...            NaN   \n",
      "1             Whole Blood  0013756    1188.0      NaN    ...            NaN   \n",
      "2             Whole Blood  0013756    1188.0      NaN    ...            NaN   \n",
      "3  Adipose - Subcutaneous  0002190    1214.0   1125.0    ...     14579275.0   \n",
      "4       Muscle - Skeletal  0011907    1220.0   1119.0    ...     13134349.0   \n",
      "\n",
      "     SMSPLTRD  SMBSMMRT    SME1SNSE   SME1PCTS  SMRRNART  SME1MPRT SMNUM5CD  \\\n",
      "0         NaN       NaN         NaN        NaN       NaN       NaN      NaN   \n",
      "1         NaN       NaN         NaN        NaN       NaN       NaN      NaN   \n",
      "2         NaN       NaN         NaN        NaN       NaN       NaN      NaN   \n",
      "3  12025354.0  0.003164  14634407.0  50.094357  0.003102  0.992826      NaN   \n",
      "4  11578874.0  0.003991  13307871.0  50.328114  0.006991  0.994212      NaN   \n",
      "\n",
      "   SMDPMPRT  SME2PCTS  \n",
      "0       NaN       NaN  \n",
      "1       NaN       NaN  \n",
      "2       NaN       NaN  \n",
      "3       0.0  50.12628  \n",
      "4       0.0  49.90517  \n",
      "\n",
      "[5 rows x 63 columns]\n"
     ]
    }
   ],
   "source": [
    "data_file = datasets[\"sample_meta\"]\n",
    "data_full_path = data_dir + \"\\\\\" + data_file\n",
    "print(data_full_path)\n",
    "sample_meta_data=pd.read_csv(data_full_path,sep=\"\\t\")\n",
    "#self.sampleMeta=data\n",
    "print(\"Imported metadata of dimensions\",sample_meta_data.shape)\n",
    "print(sample_meta_data.head())"
   ]
  },
  {
   "cell_type": "code",
   "execution_count": 17,
   "metadata": {},
   "outputs": [
    {
     "name": "stdout",
     "output_type": "stream",
     "text": [
      "                          SMATSSCR SMCENTER  \\\n",
      "SAMPID                                        \n",
      "GTEX-1117F-0226-SM-5GZZ7       0.0       B1   \n",
      "GTEX-111CU-1826-SM-5GZYN       0.0       B1   \n",
      "GTEX-111FC-0226-SM-5N9B8       2.0       B1   \n",
      "GTEX-111VG-2326-SM-5N9BK       1.0       B1   \n",
      "GTEX-111YS-2426-SM-5GZZQ       0.0       B1   \n",
      "\n",
      "                                                                   SMPTHNTS  \\\n",
      "SAMPID                                                                        \n",
      "GTEX-1117F-0226-SM-5GZZ7       2 pieces, ~15% vessel stroma, rep delineated   \n",
      "GTEX-111CU-1826-SM-5GZYN  2 pieces, small portion of nerve (<10% of one ...   \n",
      "GTEX-111FC-0226-SM-5N9B8  2 pieces, larger piece is 30% fibrovascular ti...   \n",
      "GTEX-111VG-2326-SM-5N9BK                                           2 pieces   \n",
      "GTEX-111YS-2426-SM-5GZZQ                           3 small irregular pieces   \n",
      "\n",
      "                          SMRIN            SMTS                   SMTSD  \\\n",
      "SAMPID                                                                    \n",
      "GTEX-1117F-0226-SM-5GZZ7    6.8  Adipose Tissue  Adipose - Subcutaneous   \n",
      "GTEX-111CU-1826-SM-5GZYN    7.5  Adipose Tissue  Adipose - Subcutaneous   \n",
      "GTEX-111FC-0226-SM-5N9B8    7.3  Adipose Tissue  Adipose - Subcutaneous   \n",
      "GTEX-111VG-2326-SM-5N9BK    7.7  Adipose Tissue  Adipose - Subcutaneous   \n",
      "GTEX-111YS-2426-SM-5GZZQ    6.6  Adipose Tissue  Adipose - Subcutaneous   \n",
      "\n",
      "                          SMUBRID  SMTSISCH  SMTSPAX  SMNABTCH    ...      \\\n",
      "SAMPID                                                            ...       \n",
      "GTEX-1117F-0226-SM-5GZZ7  0002190    1214.0   1125.0  BP-43693    ...       \n",
      "GTEX-111CU-1826-SM-5GZYN  0002190     138.0    571.0  BP-43783    ...       \n",
      "GTEX-111FC-0226-SM-5N9B8  0002190    1040.0    869.0  BP-43989    ...       \n",
      "GTEX-111VG-2326-SM-5N9BK  0002190    1083.0    874.0  BP-43989    ...       \n",
      "GTEX-111YS-2426-SM-5GZZQ  0002190     296.0    593.0  BP-43693    ...       \n",
      "\n",
      "                            SME1ANTI    SMSPLTRD  SMBSMMRT    SME1SNSE  \\\n",
      "SAMPID                                                                   \n",
      "GTEX-1117F-0226-SM-5GZZ7  14579275.0  12025354.0  0.003164  14634407.0   \n",
      "GTEX-111CU-1826-SM-5GZYN  15375068.0  13195267.0  0.002771  15430056.0   \n",
      "GTEX-111FC-0226-SM-5N9B8  20811362.0  17586200.0  0.003128  20905656.0   \n",
      "GTEX-111VG-2326-SM-5N9BK  18919583.0  14643307.0  0.003347  18988974.0   \n",
      "GTEX-111YS-2426-SM-5GZZQ  15066092.0  10939233.0  0.002787  15124493.0   \n",
      "\n",
      "                           SME1PCTS  SMRRNART  SME1MPRT  SMNUM5CD  SMDPMPRT  \\\n",
      "SAMPID                                                                        \n",
      "GTEX-1117F-0226-SM-5GZZ7  50.094357  0.003102  0.992826       NaN       0.0   \n",
      "GTEX-111CU-1826-SM-5GZYN  50.089250  0.002126  0.993923       NaN       0.0   \n",
      "GTEX-111FC-0226-SM-5N9B8  50.113018  0.003756  0.992825       NaN       0.0   \n",
      "GTEX-111VG-2326-SM-5N9BK  50.091526  0.003781  0.992474       NaN       0.0   \n",
      "GTEX-111YS-2426-SM-5GZZQ  50.096720  0.006646  0.993879       NaN       0.0   \n",
      "\n",
      "                           SME2PCTS  \n",
      "SAMPID                               \n",
      "GTEX-1117F-0226-SM-5GZZ7  50.126280  \n",
      "GTEX-111CU-1826-SM-5GZYN  50.101420  \n",
      "GTEX-111FC-0226-SM-5N9B8  50.061860  \n",
      "GTEX-111VG-2326-SM-5N9BK  50.168594  \n",
      "GTEX-111YS-2426-SM-5GZZQ  50.049473  \n",
      "\n",
      "[5 rows x 62 columns]\n"
     ]
    }
   ],
   "source": [
    "SAMPID_DataFrame=pd.DataFrame({'SAMPID':pd.Series(raw_count_data_T.index)})\n",
    "meta=SAMPID_DataFrame.merge(sample_meta_data,how='left',on='SAMPID').set_index('SAMPID')\n",
    "print(meta.head())"
   ]
  }
 ],
 "metadata": {
  "kernelspec": {
   "display_name": "Python 3",
   "language": "python",
   "name": "python3"
  },
  "language_info": {
   "codemirror_mode": {
    "name": "ipython",
    "version": 3
   },
   "file_extension": ".py",
   "mimetype": "text/x-python",
   "name": "python",
   "nbconvert_exporter": "python",
   "pygments_lexer": "ipython3",
   "version": "3.7.1"
  }
 },
 "nbformat": 4,
 "nbformat_minor": 2
}
