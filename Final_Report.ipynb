{
 "cells": [
  {
   "cell_type": "markdown",
   "metadata": {},
   "source": [
    "<center>\n",
    "    <b>RNAge Final Report</b>\n",
    "    <br>\n",
    "    <a href=\"https://github.com/edgeslab/cs418-project-RNAge/blob/master/Progress_Report.ipynb\">\n",
    "        https://github.com/edgeslab/cs418-project-RNAge/blob/master/Progress_Report.ipynb\n",
    "    </a>\n",
    "</center>"
   ]
  }
 ],
 "metadata": {
  "kernelspec": {
   "display_name": "Python 3",
   "language": "python",
   "name": "python3"
  },
  "language_info": {
   "codemirror_mode": {
    "name": "ipython",
    "version": 3
   },
   "file_extension": ".py",
   "mimetype": "text/x-python",
   "name": "python",
   "nbconvert_exporter": "python",
   "pygments_lexer": "ipython3",
   "version": "3.7.1"
  }
 },
 "nbformat": 4,
 "nbformat_minor": 2
}
