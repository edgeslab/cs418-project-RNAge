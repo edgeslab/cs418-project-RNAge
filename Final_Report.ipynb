{
 "cells": [
  {
   "cell_type": "markdown",
   "metadata": {},
   "source": [
    "<center>\n",
    "    <b>RNAge Final Report</b>\n",
    "    <br>\n",
    "    <a href=\"https://github.com/edgeslab/cs418-project-RNAge/blob/master/Final_Report.ipynb\">\n",
    "        https://github.com/edgeslab/cs418-project-RNAge/blob/master/Final_Report.ipynb\n",
    "    </a>\n",
    "</center>"
   ]
  },
  {
   "cell_type": "code",
   "execution_count": 2,
   "metadata": {},
   "outputs": [],
   "source": [
    "#Setting up the environment and importing the necessary data\n",
    "%run Final_source_code/Init.py\n",
    "%matplotlib inline"
   ]
  },
  {
   "cell_type": "markdown",
   "metadata": {},
   "source": [
    "### Introduction\n",
    "The aim of the project is to:\n",
    "<ol>\n",
    "    <li>Characterize and compare the relationship of different tissues with aging.</li>\n",
    "    <li>Find significant genes participating in aging across different tissues.</li>\n",
    "</ol>"
   ]
  },
  {
   "cell_type": "markdown",
   "metadata": {},
   "source": [
    "### Data Collection\n",
    "<b>Data source:</b>\n",
    "<br>\n",
    "The data has been obtained from GTEx portal.\n",
    "<br>\n",
    "<u>Data source:</u> https://gtexportal.org/home/datasets\n",
    "<br>\n",
    "<u>Data summary:</u> https://gtexportal.org/home/tissueSummaryPage\n",
    "<br>\n",
    "This data can be downloaded and placed under 'data' directory.\n",
    "<br><br>\n",
    "<b>Data Pre-processing:</b>\n",
    "<br>\n",
    "Due to the huge size of the original file, it is split into tissue specific data files for easier processing on local machines."
   ]
  },
  {
   "cell_type": "code",
   "execution_count": 3,
   "metadata": {},
   "outputs": [],
   "source": [
    "%run Final_source_code/dataSplit.py"
   ]
  }
 ],
 "metadata": {
  "kernelspec": {
   "display_name": "Python 3",
   "language": "python",
   "name": "python3"
  },
  "language_info": {
   "codemirror_mode": {
    "name": "ipython",
    "version": 3
   },
   "file_extension": ".py",
   "mimetype": "text/x-python",
   "name": "python",
   "nbconvert_exporter": "python",
   "pygments_lexer": "ipython3",
   "version": "3.7.1"
  }
 },
 "nbformat": 4,
 "nbformat_minor": 2
}
