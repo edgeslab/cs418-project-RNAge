{
 "cells": [
  {
   "cell_type": "markdown",
   "metadata": {},
   "source": [
    "<center><b>Tensorflow Keras model to train on the GTEx data</b></center>"
   ]
  },
  {
   "cell_type": "markdown",
   "metadata": {},
   "source": [
    "#### __Aim__: To build a TensorFlow Keras model, train on the available gene expression data to identify the age of the owner of the gene expression."
   ]
  },
  {
   "cell_type": "code",
   "execution_count": 2,
   "metadata": {},
   "outputs": [],
   "source": [
    "#Import the required packages\n",
    "\n",
    "import os\n",
    "from pathlib import Path\n",
    "import pandas as pd\n",
    "import numpy as np\n",
    "\n",
    "import tensorflow as tf\n",
    "from tensorflow.keras.models import Sequential\n",
    "from tensorflow.keras.layers import Dense, Dropout, Activation, Flatten, Conv2D, MaxPooling2D\n",
    "from tensorflow.keras.callbacks import EarlyStopping\n",
    "from tensorflow.keras.models import load_model\n",
    "from sklearn.preprocessing import LabelEncoder\n",
    "from sklearn import preprocessing\n",
    "\n",
    "import warnings\n",
    "warnings.filterwarnings(\"ignore\")\n",
    "\n",
    "import seaborn as sns\n",
    "import matplotlib as mpl\n",
    "import matplotlib.pyplot as plt"
   ]
  },
  {
   "cell_type": "markdown",
   "metadata": {},
   "source": [
    "#### Extract the meta information from the data"
   ]
  },
  {
   "cell_type": "code",
   "execution_count": 3,
   "metadata": {},
   "outputs": [],
   "source": [
    "def GTEx_sample_shrinker(meta,by_col,n=20):\n",
    "    by=meta[by_col].unique()\n",
    "    ans=[]\n",
    "    for i in by:\n",
    "        nTissue=len(meta[meta[by_col]==i])\n",
    "        if nTissue<n:\n",
    "            nn=nTissue\n",
    "        else:\n",
    "            nn=n\n",
    "        ans.append(meta[meta[by_col]==i].sample(nn))\n",
    "    selectedMeta=pd.concat(ans)\n",
    "    return selectedMeta\n",
    "\n",
    "current_dir = os.getcwd() #current directory\n",
    "data_dir = os.path.join(current_dir, \"data\")\n",
    "manifest={\"data\":\"All_Tissue_Site_Details.combined.reads.gct\",\n",
    "          \"sample_meta\":\"GTEx_v7_Annotations_SampleAttributesDS.txt\",\n",
    "          \"subject_meta\":\"GTEx_v7_Annotations_SubjectPhenotypesDS.txt\",\n",
    "           \"merged_meta\":\"merged_meta.tsv\"}\n",
    "meta=pd.read_csv(os.path.join(data_dir, manifest['merged_meta']),sep=\"\\t\",dtype={'SMUBRID':object})\n",
    "y=GTEx_sample_shrinker(meta,'SMTS',20)\n",
    "y.to_csv(os.path.join(data_dir,\"filteredMeta.tsv\"),sep=\"\\t\",index=False)\n",
    "y['SAMPID'].to_csv(os.path.join(data_dir,\"filteredSAMPID.tsv\"),sep=\"\\t\",index=False)"
   ]
  },
  {
   "cell_type": "markdown",
   "metadata": {},
   "source": [
    "#### Identify all the unique tissue types before building the DL model"
   ]
  },
  {
   "cell_type": "code",
   "execution_count": 4,
   "metadata": {},
   "outputs": [
    {
     "name": "stdout",
     "output_type": "stream",
     "text": [
      "Unique tissue types in the GTEx data:  ['Adipose Tissue', 'Blood Vessel', 'Brain', 'Breast', 'Blood', 'Skin', 'Colon', 'Esophagus', 'Heart', 'Lung', 'Muscle', 'Nerve', 'Pancreas', 'Stomach', 'Testis', 'Thyroid']\n"
     ]
    }
   ],
   "source": [
    "fileName = os.path.join(data_dir, \"merged_meta.tsv\")\n",
    "meta=pd.read_csv(os.path.join(data_dir,manifest['merged_meta']),sep=\"\\t\",dtype={'SMUBRID':object,'SEX':object,'DTHHRDY':object})\n",
    "\n",
    "meta=meta[~(meta['AGE'].isnull())] # removes all samples without age\n",
    "\n",
    "#Extract only the tissue types with count > 200\n",
    "counts=pd.DataFrame(meta['SMTS'].value_counts())\n",
    "df=meta[meta['SMTS'].isin(counts[counts['SMTS'] > 200].index)]\n",
    "\n",
    "#Identify the unique tissue types\n",
    "tissue_types = df['SMTS'].unique()\n",
    "\n",
    "print(\"Unique tissue types in the GTEx data: \", [t for t in tissue_types])"
   ]
  },
  {
   "cell_type": "markdown",
   "metadata": {},
   "source": [
    "#### Building the keras model"
   ]
  },
  {
   "cell_type": "code",
   "execution_count": 5,
   "metadata": {},
   "outputs": [],
   "source": [
    "from tensorflow.keras.models import Sequential\n",
    "from tensorflow.keras.layers import Dense, Dropout, Activation, Flatten, Conv2D, MaxPooling2D\n",
    "from tensorflow.keras.callbacks import EarlyStopping\n",
    "from tensorflow.keras.models import load_model\n",
    "\n",
    "class keras_model:\n",
    "    DATA_DIR = \"keras_models\"\n",
    "    \n",
    "    def __init__(self):\n",
    "        self.early_stopping_monitor = EarlyStopping(patience=3) #Hyperparameter tuning\n",
    "        \n",
    "    def construct_model(self, x_train, y_train):\n",
    "        self.model = tf.keras.models.Sequential() #Sequential model\n",
    "        self.model.add(tf.keras.layers.Flatten())\n",
    "        self.model.add(tf.keras.layers.Dense(1024, input_dim=x_train.shape[1], activation=tf.nn.relu))\n",
    "        self.model.add(tf.keras.layers.Dense(512, activation=tf.nn.relu))\n",
    "        self.model.add(tf.keras.layers.Dense(256, activation=tf.nn.relu))\n",
    "        #self.model.add(tf.keras.layers.Dense(128, activation=tf.nn.relu))\n",
    "        self.model.add(tf.keras.layers.Dense(y_train.shape[1], activation=tf.nn.softmax))\n",
    "        #Note: Output layer is designed to hold the number of neurons equivalent to the number of classes of age groups\n",
    "\n",
    "        self.model.compile(optimizer='adam', loss='categorical_crossentropy', metrics=['accuracy'])\n",
    "        \n",
    "    def model_train(self, x_train, y_train):\n",
    "        if x_train.shape[0] == y_train.shape[0]: #Checking shape since there are tissues with missing gene expressions\n",
    "            try:\n",
    "                print(\"Training Keras model...\")\n",
    "                \n",
    "                self.construct_model(x_train, y_train) #Constructing the model\n",
    "                self.model.fit(x_train, \n",
    "                               y_train, \n",
    "                               batch_size=32, #Setting batch size for ease of processing in local machines\n",
    "                               epochs=30, #Maximum of 30 epochs\n",
    "                               validation_split=0.1, \n",
    "                               callbacks=[self.early_stopping_monitor]) #Early stopping hyperparameter\n",
    "                \n",
    "                print(\"Evaluating training accuracy...\")\n",
    "                loss, accuracy = self.model.evaluate(x_train, y_train)\n",
    "                \n",
    "                try:\n",
    "                    #Persisting the model trained for the corresponding tissue type\n",
    "                    fileName = TISSUE + \"_keras_model.h5\"\n",
    "                    filePath = os.path.join(self.DATA_DIR, fileName)\n",
    "                    self.model.save(filePath)\n",
    "                    return accuracy, fileName\n",
    "                except:\n",
    "                    print(\"Exception while saving the model.\")\n",
    "                    return accuracy, None\n",
    "            except:\n",
    "                print(\"Exception while processing!\")\n",
    "                return -1, None\n",
    "        else:\n",
    "            print(\"Shape mismatch encountered!\")\n",
    "            return -1, None"
   ]
  },
  {
   "cell_type": "markdown",
   "metadata": {},
   "source": [
    "#### Train the model for each tissue type"
   ]
  },
  {
   "cell_type": "markdown",
   "metadata": {},
   "source": [
    "#### Persist the results of the model in a TSV file for evaluation later"
   ]
  },
  {
   "cell_type": "code",
   "execution_count": 17,
   "metadata": {
    "scrolled": false
   },
   "outputs": [
    {
     "name": "stdout",
     "output_type": "stream",
     "text": [
      "Tissue type:  Adipose Tissue\n"
     ]
    },
    {
     "name": "stderr",
     "output_type": "stream",
     "text": [
      "C:\\Users\\suji1\\Anaconda3\\envs\\cs418env\\lib\\site-packages\\sklearn\\preprocessing\\data.py:323: DataConversionWarning: Data with input dtype int64, float64 were all converted to float64 by MinMaxScaler.\n",
      "  return self.partial_fit(X, y)\n"
     ]
    },
    {
     "name": "stdout",
     "output_type": "stream",
     "text": [
      "Training Keras model...\n",
      "Train on 717 samples, validate on 80 samples\n",
      "Epoch 1/30\n",
      "717/717 [==============================] - 12s 17ms/sample - loss: 6.9614 - acc: 0.5286 - val_loss: 4.0295 - val_acc: 0.7500\n",
      "Epoch 2/30\n",
      "717/717 [==============================] - 11s 16ms/sample - loss: 7.1936 - acc: 0.5537 - val_loss: 4.0295 - val_acc: 0.7500\n",
      "Epoch 3/30\n",
      "717/717 [==============================] - 11s 16ms/sample - loss: 7.1936 - acc: 0.5537 - val_loss: 4.0295 - val_acc: 0.7500\n",
      "Epoch 4/30\n",
      "717/717 [==============================] - 11s 16ms/sample - loss: 7.1936 - acc: 0.5537 - val_loss: 4.0295 - val_acc: 0.7500\n",
      "Evaluating training accuracy...\n",
      "797/797 [==============================] - 3s 3ms/sample - loss: 6.8760 - acc: 0.5734\n",
      "Final accuracy: 57.340025901794434\n",
      "\n",
      "\n",
      "Tissue type:  Blood Vessel\n"
     ]
    },
    {
     "name": "stderr",
     "output_type": "stream",
     "text": [
      "C:\\Users\\suji1\\Anaconda3\\envs\\cs418env\\lib\\site-packages\\sklearn\\preprocessing\\data.py:323: DataConversionWarning: Data with input dtype int64, float64 were all converted to float64 by MinMaxScaler.\n",
      "  return self.partial_fit(X, y)\n"
     ]
    },
    {
     "name": "stdout",
     "output_type": "stream",
     "text": [
      "Training Keras model...\n",
      "Train on 821 samples, validate on 92 samples\n",
      "Epoch 1/30\n",
      "821/821 [==============================] - 15s 18ms/sample - loss: 11.8943 - acc: 0.2217 - val_loss: 14.3661 - val_acc: 0.1087\n",
      "Epoch 2/30\n",
      "821/821 [==============================] - 13s 16ms/sample - loss: 12.5254 - acc: 0.2229 - val_loss: 14.3661 - val_acc: 0.1087\n",
      "Epoch 3/30\n",
      "821/821 [==============================] - 13s 15ms/sample - loss: 12.5254 - acc: 0.2229 - val_loss: 14.3661 - val_acc: 0.1087\n",
      "Epoch 4/30\n",
      "821/821 [==============================] - 13s 16ms/sample - loss: 12.5254 - acc: 0.2229 - val_loss: 14.3661 - val_acc: 0.1087\n",
      "Epoch 5/30\n",
      "821/821 [==============================] - 13s 15ms/sample - loss: 12.5254 - acc: 0.2229 - val_loss: 14.3661 - val_acc: 0.1087\n",
      "Epoch 6/30\n",
      "821/821 [==============================] - 13s 15ms/sample - loss: 12.5254 - acc: 0.2229 - val_loss: 14.3661 - val_acc: 0.1087\n",
      "Epoch 7/30\n",
      "821/821 [==============================] - 13s 16ms/sample - loss: 12.5254 - acc: 0.2229 - val_loss: 14.3661 - val_acc: 0.1087\n",
      "Evaluating training accuracy...\n",
      "913/913 [==============================] - 3s 3ms/sample - loss: 12.7109 - acc: 0.2114\n",
      "Final accuracy: 21.139101684093475\n",
      "\n",
      "\n",
      "Tissue type:  Brain\n"
     ]
    },
    {
     "name": "stderr",
     "output_type": "stream",
     "text": [
      "C:\\Users\\suji1\\Anaconda3\\envs\\cs418env\\lib\\site-packages\\sklearn\\preprocessing\\data.py:323: DataConversionWarning: Data with input dtype int64, float64 were all converted to float64 by MinMaxScaler.\n",
      "  return self.partial_fit(X, y)\n"
     ]
    },
    {
     "name": "stdout",
     "output_type": "stream",
     "text": [
      "Training Keras model...\n",
      "Train on 297 samples, validate on 34 samples\n",
      "Epoch 1/30\n",
      "297/297 [==============================] - 6s 20ms/sample - loss: 5.7565 - acc: 0.6061 - val_loss: 9.4812 - val_acc: 0.4118\n",
      "Epoch 2/30\n",
      "297/297 [==============================] - 5s 16ms/sample - loss: 6.1867 - acc: 0.6162 - val_loss: 9.4812 - val_acc: 0.4118\n",
      "Epoch 3/30\n",
      "297/297 [==============================] - 5s 16ms/sample - loss: 6.1867 - acc: 0.6162 - val_loss: 9.4812 - val_acc: 0.4118\n",
      "Epoch 4/30\n",
      "297/297 [==============================] - 5s 16ms/sample - loss: 6.1867 - acc: 0.6162 - val_loss: 9.4812 - val_acc: 0.4118\n",
      "Epoch 5/30\n",
      "297/297 [==============================] - 5s 16ms/sample - loss: 6.1867 - acc: 0.6162 - val_loss: 9.4812 - val_acc: 0.4118\n",
      "Evaluating training accuracy...\n",
      "331/331 [==============================] - 1s 3ms/sample - loss: 6.5252 - acc: 0.5952\n",
      "Final accuracy: 59.51661467552185\n",
      "\n",
      "\n",
      "Tissue type:  Breast\n"
     ]
    },
    {
     "name": "stderr",
     "output_type": "stream",
     "text": [
      "C:\\Users\\suji1\\Anaconda3\\envs\\cs418env\\lib\\site-packages\\sklearn\\preprocessing\\data.py:323: DataConversionWarning: Data with input dtype int64, float64 were all converted to float64 by MinMaxScaler.\n",
      "  return self.partial_fit(X, y)\n"
     ]
    },
    {
     "name": "stdout",
     "output_type": "stream",
     "text": [
      "Training Keras model...\n",
      "Train on 261 samples, validate on 29 samples\n",
      "Epoch 1/30\n",
      "261/261 [==============================] - 6s 25ms/sample - loss: 6.4735 - acc: 0.4483 - val_loss: 5.5580 - val_acc: 0.6552\n",
      "Epoch 2/30\n",
      "261/261 [==============================] - 4s 17ms/sample - loss: 6.9166 - acc: 0.5709 - val_loss: 5.5580 - val_acc: 0.6552\n",
      "Epoch 3/30\n",
      "261/261 [==============================] - 5s 20ms/sample - loss: 6.9166 - acc: 0.5709 - val_loss: 5.5580 - val_acc: 0.6552\n",
      "Epoch 4/30\n",
      "261/261 [==============================] - 4s 17ms/sample - loss: 6.9166 - acc: 0.5709 - val_loss: 5.5580 - val_acc: 0.6552\n",
      "Epoch 5/30\n",
      "261/261 [==============================] - 4s 17ms/sample - loss: 6.9166 - acc: 0.5709 - val_loss: 5.5580 - val_acc: 0.6552\n",
      "Epoch 6/30\n",
      "261/261 [==============================] - 4s 17ms/sample - loss: 6.9166 - acc: 0.5709 - val_loss: 5.5580 - val_acc: 0.6552\n",
      "Evaluating training accuracy...\n",
      "290/290 [==============================] - 1s 3ms/sample - loss: 6.7807 - acc: 0.5793\n",
      "Final accuracy: 57.93103575706482\n",
      "\n",
      "\n",
      "Tissue type:  Blood\n",
      "Shape mismatch!\n",
      "\n",
      "Tissue type:  Skin\n"
     ]
    },
    {
     "name": "stderr",
     "output_type": "stream",
     "text": [
      "C:\\Users\\suji1\\Anaconda3\\envs\\cs418env\\lib\\site-packages\\sklearn\\preprocessing\\data.py:323: DataConversionWarning: Data with input dtype int64, float64 were all converted to float64 by MinMaxScaler.\n",
      "  return self.partial_fit(X, y)\n"
     ]
    },
    {
     "name": "stdout",
     "output_type": "stream",
     "text": [
      "Training Keras model...\n",
      "Train on 1081 samples, validate on 121 samples\n",
      "Epoch 1/30\n",
      "1081/1081 [==============================] - 19s 17ms/sample - loss: 13.7812 - acc: 0.1212 - val_loss: 14.7860 - val_acc: 0.0826\n",
      "Epoch 2/30\n",
      "1081/1081 [==============================] - 16s 15ms/sample - loss: 14.3587 - acc: 0.1092 - val_loss: 14.7860 - val_acc: 0.0826\n",
      "Epoch 3/30\n",
      "1081/1081 [==============================] - 16s 15ms/sample - loss: 14.3587 - acc: 0.1092 - val_loss: 14.7860 - val_acc: 0.0826\n",
      "Epoch 4/30\n",
      "1081/1081 [==============================] - 17s 15ms/sample - loss: 14.3587 - acc: 0.1092 - val_loss: 14.7860 - val_acc: 0.0826\n",
      "Epoch 5/30\n",
      "1081/1081 [==============================] - 16s 15ms/sample - loss: 14.3587 - acc: 0.1092 - val_loss: 14.7860 - val_acc: 0.0826\n",
      "Epoch 6/30\n",
      "1081/1081 [==============================] - 16s 15ms/sample - loss: 14.3587 - acc: 0.1092 - val_loss: 14.7860 - val_acc: 0.0826\n",
      "Evaluating training accuracy...\n",
      "1202/1202 [==============================] - 4s 3ms/sample - loss: 14.4017 - acc: 0.1065\n",
      "Final accuracy: 10.648918151855469\n",
      "\n",
      "\n",
      "Tissue type:  Colon\n"
     ]
    },
    {
     "name": "stderr",
     "output_type": "stream",
     "text": [
      "C:\\Users\\suji1\\Anaconda3\\envs\\cs418env\\lib\\site-packages\\sklearn\\preprocessing\\data.py:323: DataConversionWarning: Data with input dtype int64, float64 were all converted to float64 by MinMaxScaler.\n",
      "  return self.partial_fit(X, y)\n"
     ]
    },
    {
     "name": "stdout",
     "output_type": "stream",
     "text": [
      "Training Keras model...\n",
      "Train on 456 samples, validate on 51 samples\n",
      "Epoch 1/30\n",
      "456/456 [==============================] - 9s 19ms/sample - loss: 4.8968 - acc: 0.6338 - val_loss: 0.9481 - val_acc: 0.9412\n",
      "Epoch 2/30\n",
      "456/456 [==============================] - 7s 16ms/sample - loss: 5.0192 - acc: 0.6886 - val_loss: 0.9481 - val_acc: 0.9412\n",
      "Epoch 3/30\n",
      "456/456 [==============================] - 7s 16ms/sample - loss: 5.0192 - acc: 0.6886 - val_loss: 0.9481 - val_acc: 0.9412\n",
      "Epoch 4/30\n",
      "456/456 [==============================] - 7s 16ms/sample - loss: 5.0192 - acc: 0.6886 - val_loss: 0.9481 - val_acc: 0.9412\n",
      "Evaluating training accuracy...\n",
      "507/507 [==============================] - 2s 4ms/sample - loss: 4.6097 - acc: 0.7140\n",
      "Final accuracy: 71.40039205551147\n",
      "\n",
      "\n",
      "Tissue type:  Esophagus\n"
     ]
    },
    {
     "name": "stderr",
     "output_type": "stream",
     "text": [
      "C:\\Users\\suji1\\Anaconda3\\envs\\cs418env\\lib\\site-packages\\sklearn\\preprocessing\\data.py:323: DataConversionWarning: Data with input dtype int64, float64 were all converted to float64 by MinMaxScaler.\n",
      "  return self.partial_fit(X, y)\n"
     ]
    },
    {
     "name": "stdout",
     "output_type": "stream",
     "text": [
      "Training Keras model...\n",
      "Train on 918 samples, validate on 103 samples\n",
      "Epoch 1/30\n",
      "918/918 [==============================] - 15s 17ms/sample - loss: 4.7414 - acc: 0.6754 - val_loss: 2.1908 - val_acc: 0.8641\n",
      "Epoch 2/30\n",
      "918/918 [==============================] - 15s 16ms/sample - loss: 4.8108 - acc: 0.7015 - val_loss: 2.1908 - val_acc: 0.8641\n",
      "Epoch 3/30\n",
      "918/918 [==============================] - 14s 15ms/sample - loss: 4.8108 - acc: 0.7015 - val_loss: 2.1908 - val_acc: 0.8641\n",
      "Epoch 4/30\n",
      "918/918 [==============================] - 14s 16ms/sample - loss: 4.8108 - acc: 0.7015 - val_loss: 2.1908 - val_acc: 0.8641\n",
      "Epoch 5/30\n",
      "918/918 [==============================] - 14s 15ms/sample - loss: 4.8108 - acc: 0.7015 - val_loss: 2.1908 - val_acc: 0.8641\n",
      "Epoch 6/30\n",
      "918/918 [==============================] - 14s 15ms/sample - loss: 4.8108 - acc: 0.7015 - val_loss: 2.1908 - val_acc: 0.8641\n",
      "Evaluating training accuracy...\n",
      "1021/1021 [==============================] - 4s 3ms/sample - loss: 4.5465 - acc: 0.7179\n",
      "Final accuracy: 71.79235816001892\n",
      "\n",
      "\n",
      "Tissue type:  Heart\n"
     ]
    },
    {
     "name": "stderr",
     "output_type": "stream",
     "text": [
      "C:\\Users\\suji1\\Anaconda3\\envs\\cs418env\\lib\\site-packages\\sklearn\\preprocessing\\data.py:323: DataConversionWarning: Data with input dtype int64, float64 were all converted to float64 by MinMaxScaler.\n",
      "  return self.partial_fit(X, y)\n"
     ]
    },
    {
     "name": "stdout",
     "output_type": "stream",
     "text": [
      "Training Keras model...\n",
      "Train on 540 samples, validate on 60 samples\n",
      "Epoch 1/30\n",
      "540/540 [==============================] - 10s 18ms/sample - loss: 10.5764 - acc: 0.3000 - val_loss: 14.5063 - val_acc: 0.1000\n",
      "Epoch 2/30\n",
      "540/540 [==============================] - 8s 16ms/sample - loss: 11.7901 - acc: 0.2685 - val_loss: 14.5063 - val_acc: 0.1000\n",
      "Epoch 3/30\n",
      "540/540 [==============================] - 8s 15ms/sample - loss: 11.7901 - acc: 0.2685 - val_loss: 14.5063 - val_acc: 0.1000\n",
      "Epoch 4/30\n",
      "540/540 [==============================] - 8s 15ms/sample - loss: 11.7901 - acc: 0.2685 - val_loss: 14.5063 - val_acc: 0.1000\n",
      "Epoch 5/30\n",
      "540/540 [==============================] - 8s 15ms/sample - loss: 11.7901 - acc: 0.2685 - val_loss: 14.5063 - val_acc: 0.1000\n",
      "Evaluating training accuracy...\n",
      "600/600 [==============================] - 2s 4ms/sample - loss: 12.0617 - acc: 0.2517\n",
      "Final accuracy: 25.166666507720947\n",
      "\n",
      "\n",
      "Tissue type:  Lung\n"
     ]
    },
    {
     "name": "stderr",
     "output_type": "stream",
     "text": [
      "C:\\Users\\suji1\\Anaconda3\\envs\\cs418env\\lib\\site-packages\\sklearn\\preprocessing\\data.py:323: DataConversionWarning: Data with input dtype int64, float64 were all converted to float64 by MinMaxScaler.\n",
      "  return self.partial_fit(X, y)\n"
     ]
    },
    {
     "name": "stdout",
     "output_type": "stream",
     "text": [
      "Training Keras model...\n",
      "Train on 384 samples, validate on 43 samples\n",
      "Epoch 1/30\n",
      "384/384 [==============================] - 8s 21ms/sample - loss: 10.7050 - acc: 0.2396 - val_loss: 14.2439 - val_acc: 0.1163\n",
      "Epoch 2/30\n",
      "384/384 [==============================] - 6s 16ms/sample - loss: 12.0046 - acc: 0.2552 - val_loss: 14.2439 - val_acc: 0.1163\n",
      "Epoch 3/30\n",
      "384/384 [==============================] - 6s 15ms/sample - loss: 12.0046 - acc: 0.2552 - val_loss: 14.2439 - val_acc: 0.1163\n",
      "Epoch 4/30\n",
      "384/384 [==============================] - 6s 15ms/sample - loss: 12.0046 - acc: 0.2552 - val_loss: 14.2439 - val_acc: 0.1163\n",
      "Evaluating training accuracy...\n",
      "427/427 [==============================] - 1s 3ms/sample - loss: 12.2301 - acc: 0.2412\n",
      "Final accuracy: 24.121779203414917\n",
      "\n",
      "\n",
      "Tissue type:  Muscle\n"
     ]
    },
    {
     "name": "stderr",
     "output_type": "stream",
     "text": [
      "C:\\Users\\suji1\\Anaconda3\\envs\\cs418env\\lib\\site-packages\\sklearn\\preprocessing\\data.py:323: DataConversionWarning: Data with input dtype int64, float64 were all converted to float64 by MinMaxScaler.\n",
      "  return self.partial_fit(X, y)\n"
     ]
    },
    {
     "name": "stdout",
     "output_type": "stream",
     "text": [
      "Training Keras model...\n",
      "Train on 507 samples, validate on 57 samples\n",
      "Epoch 1/30\n",
      "507/507 [==============================] - 11s 21ms/sample - loss: 7.1047 - acc: 0.5247 - val_loss: 7.6349 - val_acc: 0.5263\n",
      "Epoch 2/30\n",
      "507/507 [==============================] - 9s 17ms/sample - loss: 7.5345 - acc: 0.5325 - val_loss: 7.6349 - val_acc: 0.5263\n",
      "Epoch 3/30\n",
      "507/507 [==============================] - 9s 18ms/sample - loss: 7.5345 - acc: 0.5325 - val_loss: 7.6349 - val_acc: 0.5263\n",
      "Epoch 4/30\n",
      "507/507 [==============================] - 8s 16ms/sample - loss: 7.5345 - acc: 0.5325 - val_loss: 7.6349 - val_acc: 0.5263\n",
      "Evaluating training accuracy...\n",
      "564/564 [==============================] - 2s 4ms/sample - loss: 7.5446 - acc: 0.5319\n",
      "Final accuracy: 53.19148898124695\n",
      "\n",
      "\n",
      "Tissue type:  Nerve\n"
     ]
    },
    {
     "name": "stderr",
     "output_type": "stream",
     "text": [
      "C:\\Users\\suji1\\Anaconda3\\envs\\cs418env\\lib\\site-packages\\sklearn\\preprocessing\\data.py:323: DataConversionWarning: Data with input dtype int64, float64 were all converted to float64 by MinMaxScaler.\n",
      "  return self.partial_fit(X, y)\n"
     ]
    },
    {
     "name": "stdout",
     "output_type": "stream",
     "text": [
      "Training Keras model...\n",
      "Train on 372 samples, validate on 42 samples\n",
      "Epoch 1/30\n",
      "372/372 [==============================] - 8s 23ms/sample - loss: 6.9134 - acc: 0.5000 - val_loss: 6.5240 - val_acc: 0.5952\n",
      "Epoch 2/30\n",
      "372/372 [==============================] - 6s 16ms/sample - loss: 7.4958 - acc: 0.5349 - val_loss: 6.5240 - val_acc: 0.5952\n",
      "Epoch 3/30\n",
      "372/372 [==============================] - 6s 16ms/sample - loss: 7.4958 - acc: 0.5349 - val_loss: 6.5240 - val_acc: 0.5952\n",
      "Epoch 4/30\n",
      "372/372 [==============================] - 6s 17ms/sample - loss: 7.4958 - acc: 0.5349 - val_loss: 6.5240 - val_acc: 0.5952\n",
      "Epoch 5/30\n",
      "372/372 [==============================] - 6s 16ms/sample - loss: 7.4958 - acc: 0.5349 - val_loss: 6.5240 - val_acc: 0.5952\n",
      "Epoch 6/30\n",
      "372/372 [==============================] - 6s 17ms/sample - loss: 7.4958 - acc: 0.5349 - val_loss: 6.5240 - val_acc: 0.5952\n",
      "Epoch 7/30\n",
      "372/372 [==============================] - 6s 16ms/sample - loss: 7.4958 - acc: 0.5349 - val_loss: 6.5240 - val_acc: 0.5952\n",
      "Evaluating training accuracy...\n",
      "414/414 [==============================] - 1s 3ms/sample - loss: 7.3972 - acc: 0.5411\n",
      "Final accuracy: 54.10627722740173\n",
      "\n",
      "\n",
      "Tissue type:  Pancreas\n"
     ]
    },
    {
     "name": "stderr",
     "output_type": "stream",
     "text": [
      "C:\\Users\\suji1\\Anaconda3\\envs\\cs418env\\lib\\site-packages\\sklearn\\preprocessing\\data.py:323: DataConversionWarning: Data with input dtype int64, float64 were all converted to float64 by MinMaxScaler.\n",
      "  return self.partial_fit(X, y)\n"
     ]
    },
    {
     "name": "stdout",
     "output_type": "stream",
     "text": [
      "Training Keras model...\n",
      "Train on 223 samples, validate on 25 samples\n",
      "Epoch 1/30\n",
      "223/223 [==============================] - 5s 23ms/sample - loss: 2.1909 - acc: 0.7444 - val_loss: 2.5789 - val_acc: 0.8400\n",
      "Epoch 2/30\n",
      "223/223 [==============================] - 4s 18ms/sample - loss: 2.1684 - acc: 0.8655 - val_loss: 2.5789 - val_acc: 0.8400\n",
      "Epoch 3/30\n",
      "223/223 [==============================] - 4s 16ms/sample - loss: 2.1684 - acc: 0.8655 - val_loss: 2.5789 - val_acc: 0.8400\n",
      "Epoch 4/30\n",
      "223/223 [==============================] - 4s 18ms/sample - loss: 2.1684 - acc: 0.8655 - val_loss: 2.5789 - val_acc: 0.8400\n",
      "Evaluating training accuracy...\n",
      "248/248 [==============================] - 2s 7ms/sample - loss: 2.2097 - acc: 0.8629 0s - loss: 2.5185 - acc: 0.84\n",
      "Final accuracy: 86.29032373428345\n",
      "\n",
      "\n",
      "Tissue type:  Stomach\n"
     ]
    },
    {
     "name": "stderr",
     "output_type": "stream",
     "text": [
      "C:\\Users\\suji1\\Anaconda3\\envs\\cs418env\\lib\\site-packages\\sklearn\\preprocessing\\data.py:323: DataConversionWarning: Data with input dtype int64, float64 were all converted to float64 by MinMaxScaler.\n",
      "  return self.partial_fit(X, y)\n"
     ]
    },
    {
     "name": "stdout",
     "output_type": "stream",
     "text": [
      "Training Keras model...\n",
      "Train on 234 samples, validate on 27 samples\n",
      "Epoch 1/30\n",
      "234/234 [==============================] - 6s 24ms/sample - loss: 2.1690 - acc: 0.7607 - val_loss: 2.3879 - val_acc: 0.8519\n",
      "Epoch 2/30\n",
      "234/234 [==============================] - 4s 17ms/sample - loss: 2.2042 - acc: 0.8632 - val_loss: 2.3879 - val_acc: 0.8519\n",
      "Epoch 3/30\n",
      "234/234 [==============================] - 4s 17ms/sample - loss: 2.2042 - acc: 0.8632 - val_loss: 2.3879 - val_acc: 0.8519\n",
      "Epoch 4/30\n",
      "234/234 [==============================] - 4s 17ms/sample - loss: 2.2042 - acc: 0.8632 - val_loss: 2.3879 - val_acc: 0.8519\n",
      "Evaluating training accuracy...\n",
      "261/261 [==============================] - 1s 4ms/sample - loss: 2.2232 - acc: 0.8621\n",
      "Final accuracy: 86.20689511299133\n",
      "\n",
      "\n",
      "Tissue type:  Testis\n"
     ]
    },
    {
     "name": "stderr",
     "output_type": "stream",
     "text": [
      "C:\\Users\\suji1\\Anaconda3\\envs\\cs418env\\lib\\site-packages\\sklearn\\preprocessing\\data.py:323: DataConversionWarning: Data with input dtype int64, float64 were all converted to float64 by MinMaxScaler.\n",
      "  return self.partial_fit(X, y)\n"
     ]
    },
    {
     "name": "stdout",
     "output_type": "stream",
     "text": [
      "Training Keras model...\n",
      "Train on 233 samples, validate on 26 samples\n",
      "Epoch 1/30\n",
      "233/233 [==============================] - 7s 30ms/sample - loss: 6.3707 - acc: 0.5236 - val_loss: 4.3395 - val_acc: 0.7308\n",
      "Epoch 2/30\n",
      "233/233 [==============================] - 5s 21ms/sample - loss: 7.1943 - acc: 0.5536 - val_loss: 4.3395 - val_acc: 0.7308\n",
      "Epoch 3/30\n",
      "233/233 [==============================] - 5s 19ms/sample - loss: 7.1943 - acc: 0.5536 - val_loss: 4.3395 - val_acc: 0.7308\n",
      "Epoch 4/30\n",
      "233/233 [==============================] - 5s 20ms/sample - loss: 7.1943 - acc: 0.5536 - val_loss: 4.3395 - val_acc: 0.7308\n",
      "Evaluating training accuracy...\n",
      "259/259 [==============================] - 1s 5ms/sample - loss: 6.9078 - acc: 0.5714\n",
      "Final accuracy: 57.14285969734192\n",
      "\n",
      "\n",
      "Tissue type:  Thyroid\n"
     ]
    },
    {
     "name": "stderr",
     "output_type": "stream",
     "text": [
      "C:\\Users\\suji1\\Anaconda3\\envs\\cs418env\\lib\\site-packages\\sklearn\\preprocessing\\data.py:323: DataConversionWarning: Data with input dtype int64, float64 were all converted to float64 by MinMaxScaler.\n",
      "  return self.partial_fit(X, y)\n"
     ]
    },
    {
     "name": "stdout",
     "output_type": "stream",
     "text": [
      "Training Keras model...\n",
      "Train on 401 samples, validate on 45 samples\n",
      "Epoch 1/30\n",
      "401/401 [==============================] - 9s 23ms/sample - loss: 6.6127 - acc: 0.5536 - val_loss: 5.7309 - val_acc: 0.6444\n",
      "Epoch 2/30\n",
      "401/401 [==============================] - 7s 16ms/sample - loss: 7.1145 - acc: 0.5586 - val_loss: 5.7309 - val_acc: 0.6444\n",
      "Epoch 3/30\n",
      "401/401 [==============================] - 6s 16ms/sample - loss: 7.1145 - acc: 0.5586 - val_loss: 5.7309 - val_acc: 0.6444\n",
      "Epoch 4/30\n",
      "401/401 [==============================] - 6s 16ms/sample - loss: 7.1145 - acc: 0.5586 - val_loss: 5.7309 - val_acc: 0.6444\n",
      "Evaluating training accuracy...\n",
      "446/446 [==============================] - 2s 3ms/sample - loss: 6.9749 - acc: 0.5673\n",
      "Final accuracy: 56.72645568847656\n",
      "\n",
      "\n"
     ]
    }
   ],
   "source": [
    "#Death Hardy effect\n",
    "\n",
    "tissue_specific_path = \"tissue-specific\"\n",
    "\n",
    "tissue_type = []\n",
    "tissue_model_persist = []\n",
    "tissue_model_accuracy = []\n",
    "\n",
    "for tissue in tissue_types:\n",
    "    k_model = keras_model()\n",
    "    TISSUE=tissue\n",
    "    infiles=os.listdir(tissue_specific_path)\n",
    "    TISSUE_files=[f for f in infiles if  TISSUE in f]\n",
    "    for entry in TISSUE_files:\n",
    "        if \"_cpm\" in entry: #Identify the file with _cpm suffix; cpm stands for Counts Per Million\n",
    "            pdd = pd.read_csv(os.path.join(tissue_specific_path,entry), sep='\\t')\n",
    "            tissue_meta=meta[meta['SMTS']==TISSUE]\n",
    "            death_y = tissue_meta['DTHHRDY']\n",
    "            \n",
    "            \n",
    "            print(\"Tissue type: \", TISSUE)\n",
    "            if pdd.shape[0] != tissue_meta.shape[0]:\n",
    "                print(\"Shape mismatch!\\n\")\n",
    "                break\n",
    "\n",
    "            #Dropping the gene id colunm since it plays no role in classification\n",
    "            pdd = pdd.drop(pdd.columns[0], axis='columns')\n",
    "\n",
    "            #Min_max normalization\n",
    "            min_max_scaler = preprocessing.MinMaxScaler()\n",
    "            np_scaled = min_max_scaler.fit_transform(pdd)\n",
    "            pdd = pd.DataFrame(np_scaled)\n",
    "            \n",
    "            #Categorizing the target column and performing one-hot encoding\n",
    "            encoder = LabelEncoder()\n",
    "            encoder.fit(death_y.astype(str))\n",
    "            encoded_Y = encoder.transform(death_y.astype(str))\n",
    "            dummy_y = tf.keras.utils.to_categorical(encoded_Y)\n",
    "            \n",
    "            #Training the model for the current tissue type\n",
    "            numpy_matrix = pdd.as_matrix()\n",
    "            acc, fileName = k_model.model_train(numpy_matrix, dummy_y)\n",
    "            if acc != -1:\n",
    "                try:\n",
    "                    acc = acc * 100\n",
    "                    tissue_type.append(TISSUE)\n",
    "                    tissue_model_persist.append(fileName)\n",
    "                    tissue_model_accuracy.append(acc)\n",
    "                    print(\"Final accuracy:\", acc)\n",
    "                except:\n",
    "                    print(\"Error occurred for tissue type: \", TISSUE)\n",
    "            print(\"\\n\")\n",
    "            break\n",
    "            "
   ]
  },
  {
   "cell_type": "code",
   "execution_count": 25,
   "metadata": {},
   "outputs": [
    {
     "data": {
      "text/html": [
       "<div>\n",
       "<style scoped>\n",
       "    .dataframe tbody tr th:only-of-type {\n",
       "        vertical-align: middle;\n",
       "    }\n",
       "\n",
       "    .dataframe tbody tr th {\n",
       "        vertical-align: top;\n",
       "    }\n",
       "\n",
       "    .dataframe thead th {\n",
       "        text-align: right;\n",
       "    }\n",
       "</style>\n",
       "<table border=\"1\" class=\"dataframe\">\n",
       "  <thead>\n",
       "    <tr style=\"text-align: right;\">\n",
       "      <th></th>\n",
       "      <th>tissue_type</th>\n",
       "      <th>model_file</th>\n",
       "      <th>model_accuracy</th>\n",
       "    </tr>\n",
       "  </thead>\n",
       "  <tbody>\n",
       "    <tr>\n",
       "      <th>0</th>\n",
       "      <td>Adipose Tissue</td>\n",
       "      <td>Adipose Tissue_keras_model.h5</td>\n",
       "      <td>57.340026</td>\n",
       "    </tr>\n",
       "    <tr>\n",
       "      <th>1</th>\n",
       "      <td>Blood Vessel</td>\n",
       "      <td>Blood Vessel_keras_model.h5</td>\n",
       "      <td>21.139102</td>\n",
       "    </tr>\n",
       "    <tr>\n",
       "      <th>2</th>\n",
       "      <td>Brain</td>\n",
       "      <td>Brain_keras_model.h5</td>\n",
       "      <td>59.516615</td>\n",
       "    </tr>\n",
       "    <tr>\n",
       "      <th>3</th>\n",
       "      <td>Breast</td>\n",
       "      <td>Breast_keras_model.h5</td>\n",
       "      <td>57.931036</td>\n",
       "    </tr>\n",
       "    <tr>\n",
       "      <th>5</th>\n",
       "      <td>Colon</td>\n",
       "      <td>Colon_keras_model.h5</td>\n",
       "      <td>71.400392</td>\n",
       "    </tr>\n",
       "    <tr>\n",
       "      <th>6</th>\n",
       "      <td>Esophagus</td>\n",
       "      <td>Esophagus_keras_model.h5</td>\n",
       "      <td>71.792358</td>\n",
       "    </tr>\n",
       "    <tr>\n",
       "      <th>7</th>\n",
       "      <td>Heart</td>\n",
       "      <td>Heart_keras_model.h5</td>\n",
       "      <td>25.166667</td>\n",
       "    </tr>\n",
       "    <tr>\n",
       "      <th>8</th>\n",
       "      <td>Lung</td>\n",
       "      <td>Lung_keras_model.h5</td>\n",
       "      <td>24.121779</td>\n",
       "    </tr>\n",
       "    <tr>\n",
       "      <th>9</th>\n",
       "      <td>Muscle</td>\n",
       "      <td>Muscle_keras_model.h5</td>\n",
       "      <td>53.191489</td>\n",
       "    </tr>\n",
       "    <tr>\n",
       "      <th>10</th>\n",
       "      <td>Nerve</td>\n",
       "      <td>Nerve_keras_model.h5</td>\n",
       "      <td>54.106277</td>\n",
       "    </tr>\n",
       "    <tr>\n",
       "      <th>11</th>\n",
       "      <td>Pancreas</td>\n",
       "      <td>Pancreas_keras_model.h5</td>\n",
       "      <td>86.290324</td>\n",
       "    </tr>\n",
       "    <tr>\n",
       "      <th>4</th>\n",
       "      <td>Skin</td>\n",
       "      <td>Skin_keras_model.h5</td>\n",
       "      <td>10.648918</td>\n",
       "    </tr>\n",
       "    <tr>\n",
       "      <th>12</th>\n",
       "      <td>Stomach</td>\n",
       "      <td>Stomach_keras_model.h5</td>\n",
       "      <td>86.206895</td>\n",
       "    </tr>\n",
       "    <tr>\n",
       "      <th>13</th>\n",
       "      <td>Testis</td>\n",
       "      <td>Testis_keras_model.h5</td>\n",
       "      <td>57.142860</td>\n",
       "    </tr>\n",
       "    <tr>\n",
       "      <th>14</th>\n",
       "      <td>Thyroid</td>\n",
       "      <td>Thyroid_keras_model.h5</td>\n",
       "      <td>56.726456</td>\n",
       "    </tr>\n",
       "  </tbody>\n",
       "</table>\n",
       "</div>"
      ],
      "text/plain": [
       "       tissue_type                     model_file  model_accuracy\n",
       "0   Adipose Tissue  Adipose Tissue_keras_model.h5       57.340026\n",
       "1     Blood Vessel    Blood Vessel_keras_model.h5       21.139102\n",
       "2            Brain           Brain_keras_model.h5       59.516615\n",
       "3           Breast          Breast_keras_model.h5       57.931036\n",
       "5            Colon           Colon_keras_model.h5       71.400392\n",
       "6        Esophagus       Esophagus_keras_model.h5       71.792358\n",
       "7            Heart           Heart_keras_model.h5       25.166667\n",
       "8             Lung            Lung_keras_model.h5       24.121779\n",
       "9           Muscle          Muscle_keras_model.h5       53.191489\n",
       "10           Nerve           Nerve_keras_model.h5       54.106277\n",
       "11        Pancreas        Pancreas_keras_model.h5       86.290324\n",
       "4             Skin            Skin_keras_model.h5       10.648918\n",
       "12         Stomach         Stomach_keras_model.h5       86.206895\n",
       "13          Testis          Testis_keras_model.h5       57.142860\n",
       "14         Thyroid         Thyroid_keras_model.h5       56.726456"
      ]
     },
     "execution_count": 25,
     "metadata": {},
     "output_type": "execute_result"
    }
   ],
   "source": [
    "keras_model_pd = pd.DataFrame(\n",
    "    data = {\n",
    "        'tissue_type': tissue_type,\n",
    "        'model_file': tissue_model_persist,\n",
    "        'model_accuracy': tissue_model_accuracy\n",
    "    }\n",
    ")\n",
    "\n",
    "keras_model_pd = keras_model_pd.sort_values('tissue_type')\n",
    "\n",
    "keras_model_pd.to_csv(\"keras_model_Hardy_results_unfiltered.tsv\",sep=\"\\t\",index=False)\n",
    "\n",
    "keras_filtered_pd = keras_model_pd.copy()\n",
    "\n",
    "keras_filtered_pd"
   ]
  },
  {
   "cell_type": "code",
   "execution_count": 29,
   "metadata": {},
   "outputs": [
    {
     "data": {
      "image/png": "[encoded data removed]",
      "text/plain": [
       "<Figure size 800x400 with 1 Axes>"
      ]
     },
     "metadata": {},
     "output_type": "display_data"
    }
   ],
   "source": [
    "mpl.style.use('default')\n",
    "fig = plt.figure(figsize=(8,4))\n",
    "ax = fig.add_subplot(111)\n",
    "\n",
    "model_plot = sns.barplot(x = keras_filtered_pd['tissue_type'],\n",
    "            y=keras_filtered_pd['model_accuracy'],\n",
    "            data = keras_filtered_pd,\n",
    "            orient='v',\n",
    "            estimator=np.mean,\n",
    "            capsize=0.1)\n",
    "\n",
    "tick_labels = keras_filtered_pd['tissue_type'].as_matrix()\n",
    "ax.set_xticklabels(tick_labels,rotation=90)\n",
    "ax.set(ylim=(0,100))\n",
    "ax.set(title='Hardy death prediction (unfiltered) - Keras: accuracy across tissue types')\n",
    "ax.set(xlabel='Tissue types')\n",
    "ax.set(ylabel='Training accuracy')\n",
    "\n",
    "plt.show()\n",
    "test = model_plot.get_figure()\n",
    "test.savefig('keras_hardy_unfiltered_results.png', bbox_inches='tight')"
   ]
  },
  {
   "cell_type": "code",
   "execution_count": 7,
   "metadata": {
    "scrolled": false
   },
   "outputs": [
    {
     "name": "stdout",
     "output_type": "stream",
     "text": [
      "Tissue type:  Adipose Tissue\n"
     ]
    },
    {
     "name": "stderr",
     "output_type": "stream",
     "text": [
      "C:\\Users\\suji1\\Anaconda3\\envs\\cs418env\\lib\\site-packages\\sklearn\\preprocessing\\data.py:323: DataConversionWarning: Data with input dtype int64, float64 were all converted to float64 by MinMaxScaler.\n",
      "  return self.partial_fit(X, y)\n"
     ]
    },
    {
     "name": "stdout",
     "output_type": "stream",
     "text": [
      "Training Keras model...\n",
      "Train on 613 samples, validate on 69 samples\n",
      "Epoch 1/30\n",
      "613/613 [==============================] - 9s 15ms/sample - loss: 5.3133 - acc: 0.6509 - val_loss: 2.8031 - val_acc: 0.8261\n",
      "Epoch 2/30\n",
      "613/613 [==============================] - 9s 14ms/sample - loss: 5.6006 - acc: 0.6525 - val_loss: 2.8031 - val_acc: 0.8261\n",
      "Epoch 3/30\n",
      "613/613 [==============================] - 9s 14ms/sample - loss: 5.6006 - acc: 0.6525 - val_loss: 2.8031 - val_acc: 0.8261\n",
      "Epoch 4/30\n",
      "613/613 [==============================] - 9s 14ms/sample - loss: 5.6006 - acc: 0.6525 - val_loss: 2.8031 - val_acc: 0.8261\n",
      "Evaluating training accuracy...\n",
      "682/682 [==============================] - 1s 2ms/sample - loss: 5.3176 - acc: 0.6701\n",
      "Final accuracy: 67.0087993144989\n",
      "\n",
      "\n",
      "Tissue type:  Blood Vessel\n"
     ]
    },
    {
     "name": "stderr",
     "output_type": "stream",
     "text": [
      "C:\\Users\\suji1\\Anaconda3\\envs\\cs418env\\lib\\site-packages\\sklearn\\preprocessing\\data.py:323: DataConversionWarning: Data with input dtype int64, float64 were all converted to float64 by MinMaxScaler.\n",
      "  return self.partial_fit(X, y)\n"
     ]
    },
    {
     "name": "stdout",
     "output_type": "stream",
     "text": [
      "Training Keras model...\n",
      "Train on 709 samples, validate on 79 samples\n",
      "Epoch 1/30\n",
      "709/709 [==============================] - 11s 15ms/sample - loss: nan - acc: 0.6869 - val_loss: nan - val_acc: 0.7848\n",
      "Epoch 2/30\n",
      "709/709 [==============================] - 10s 14ms/sample - loss: nan - acc: 0.6869 - val_loss: nan - val_acc: 0.7848\n",
      "Epoch 3/30\n",
      "709/709 [==============================] - 10s 14ms/sample - loss: nan - acc: 0.6869 - val_loss: nan - val_acc: 0.7848\n",
      "Evaluating training accuracy...\n",
      "788/788 [==============================] - 1s 2ms/sample - loss: nan - acc: 0.6967\n",
      "Final accuracy: 69.67005133628845\n",
      "\n",
      "\n",
      "Tissue type:  Brain\n"
     ]
    },
    {
     "name": "stderr",
     "output_type": "stream",
     "text": [
      "C:\\Users\\suji1\\Anaconda3\\envs\\cs418env\\lib\\site-packages\\sklearn\\preprocessing\\data.py:323: DataConversionWarning: Data with input dtype int64, float64 were all converted to float64 by MinMaxScaler.\n",
      "  return self.partial_fit(X, y)\n"
     ]
    },
    {
     "name": "stdout",
     "output_type": "stream",
     "text": [
      "Training Keras model...\n",
      "Train on 212 samples, validate on 24 samples\n",
      "Epoch 1/30\n",
      "212/212 [==============================] - 3s 16ms/sample - loss: nan - acc: 0.0472 - val_loss: nan - val_acc: 0.0833\n",
      "Epoch 2/30\n",
      "212/212 [==============================] - 3s 15ms/sample - loss: nan - acc: 0.0472 - val_loss: nan - val_acc: 0.0833\n",
      "Epoch 3/30\n",
      "212/212 [==============================] - 3s 15ms/sample - loss: nan - acc: 0.0472 - val_loss: nan - val_acc: 0.0833\n",
      "Evaluating training accuracy...\n",
      "236/236 [==============================] - 0s 2ms/sample - loss: nan - acc: 0.0508\n",
      "Final accuracy: 5.0847455859184265\n",
      "\n",
      "\n",
      "Tissue type:  Breast\n"
     ]
    },
    {
     "name": "stderr",
     "output_type": "stream",
     "text": [
      "C:\\Users\\suji1\\Anaconda3\\envs\\cs418env\\lib\\site-packages\\sklearn\\preprocessing\\data.py:323: DataConversionWarning: Data with input dtype int64, float64 were all converted to float64 by MinMaxScaler.\n",
      "  return self.partial_fit(X, y)\n"
     ]
    },
    {
     "name": "stdout",
     "output_type": "stream",
     "text": [
      "Training Keras model...\n",
      "Train on 223 samples, validate on 25 samples\n",
      "Epoch 1/30\n",
      "223/223 [==============================] - 4s 16ms/sample - loss: nan - acc: 0.6682 - val_loss: nan - val_acc: 0.7600\n",
      "Epoch 2/30\n",
      "223/223 [==============================] - 3s 14ms/sample - loss: nan - acc: 0.6682 - val_loss: nan - val_acc: 0.7600\n",
      "Epoch 3/30\n",
      "223/223 [==============================] - 3s 14ms/sample - loss: nan - acc: 0.6682 - val_loss: nan - val_acc: 0.7600\n",
      "Evaluating training accuracy...\n",
      "248/248 [==============================] - 0s 2ms/sample - loss: nan - acc: 0.6774\n",
      "Final accuracy: 67.7419364452362\n",
      "\n",
      "\n",
      "Tissue type:  Blood\n",
      "Shape mismatch!\n",
      "\n",
      "Tissue type:  Skin\n"
     ]
    },
    {
     "name": "stderr",
     "output_type": "stream",
     "text": [
      "C:\\Users\\suji1\\Anaconda3\\envs\\cs418env\\lib\\site-packages\\sklearn\\preprocessing\\data.py:323: DataConversionWarning: Data with input dtype int64, float64 were all converted to float64 by MinMaxScaler.\n",
      "  return self.partial_fit(X, y)\n"
     ]
    },
    {
     "name": "stdout",
     "output_type": "stream",
     "text": [
      "Training Keras model...\n",
      "Train on 889 samples, validate on 99 samples\n",
      "Epoch 1/30\n",
      "889/889 [==============================] - 13s 14ms/sample - loss: nan - acc: 0.6265 - val_loss: nan - val_acc: 0.7778\n",
      "Epoch 2/30\n",
      "889/889 [==============================] - 12s 14ms/sample - loss: nan - acc: 0.6265 - val_loss: nan - val_acc: 0.7778\n",
      "Epoch 3/30\n",
      "889/889 [==============================] - 12s 14ms/sample - loss: nan - acc: 0.6265 - val_loss: nan - val_acc: 0.7778\n",
      "Evaluating training accuracy...\n",
      "988/988 [==============================] - 2s 2ms/sample - loss: nan - acc: 0.6417\n",
      "Final accuracy: 64.17003870010376\n",
      "\n",
      "\n",
      "Tissue type:  Colon\n"
     ]
    },
    {
     "name": "stderr",
     "output_type": "stream",
     "text": [
      "C:\\Users\\suji1\\Anaconda3\\envs\\cs418env\\lib\\site-packages\\sklearn\\preprocessing\\data.py:323: DataConversionWarning: Data with input dtype int64, float64 were all converted to float64 by MinMaxScaler.\n",
      "  return self.partial_fit(X, y)\n"
     ]
    },
    {
     "name": "stdout",
     "output_type": "stream",
     "text": [
      "Training Keras model...\n",
      "Train on 410 samples, validate on 46 samples\n",
      "Epoch 1/30\n",
      "410/410 [==============================] - 6s 15ms/sample - loss: nan - acc: 0.7756 - val_loss: nan - val_acc: 0.9565\n",
      "Epoch 2/30\n",
      "410/410 [==============================] - 6s 14ms/sample - loss: nan - acc: 0.7756 - val_loss: nan - val_acc: 0.9565\n",
      "Epoch 3/30\n",
      "410/410 [==============================] - 6s 14ms/sample - loss: nan - acc: 0.7756 - val_loss: nan - val_acc: 0.9565\n",
      "Evaluating training accuracy...\n",
      "456/456 [==============================] - 1s 2ms/sample - loss: nan - acc: 0.7939\n",
      "Final accuracy: 79.38596606254578\n",
      "\n",
      "\n",
      "Tissue type:  Esophagus\n"
     ]
    },
    {
     "name": "stderr",
     "output_type": "stream",
     "text": [
      "C:\\Users\\suji1\\Anaconda3\\envs\\cs418env\\lib\\site-packages\\sklearn\\preprocessing\\data.py:323: DataConversionWarning: Data with input dtype int64, float64 were all converted to float64 by MinMaxScaler.\n",
      "  return self.partial_fit(X, y)\n"
     ]
    },
    {
     "name": "stdout",
     "output_type": "stream",
     "text": [
      "Training Keras model...\n",
      "Train on 831 samples, validate on 93 samples\n",
      "Epoch 1/30\n",
      "831/831 [==============================] - 12s 15ms/sample - loss: nan - acc: 0.7774 - val_loss: nan - val_acc: 0.9355\n",
      "Epoch 2/30\n",
      "831/831 [==============================] - 12s 14ms/sample - loss: nan - acc: 0.7774 - val_loss: nan - val_acc: 0.9355\n",
      "Epoch 3/30\n",
      "831/831 [==============================] - 12s 14ms/sample - loss: nan - acc: 0.7774 - val_loss: nan - val_acc: 0.9355\n",
      "Evaluating training accuracy...\n",
      "924/924 [==============================] - 2s 2ms/sample - loss: nan - acc: 0.7933\n",
      "Final accuracy: 79.32900190353394\n",
      "\n",
      "\n",
      "Tissue type:  Heart\n"
     ]
    },
    {
     "name": "stderr",
     "output_type": "stream",
     "text": [
      "C:\\Users\\suji1\\Anaconda3\\envs\\cs418env\\lib\\site-packages\\sklearn\\preprocessing\\data.py:323: DataConversionWarning: Data with input dtype int64, float64 were all converted to float64 by MinMaxScaler.\n",
      "  return self.partial_fit(X, y)\n"
     ]
    },
    {
     "name": "stdout",
     "output_type": "stream",
     "text": [
      "Training Keras model...\n",
      "Train on 459 samples, validate on 52 samples\n",
      "Epoch 1/30\n",
      "459/459 [==============================] - 7s 15ms/sample - loss: nan - acc: 0.6275 - val_loss: nan - val_acc: 0.8077\n",
      "Epoch 2/30\n",
      "459/459 [==============================] - 7s 14ms/sample - loss: nan - acc: 0.6275 - val_loss: nan - val_acc: 0.8077\n",
      "Epoch 3/30\n",
      "459/459 [==============================] - 7s 14ms/sample - loss: nan - acc: 0.6275 - val_loss: nan - val_acc: 0.8077\n",
      "Evaluating training accuracy...\n",
      "511/511 [==============================] - 1s 2ms/sample - loss: nan - acc: 0.6458\n",
      "Final accuracy: 64.5792543888092\n",
      "\n",
      "\n",
      "Tissue type:  Lung\n"
     ]
    },
    {
     "name": "stderr",
     "output_type": "stream",
     "text": [
      "C:\\Users\\suji1\\Anaconda3\\envs\\cs418env\\lib\\site-packages\\sklearn\\preprocessing\\data.py:323: DataConversionWarning: Data with input dtype int64, float64 were all converted to float64 by MinMaxScaler.\n",
      "  return self.partial_fit(X, y)\n"
     ]
    },
    {
     "name": "stdout",
     "output_type": "stream",
     "text": [
      "Training Keras model...\n",
      "Train on 328 samples, validate on 37 samples\n",
      "Epoch 1/30\n",
      "328/328 [==============================] - 5s 16ms/sample - loss: nan - acc: 0.6494 - val_loss: nan - val_acc: 0.7568\n",
      "Epoch 2/30\n",
      "328/328 [==============================] - 5s 15ms/sample - loss: nan - acc: 0.6494 - val_loss: nan - val_acc: 0.7568\n",
      "Epoch 3/30\n",
      "328/328 [==============================] - 5s 15ms/sample - loss: nan - acc: 0.6494 - val_loss: nan - val_acc: 0.7568\n",
      "Evaluating training accuracy...\n",
      "365/365 [==============================] - 1s 2ms/sample - loss: nan - acc: 0.6603\n",
      "Final accuracy: 66.02739691734314\n",
      "\n",
      "\n",
      "Tissue type:  Muscle\n"
     ]
    },
    {
     "name": "stderr",
     "output_type": "stream",
     "text": [
      "C:\\Users\\suji1\\Anaconda3\\envs\\cs418env\\lib\\site-packages\\sklearn\\preprocessing\\data.py:323: DataConversionWarning: Data with input dtype int64, float64 were all converted to float64 by MinMaxScaler.\n",
      "  return self.partial_fit(X, y)\n"
     ]
    },
    {
     "name": "stdout",
     "output_type": "stream",
     "text": [
      "Training Keras model...\n",
      "Train on 417 samples, validate on 47 samples\n",
      "Epoch 1/30\n",
      "417/417 [==============================] - 7s 18ms/sample - loss: nan - acc: 0.6403 - val_loss: nan - val_acc: 0.7021\n",
      "Epoch 2/30\n",
      "417/417 [==============================] - 6s 15ms/sample - loss: nan - acc: 0.6403 - val_loss: nan - val_acc: 0.7021\n",
      "Epoch 3/30\n",
      "417/417 [==============================] - 6s 15ms/sample - loss: nan - acc: 0.6403 - val_loss: nan - val_acc: 0.7021\n",
      "Evaluating training accuracy...\n",
      "464/464 [==============================] - 1s 2ms/sample - loss: nan - acc: 0.6466\n",
      "Final accuracy: 64.65517282485962\n",
      "\n",
      "\n",
      "Tissue type:  Nerve\n"
     ]
    },
    {
     "name": "stderr",
     "output_type": "stream",
     "text": [
      "C:\\Users\\suji1\\Anaconda3\\envs\\cs418env\\lib\\site-packages\\sklearn\\preprocessing\\data.py:323: DataConversionWarning: Data with input dtype int64, float64 were all converted to float64 by MinMaxScaler.\n",
      "  return self.partial_fit(X, y)\n"
     ]
    },
    {
     "name": "stdout",
     "output_type": "stream",
     "text": [
      "Training Keras model...\n",
      "Train on 310 samples, validate on 35 samples\n",
      "Epoch 1/30\n",
      "310/310 [==============================] - 5s 17ms/sample - loss: nan - acc: 0.6419 - val_loss: nan - val_acc: 0.7143\n",
      "Epoch 2/30\n",
      "310/310 [==============================] - 4s 14ms/sample - loss: nan - acc: 0.6419 - val_loss: nan - val_acc: 0.7143\n",
      "Epoch 3/30\n",
      "310/310 [==============================] - 5s 17ms/sample - loss: nan - acc: 0.6419 - val_loss: nan - val_acc: 0.7143\n",
      "Evaluating training accuracy...\n",
      "345/345 [==============================] - 1s 2ms/sample - loss: nan - acc: 0.6493\n",
      "Final accuracy: 64.92753624916077\n",
      "\n",
      "\n",
      "Tissue type:  Pancreas\n"
     ]
    },
    {
     "name": "stderr",
     "output_type": "stream",
     "text": [
      "C:\\Users\\suji1\\Anaconda3\\envs\\cs418env\\lib\\site-packages\\sklearn\\preprocessing\\data.py:323: DataConversionWarning: Data with input dtype int64, float64 were all converted to float64 by MinMaxScaler.\n",
      "  return self.partial_fit(X, y)\n"
     ]
    },
    {
     "name": "stdout",
     "output_type": "stream",
     "text": [
      "Training Keras model...\n",
      "Train on 212 samples, validate on 24 samples\n",
      "Epoch 1/30\n",
      "212/212 [==============================] - 5s 23ms/sample - loss: nan - acc: 0.9009 - val_loss: nan - val_acc: 0.9583\n",
      "Epoch 2/30\n",
      "212/212 [==============================] - 3s 15ms/sample - loss: nan - acc: 0.9009 - val_loss: nan - val_acc: 0.9583\n",
      "Epoch 3/30\n",
      "212/212 [==============================] - 3s 15ms/sample - loss: nan - acc: 0.9009 - val_loss: nan - val_acc: 0.9583\n",
      "Evaluating training accuracy...\n",
      "236/236 [==============================] - 0s 2ms/sample - loss: nan - acc: 0.9068\n",
      "Final accuracy: 90.67796468734741\n",
      "\n",
      "\n",
      "Tissue type:  Stomach\n"
     ]
    },
    {
     "name": "stderr",
     "output_type": "stream",
     "text": [
      "C:\\Users\\suji1\\Anaconda3\\envs\\cs418env\\lib\\site-packages\\sklearn\\preprocessing\\data.py:323: DataConversionWarning: Data with input dtype int64, float64 were all converted to float64 by MinMaxScaler.\n",
      "  return self.partial_fit(X, y)\n"
     ]
    },
    {
     "name": "stdout",
     "output_type": "stream",
     "text": [
      "Training Keras model...\n",
      "Train on 225 samples, validate on 25 samples\n",
      "Epoch 1/30\n",
      "225/225 [==============================] - 4s 19ms/sample - loss: nan - acc: 0.8978 - val_loss: nan - val_acc: 0.9200\n",
      "Epoch 2/30\n",
      "225/225 [==============================] - 4s 16ms/sample - loss: nan - acc: 0.8978 - val_loss: nan - val_acc: 0.9200\n",
      "Epoch 3/30\n",
      "225/225 [==============================] - 3s 16ms/sample - loss: nan - acc: 0.8978 - val_loss: nan - val_acc: 0.9200\n",
      "Evaluating training accuracy...\n",
      "250/250 [==============================] - 0s 2ms/sample - loss: nan - acc: 0.9000\n",
      "Final accuracy: 89.99999761581421\n",
      "\n",
      "\n",
      "Tissue type:  Testis\n"
     ]
    },
    {
     "name": "stderr",
     "output_type": "stream",
     "text": [
      "C:\\Users\\suji1\\Anaconda3\\envs\\cs418env\\lib\\site-packages\\sklearn\\preprocessing\\data.py:323: DataConversionWarning: Data with input dtype int64, float64 were all converted to float64 by MinMaxScaler.\n",
      "  return self.partial_fit(X, y)\n"
     ]
    },
    {
     "name": "stdout",
     "output_type": "stream",
     "text": [
      "Training Keras model...\n",
      "Train on 214 samples, validate on 24 samples\n",
      "Epoch 1/30\n",
      "214/214 [==============================] - 4s 18ms/sample - loss: nan - acc: 0.6075 - val_loss: nan - val_acc: 0.7500\n",
      "Epoch 2/30\n",
      "214/214 [==============================] - 4s 16ms/sample - loss: nan - acc: 0.6075 - val_loss: nan - val_acc: 0.7500\n",
      "Epoch 3/30\n",
      "214/214 [==============================] - 3s 14ms/sample - loss: nan - acc: 0.6075 - val_loss: nan - val_acc: 0.7500\n",
      "Evaluating training accuracy...\n",
      "238/238 [==============================] - 0s 2ms/sample - loss: nan - acc: 0.6218\n",
      "Final accuracy: 62.18487620353699\n",
      "\n",
      "\n",
      "Tissue type:  Thyroid\n"
     ]
    },
    {
     "name": "stderr",
     "output_type": "stream",
     "text": [
      "C:\\Users\\suji1\\Anaconda3\\envs\\cs418env\\lib\\site-packages\\sklearn\\preprocessing\\data.py:323: DataConversionWarning: Data with input dtype int64, float64 were all converted to float64 by MinMaxScaler.\n",
      "  return self.partial_fit(X, y)\n"
     ]
    },
    {
     "name": "stdout",
     "output_type": "stream",
     "text": [
      "Training Keras model...\n",
      "Train on 349 samples, validate on 39 samples\n",
      "Epoch 1/30\n",
      "349/349 [==============================] - 6s 17ms/sample - loss: nan - acc: 0.6418 - val_loss: nan - val_acc: 0.7436\n",
      "Epoch 2/30\n",
      "349/349 [==============================] - 5s 14ms/sample - loss: nan - acc: 0.6418 - val_loss: nan - val_acc: 0.7436\n",
      "Epoch 3/30\n",
      "349/349 [==============================] - 5s 14ms/sample - loss: nan - acc: 0.6418 - val_loss: nan - val_acc: 0.7436\n",
      "Evaluating training accuracy...\n",
      "388/388 [==============================] - 1s 2ms/sample - loss: nan - acc: 0.6521\n",
      "Final accuracy: 65.20618796348572\n",
      "\n",
      "\n"
     ]
    }
   ],
   "source": [
    "#Death Hardy effect\n",
    "\n",
    "tissue_specific_path = \"tissue-specific\"\n",
    "\n",
    "tissue_type = []\n",
    "tissue_model_persist = []\n",
    "tissue_model_accuracy = []\n",
    "\n",
    "for tissue in tissue_types:\n",
    "    k_model = keras_model()\n",
    "    TISSUE=tissue\n",
    "    infiles=os.listdir(tissue_specific_path)\n",
    "    TISSUE_files=[f for f in infiles if  TISSUE in f]\n",
    "    for entry in TISSUE_files:\n",
    "        if \"_cpm\" in entry: #Identify the file with _cpm suffix; cpm stands for Counts Per Million\n",
    "            pdd = pd.read_csv(os.path.join(tissue_specific_path,entry), sep='\\t')\n",
    "            tissue_meta=meta[meta['SMTS']==TISSUE]\n",
    "            death_y = tissue_meta['DTHHRDY']\n",
    "            \n",
    "            \n",
    "            print(\"Tissue type: \", TISSUE)\n",
    "            if pdd.shape[0] != tissue_meta.shape[0]:\n",
    "                print(\"Shape mismatch!\\n\")\n",
    "                break\n",
    "\n",
    "            #Dropping the gene id colunm since it plays no role in classification\n",
    "            pdd = pdd.drop(pdd.columns[0], axis='columns')\n",
    "\n",
    "            #Min_max normalization\n",
    "            min_max_scaler = preprocessing.MinMaxScaler()\n",
    "            np_scaled = min_max_scaler.fit_transform(pdd)\n",
    "            pdd = pd.DataFrame(np_scaled)\n",
    "            \n",
    "            #Drop columns based on filter\n",
    "            pdd = pd.concat([pdd, death_y], axis=1)\n",
    "            pdd = pdd[pdd['DTHHRDY'].isin(['0.0', '1.0', '2.0'])]\n",
    "            death_y = pdd['DTHHRDY'].copy()\n",
    "            pdd = pdd.drop(columns=['DTHHRDY'])\n",
    "            \n",
    "            #Categorizing the target column and performing one-hot encoding\n",
    "            encoder = LabelEncoder()\n",
    "            encoder.fit(death_y.astype(str))\n",
    "            encoded_Y = encoder.transform(death_y.astype(str))\n",
    "            dummy_y = tf.keras.utils.to_categorical(encoded_Y)\n",
    "            \n",
    "            #Training the model for the current tissue type\n",
    "            numpy_matrix = pdd.as_matrix()\n",
    "            acc, fileName = k_model.model_train(numpy_matrix, dummy_y)\n",
    "            if acc != -1:\n",
    "                try:\n",
    "                    acc = acc * 100\n",
    "                    tissue_type.append(TISSUE)\n",
    "                    tissue_model_persist.append(fileName)\n",
    "                    tissue_model_accuracy.append(acc)\n",
    "                    print(\"Final accuracy:\", acc)\n",
    "                except:\n",
    "                    print(\"Error occurred for tissue type: \", TISSUE)\n",
    "            print(\"\\n\")\n",
    "            break"
   ]
  },
  {
   "cell_type": "code",
   "execution_count": 8,
   "metadata": {},
   "outputs": [
    {
     "data": {
      "text/html": [
       "<div>\n",
       "<style scoped>\n",
       "    .dataframe tbody tr th:only-of-type {\n",
       "        vertical-align: middle;\n",
       "    }\n",
       "\n",
       "    .dataframe tbody tr th {\n",
       "        vertical-align: top;\n",
       "    }\n",
       "\n",
       "    .dataframe thead th {\n",
       "        text-align: right;\n",
       "    }\n",
       "</style>\n",
       "<table border=\"1\" class=\"dataframe\">\n",
       "  <thead>\n",
       "    <tr style=\"text-align: right;\">\n",
       "      <th></th>\n",
       "      <th>tissue_type</th>\n",
       "      <th>model_file</th>\n",
       "      <th>model_accuracy</th>\n",
       "    </tr>\n",
       "  </thead>\n",
       "  <tbody>\n",
       "    <tr>\n",
       "      <th>0</th>\n",
       "      <td>Adipose Tissue</td>\n",
       "      <td>Adipose Tissue_keras_model.h5</td>\n",
       "      <td>67.008799</td>\n",
       "    </tr>\n",
       "    <tr>\n",
       "      <th>1</th>\n",
       "      <td>Blood Vessel</td>\n",
       "      <td>Blood Vessel_keras_model.h5</td>\n",
       "      <td>69.670051</td>\n",
       "    </tr>\n",
       "    <tr>\n",
       "      <th>2</th>\n",
       "      <td>Brain</td>\n",
       "      <td>Brain_keras_model.h5</td>\n",
       "      <td>5.084746</td>\n",
       "    </tr>\n",
       "    <tr>\n",
       "      <th>3</th>\n",
       "      <td>Breast</td>\n",
       "      <td>Breast_keras_model.h5</td>\n",
       "      <td>67.741936</td>\n",
       "    </tr>\n",
       "    <tr>\n",
       "      <th>5</th>\n",
       "      <td>Colon</td>\n",
       "      <td>Colon_keras_model.h5</td>\n",
       "      <td>79.385966</td>\n",
       "    </tr>\n",
       "    <tr>\n",
       "      <th>6</th>\n",
       "      <td>Esophagus</td>\n",
       "      <td>Esophagus_keras_model.h5</td>\n",
       "      <td>79.329002</td>\n",
       "    </tr>\n",
       "    <tr>\n",
       "      <th>7</th>\n",
       "      <td>Heart</td>\n",
       "      <td>Heart_keras_model.h5</td>\n",
       "      <td>64.579254</td>\n",
       "    </tr>\n",
       "    <tr>\n",
       "      <th>8</th>\n",
       "      <td>Lung</td>\n",
       "      <td>Lung_keras_model.h5</td>\n",
       "      <td>66.027397</td>\n",
       "    </tr>\n",
       "    <tr>\n",
       "      <th>9</th>\n",
       "      <td>Muscle</td>\n",
       "      <td>Muscle_keras_model.h5</td>\n",
       "      <td>64.655173</td>\n",
       "    </tr>\n",
       "    <tr>\n",
       "      <th>10</th>\n",
       "      <td>Nerve</td>\n",
       "      <td>Nerve_keras_model.h5</td>\n",
       "      <td>64.927536</td>\n",
       "    </tr>\n",
       "    <tr>\n",
       "      <th>11</th>\n",
       "      <td>Pancreas</td>\n",
       "      <td>Pancreas_keras_model.h5</td>\n",
       "      <td>90.677965</td>\n",
       "    </tr>\n",
       "    <tr>\n",
       "      <th>4</th>\n",
       "      <td>Skin</td>\n",
       "      <td>Skin_keras_model.h5</td>\n",
       "      <td>64.170039</td>\n",
       "    </tr>\n",
       "    <tr>\n",
       "      <th>12</th>\n",
       "      <td>Stomach</td>\n",
       "      <td>Stomach_keras_model.h5</td>\n",
       "      <td>89.999998</td>\n",
       "    </tr>\n",
       "    <tr>\n",
       "      <th>13</th>\n",
       "      <td>Testis</td>\n",
       "      <td>Testis_keras_model.h5</td>\n",
       "      <td>62.184876</td>\n",
       "    </tr>\n",
       "    <tr>\n",
       "      <th>14</th>\n",
       "      <td>Thyroid</td>\n",
       "      <td>Thyroid_keras_model.h5</td>\n",
       "      <td>65.206188</td>\n",
       "    </tr>\n",
       "  </tbody>\n",
       "</table>\n",
       "</div>"
      ],
      "text/plain": [
       "       tissue_type                     model_file  model_accuracy\n",
       "0   Adipose Tissue  Adipose Tissue_keras_model.h5       67.008799\n",
       "1     Blood Vessel    Blood Vessel_keras_model.h5       69.670051\n",
       "2            Brain           Brain_keras_model.h5        5.084746\n",
       "3           Breast          Breast_keras_model.h5       67.741936\n",
       "5            Colon           Colon_keras_model.h5       79.385966\n",
       "6        Esophagus       Esophagus_keras_model.h5       79.329002\n",
       "7            Heart           Heart_keras_model.h5       64.579254\n",
       "8             Lung            Lung_keras_model.h5       66.027397\n",
       "9           Muscle          Muscle_keras_model.h5       64.655173\n",
       "10           Nerve           Nerve_keras_model.h5       64.927536\n",
       "11        Pancreas        Pancreas_keras_model.h5       90.677965\n",
       "4             Skin            Skin_keras_model.h5       64.170039\n",
       "12         Stomach         Stomach_keras_model.h5       89.999998\n",
       "13          Testis          Testis_keras_model.h5       62.184876\n",
       "14         Thyroid         Thyroid_keras_model.h5       65.206188"
      ]
     },
     "execution_count": 8,
     "metadata": {},
     "output_type": "execute_result"
    }
   ],
   "source": [
    "keras_model_pd = pd.DataFrame(\n",
    "    data = {\n",
    "        'tissue_type': tissue_type,\n",
    "        'model_file': tissue_model_persist,\n",
    "        'model_accuracy': tissue_model_accuracy\n",
    "    }\n",
    ")\n",
    "\n",
    "keras_model_pd = keras_model_pd.sort_values('tissue_type')\n",
    "\n",
    "keras_model_pd.to_csv(\"keras_model_Hardy_results_filtered.tsv\",sep=\"\\t\",index=False)\n",
    "\n",
    "keras_model_pd"
   ]
  },
  {
   "cell_type": "code",
   "execution_count": 9,
   "metadata": {},
   "outputs": [
    {
     "data": {
      "image/png": "[encoded data removed]",
      "text/plain": [
       "<Figure size 800x400 with 1 Axes>"
      ]
     },
     "metadata": {},
     "output_type": "display_data"
    }
   ],
   "source": [
    "mpl.style.use('default')\n",
    "fig = plt.figure(figsize=(8,4))\n",
    "ax = fig.add_subplot(111)\n",
    "\n",
    "model_plot = sns.barplot(x = keras_model_pd['tissue_type'],\n",
    "            y=keras_model_pd['model_accuracy'],\n",
    "            data = keras_model_pd,\n",
    "            orient='v',\n",
    "            estimator=np.mean,\n",
    "            capsize=0.1)\n",
    "\n",
    "tick_labels = keras_model_pd['tissue_type'].as_matrix()\n",
    "ax.set_xticklabels(tick_labels,rotation=90)\n",
    "ax.set(ylim=(0,100))\n",
    "ax.set(title='Hardy death prediction (filtered) - Keras: accuracy across tissue types')\n",
    "ax.set(xlabel='Tissue types')\n",
    "ax.set(ylabel='Training accuracy')\n",
    "\n",
    "plt.show()\n",
    "test = model_plot.get_figure()\n",
    "test.savefig('keras_hardy_filtered_results.png', bbox_inches='tight')"
   ]
  }
 ],
 "metadata": {
  "kernelspec": {
   "display_name": "Python 3",
   "language": "python",
   "name": "python3"
  },
  "language_info": {
   "codemirror_mode": {
    "name": "ipython",
    "version": 3
   },
   "file_extension": ".py",
   "mimetype": "text/x-python",
   "name": "python",
   "nbconvert_exporter": "python",
   "pygments_lexer": "ipython3",
   "version": "3.7.1"
  }
 },
 "nbformat": 4,
 "nbformat_minor": 2
}
