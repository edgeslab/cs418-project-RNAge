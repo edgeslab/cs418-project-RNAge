{
 "cells": [
  {
   "cell_type": "markdown",
   "metadata": {},
   "source": [
    "<center>\n",
    "    <b>\n",
    "        Discussing the results of Keras models\n",
    "    </b>\n",
    "</center>"
   ]
  },
  {
   "cell_type": "code",
   "execution_count": 9,
   "metadata": {},
   "outputs": [],
   "source": [
    "#Import necessary packages\n",
    "\n",
    "import os\n",
    "import pandas as pd\n",
    "import numpy as np\n",
    "import seaborn as sns\n",
    "%matplotlib inline\n",
    "import matplotlib as mpl\n",
    "import matplotlib.pyplot as plt"
   ]
  },
  {
   "cell_type": "markdown",
   "metadata": {},
   "source": [
    "#### Read the results of the trained models"
   ]
  },
  {
   "cell_type": "code",
   "execution_count": 42,
   "metadata": {},
   "outputs": [
    {
     "data": {
      "text/html": [
       "<div>\n",
       "<style scoped>\n",
       "    .dataframe tbody tr th:only-of-type {\n",
       "        vertical-align: middle;\n",
       "    }\n",
       "\n",
       "    .dataframe tbody tr th {\n",
       "        vertical-align: top;\n",
       "    }\n",
       "\n",
       "    .dataframe thead th {\n",
       "        text-align: right;\n",
       "    }\n",
       "</style>\n",
       "<table border=\"1\" class=\"dataframe\">\n",
       "  <thead>\n",
       "    <tr style=\"text-align: right;\">\n",
       "      <th></th>\n",
       "      <th>tissue_type</th>\n",
       "      <th>model_file</th>\n",
       "      <th>model_accuracy</th>\n",
       "    </tr>\n",
       "  </thead>\n",
       "  <tbody>\n",
       "    <tr>\n",
       "      <th>0</th>\n",
       "      <td>Adipose Tissue</td>\n",
       "      <td>Adipose Tissue_keras_model.h5</td>\n",
       "      <td>34.253451</td>\n",
       "    </tr>\n",
       "    <tr>\n",
       "      <th>1</th>\n",
       "      <td>Blood Vessel</td>\n",
       "      <td>Blood Vessel_keras_model.h5</td>\n",
       "      <td>29.901424</td>\n",
       "    </tr>\n",
       "    <tr>\n",
       "      <th>2</th>\n",
       "      <td>Brain</td>\n",
       "      <td>Brain_keras_model.h5</td>\n",
       "      <td>2.416918</td>\n",
       "    </tr>\n",
       "    <tr>\n",
       "      <th>3</th>\n",
       "      <td>Breast</td>\n",
       "      <td>Breast_keras_model.h5</td>\n",
       "      <td>30.344829</td>\n",
       "    </tr>\n",
       "    <tr>\n",
       "      <th>4</th>\n",
       "      <td>Skin</td>\n",
       "      <td>Skin_keras_model.h5</td>\n",
       "      <td>33.111480</td>\n",
       "    </tr>\n",
       "    <tr>\n",
       "      <th>5</th>\n",
       "      <td>Colon</td>\n",
       "      <td>Colon_keras_model.h5</td>\n",
       "      <td>8.875740</td>\n",
       "    </tr>\n",
       "    <tr>\n",
       "      <th>6</th>\n",
       "      <td>Esophagus</td>\n",
       "      <td>Esophagus_keras_model.h5</td>\n",
       "      <td>25.269344</td>\n",
       "    </tr>\n",
       "    <tr>\n",
       "      <th>7</th>\n",
       "      <td>Heart</td>\n",
       "      <td>Heart_keras_model.h5</td>\n",
       "      <td>34.166667</td>\n",
       "    </tr>\n",
       "    <tr>\n",
       "      <th>8</th>\n",
       "      <td>Lung</td>\n",
       "      <td>Lung_keras_model.h5</td>\n",
       "      <td>32.552692</td>\n",
       "    </tr>\n",
       "    <tr>\n",
       "      <th>9</th>\n",
       "      <td>Muscle</td>\n",
       "      <td>Muscle_keras_model.h5</td>\n",
       "      <td>33.156028</td>\n",
       "    </tr>\n",
       "    <tr>\n",
       "      <th>10</th>\n",
       "      <td>Nerve</td>\n",
       "      <td>Nerve_keras_model.h5</td>\n",
       "      <td>31.400967</td>\n",
       "    </tr>\n",
       "    <tr>\n",
       "      <th>11</th>\n",
       "      <td>Pancreas</td>\n",
       "      <td>Pancreas_keras_model.h5</td>\n",
       "      <td>8.064516</td>\n",
       "    </tr>\n",
       "    <tr>\n",
       "      <th>12</th>\n",
       "      <td>Stomach</td>\n",
       "      <td>Stomach_keras_model.h5</td>\n",
       "      <td>35.632184</td>\n",
       "    </tr>\n",
       "    <tr>\n",
       "      <th>13</th>\n",
       "      <td>Testis</td>\n",
       "      <td>Testis_keras_model.h5</td>\n",
       "      <td>28.957528</td>\n",
       "    </tr>\n",
       "    <tr>\n",
       "      <th>14</th>\n",
       "      <td>Thyroid</td>\n",
       "      <td>Thyroid_keras_model.h5</td>\n",
       "      <td>2.690583</td>\n",
       "    </tr>\n",
       "  </tbody>\n",
       "</table>\n",
       "</div>"
      ],
      "text/plain": [
       "       tissue_type                     model_file  model_accuracy\n",
       "0   Adipose Tissue  Adipose Tissue_keras_model.h5       34.253451\n",
       "1     Blood Vessel    Blood Vessel_keras_model.h5       29.901424\n",
       "2            Brain           Brain_keras_model.h5        2.416918\n",
       "3           Breast          Breast_keras_model.h5       30.344829\n",
       "4             Skin            Skin_keras_model.h5       33.111480\n",
       "5            Colon           Colon_keras_model.h5        8.875740\n",
       "6        Esophagus       Esophagus_keras_model.h5       25.269344\n",
       "7            Heart           Heart_keras_model.h5       34.166667\n",
       "8             Lung            Lung_keras_model.h5       32.552692\n",
       "9           Muscle          Muscle_keras_model.h5       33.156028\n",
       "10           Nerve           Nerve_keras_model.h5       31.400967\n",
       "11        Pancreas        Pancreas_keras_model.h5        8.064516\n",
       "12         Stomach         Stomach_keras_model.h5       35.632184\n",
       "13          Testis          Testis_keras_model.h5       28.957528\n",
       "14         Thyroid         Thyroid_keras_model.h5        2.690583"
      ]
     },
     "execution_count": 42,
     "metadata": {},
     "output_type": "execute_result"
    }
   ],
   "source": [
    "keras_model = pd.read_csv(\"keras_model_results.tsv\", sep='\\t')\n",
    "keras_model"
   ]
  },
  {
   "cell_type": "markdown",
   "metadata": {},
   "source": [
    "#### Plot the accuracy for the various models corresponding to the different tissue types"
   ]
  },
  {
   "cell_type": "code",
   "execution_count": 48,
   "metadata": {},
   "outputs": [
    {
     "name": "stderr",
     "output_type": "stream",
     "text": [
      "C:\\Users\\suji1\\Anaconda3\\envs\\cs418env\\lib\\site-packages\\ipykernel_launcher.py:12: FutureWarning: Method .as_matrix will be removed in a future version. Use .values instead.\n",
      "  if sys.path[0] == '':\n"
     ]
    },
    {
     "data": {
      "image/png": "[encoded data removed]",
      "text/plain": [
       "<Figure size 800x400 with 1 Axes>"
      ]
     },
     "metadata": {},
     "output_type": "display_data"
    }
   ],
   "source": [
    "mpl.style.use('default')\n",
    "fig = plt.figure(figsize=(8,4))\n",
    "ax = fig.add_subplot(111)\n",
    "\n",
    "model_plot = sns.barplot(x = keras_model['tissue_type'],\n",
    "            y=keras_model['model_accuracy'],\n",
    "            data = keras_model,\n",
    "            orient='v',\n",
    "            estimator=np.mean,\n",
    "            capsize=0.1)\n",
    "\n",
    "tick_labels = new_model['tissue_type'].as_matrix()\n",
    "ax.set_xticklabels(tick_labels,rotation=90)\n",
    "ax.set(ylim=(0,50))\n",
    "ax.set(title='Model accuracy across tissue types')\n",
    "ax.set(xlabel='Tissue types')\n",
    "ax.set(ylabel='Training accuracy')\n",
    "\n",
    "plt.show()"
   ]
  },
  {
   "cell_type": "markdown",
   "metadata": {},
   "source": [
    "__Future work__: \n",
    "\n",
    "<ul>\n",
    "    <li>It can be seen that the Deep Learning model are not producing satisfying performance.</li>\n",
    "    <li>The immediate future work would be to identify mechanisms to improve the performance, if possible.</li>\n",
    "    <li>Fallback to traditional Machine Learning models developed in other branches would be advised if performance doesn't increase substantially.</li>\n",
    "</ul>"
   ]
  }
 ],
 "metadata": {
  "kernelspec": {
   "display_name": "Python 3",
   "language": "python",
   "name": "python3"
  },
  "language_info": {
   "codemirror_mode": {
    "name": "ipython",
    "version": 3
   },
   "file_extension": ".py",
   "mimetype": "text/x-python",
   "name": "python",
   "nbconvert_exporter": "python",
   "pygments_lexer": "ipython3",
   "version": "3.7.1"
  }
 },
 "nbformat": 4,
 "nbformat_minor": 2
}
