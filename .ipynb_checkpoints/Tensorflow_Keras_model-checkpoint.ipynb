{
 "cells": [
  {
   "cell_type": "markdown",
   "metadata": {},
   "source": [
    "<center><b>Tensorflow Keras model to train on the GTEx data</b></center>"
   ]
  },
  {
   "cell_type": "markdown",
   "metadata": {},
   "source": [
    "#### __Aim__: To build a TensorFlow Keras model, train on the available gene expression data to identify the age of the owner of the gene expression."
   ]
  },
  {
   "cell_type": "code",
   "execution_count": 5,
   "metadata": {},
   "outputs": [],
   "source": [
    "#Import the required packages\n",
    "\n",
    "import os\n",
    "from pathlib import Path\n",
    "import pandas as pd\n",
    "import numpy as np\n",
    "\n",
    "import tensorflow as tf\n",
    "from tensorflow.keras.models import Sequential\n",
    "from tensorflow.keras.layers import Dense, Dropout, Activation, Flatten, Conv2D, MaxPooling2D\n",
    "from tensorflow.keras.callbacks import EarlyStopping\n",
    "from tensorflow.keras.models import load_model\n",
    "from sklearn.preprocessing import LabelEncoder"
   ]
  },
  {
   "cell_type": "markdown",
   "metadata": {},
   "source": [
    "#### Extract the meta information from the data"
   ]
  },
  {
   "cell_type": "code",
   "execution_count": 10,
   "metadata": {},
   "outputs": [],
   "source": [
    "def GTEx_sample_shrinker(meta,by_col,n=20):\n",
    "    by=meta[by_col].unique()\n",
    "    ans=[]\n",
    "    for i in by:\n",
    "        nTissue=len(meta[meta[by_col]==i])\n",
    "        if nTissue<n:\n",
    "            nn=nTissue\n",
    "        else:\n",
    "            nn=n\n",
    "        ans.append(meta[meta[by_col]==i].sample(nn))\n",
    "    selectedMeta=pd.concat(ans)\n",
    "    return selectedMeta\n",
    "\n",
    "current_dir = os.getcwd() #current directory\n",
    "data_dir = os.path.join(current_dir, \"data\")\n",
    "manifest={\"data\":\"All_Tissue_Site_Details.combined.reads.gct\",\n",
    "          \"sample_meta\":\"GTEx_v7_Annotations_SampleAttributesDS.txt\",\n",
    "          \"subject_meta\":\"GTEx_v7_Annotations_SubjectPhenotypesDS.txt\",\n",
    "           \"merged_meta\":\"merged_meta.tsv\"}\n",
    "meta=pd.read_csv(os.path.join(data_dir, manifest['merged_meta']),sep=\"\\t\",dtype={'SMUBRID':object})\n",
    "y=GTEx_sample_shrinker(meta,'SMTS',20)\n",
    "y.to_csv(os.path.join(data_dir,\"filteredMeta.tsv\"),sep=\"\\t\",index=False)\n",
    "y['SAMPID'].to_csv(os.path.join(data_dir,\"filteredSAMPID.tsv\"),sep=\"\\t\",index=False)"
   ]
  },
  {
   "cell_type": "markdown",
   "metadata": {},
   "source": [
    "#### Identify all the unique tissue types before building the DL model"
   ]
  },
  {
   "cell_type": "code",
   "execution_count": 16,
   "metadata": {},
   "outputs": [
    {
     "name": "stdout",
     "output_type": "stream",
     "text": [
      "Unique tissue types in the GTEx data:  ['Adipose Tissue', 'Blood Vessel', 'Brain', 'Breast', 'Blood', 'Skin', 'Colon', 'Esophagus', 'Heart', 'Lung', 'Muscle', 'Nerve', 'Pancreas', 'Stomach', 'Testis', 'Thyroid']\n"
     ]
    }
   ],
   "source": [
    "fileName = os.path.join(data_dir, \"merged_meta.tsv\")\n",
    "meta=pd.read_csv(os.path.join(data_dir,manifest['merged_meta']),sep=\"\\t\",dtype={'SMUBRID':object,'SEX':object,'DTHHRDY':object})\n",
    "\n",
    "meta=meta[~(meta['AGE'].isnull())] # removes all samples without age\n",
    "\n",
    "#Extract only the tissue types with count > 200\n",
    "counts=pd.DataFrame(meta['SMTS'].value_counts())\n",
    "df=meta[meta['SMTS'].isin(counts[counts['SMTS'] > 200].index)]\n",
    "\n",
    "#Identify the unique tissue types\n",
    "tissue_types = df['SMTS'].unique()\n",
    "\n",
    "print(\"Unique tissue types in the GTEx data: \", [t for t in tissue_types])"
   ]
  },
  {
   "cell_type": "markdown",
   "metadata": {},
   "source": [
    "#### Building the keras model"
   ]
  },
  {
   "cell_type": "code",
   "execution_count": null,
   "metadata": {},
   "outputs": [],
   "source": [
    "from tensorflow.keras.models import Sequential\n",
    "from tensorflow.keras.layers import Dense, Dropout, Activation, Flatten, Conv2D, MaxPooling2D\n",
    "from tensorflow.keras.callbacks import EarlyStopping\n",
    "from tensorflow.keras.models import load_model\n",
    "\n",
    "class keras_model:\n",
    "    DATA_DIR = \"keras_models\"\n",
    "    \n",
    "    def __init__(self):\n",
    "        self.early_stopping_monitor = EarlyStopping(patience=3) #Hyperparameter tuning\n",
    "        \n",
    "    def construct_model(self, x_train, y_train):\n",
    "        self.model = tf.keras.models.Sequential() #Sequential model\n",
    "        self.model.add(tf.keras.layers.Flatten())\n",
    "        self.model.add(tf.keras.layers.Dense(1024, input_dim=x_train.shape[1], activation=tf.nn.relu))\n",
    "        self.model.add(tf.keras.layers.Dense(512, activation=tf.nn.relu))\n",
    "        #self.model.add(tf.keras.layers.Dense(256, activation=tf.nn.relu))\n",
    "        #self.model.add(tf.keras.layers.Dense(128, activation=tf.nn.relu))\n",
    "        self.model.add(tf.keras.layers.Dense(y_train.shape[1], activation=tf.nn.softmax))\n",
    "        #Note: Output layer is designed to hold the number of neurons equivalent to the number of classes of age groups\n",
    "\n",
    "        self.model.compile(optimizer='adam', loss='categorical_crossentropy', metrics=['accuracy'])\n",
    "        \n",
    "    def model_train(self, x_train, y_train):\n",
    "        if x_train.shape[0] == y_train.shape[0]: #Checking shape since there are tissues with missing gene expressions\n",
    "            try:\n",
    "                print(\"Training Keras model...\")\n",
    "                \n",
    "                self.construct_model(x_train, y_train) #Constructing the model\n",
    "                self.model.fit(x_train, \n",
    "                               y_train, \n",
    "                               batch_size=32, #Setting batch size for ease of processing in local machines\n",
    "                               epochs=30, #Maximum of 30 epochs\n",
    "                               validation_split=0.1, \n",
    "                               callbacks=[self.early_stopping_monitor]) #Early stopping hyperparameter\n",
    "                \n",
    "                print(\"Evaluating training accuracy...\")\n",
    "                loss, accuracy = self.model.evaluate(x_train, y_train)\n",
    "                \n",
    "                try:\n",
    "                    #Persisting the model trained for the corresponding tissue type\n",
    "                    fileName = TISSUE + \"_keras_model.h5\"\n",
    "                    filePath = os.path.join(self.DATA_DIR, fileName)\n",
    "                    self.model.save(filePath)\n",
    "                    return accuracy, fileName\n",
    "                except:\n",
    "                    print(\"Exception while saving the model.\")\n",
    "                    return accuracy, None\n",
    "            except:\n",
    "                print(\"Exception while processing!\")\n",
    "                return -1, None\n",
    "        else:\n",
    "            print(\"Shape mismatch encountered!\")\n",
    "            return -1, None"
   ]
  }
 ],
 "metadata": {
  "kernelspec": {
   "display_name": "Python 3",
   "language": "python",
   "name": "python3"
  },
  "language_info": {
   "codemirror_mode": {
    "name": "ipython",
    "version": 3
   },
   "file_extension": ".py",
   "mimetype": "text/x-python",
   "name": "python",
   "nbconvert_exporter": "python",
   "pygments_lexer": "ipython3",
   "version": "3.7.1"
  }
 },
 "nbformat": 4,
 "nbformat_minor": 2
}
