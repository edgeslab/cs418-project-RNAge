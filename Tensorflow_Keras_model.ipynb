{
 "cells": [
  {
   "cell_type": "markdown",
   "metadata": {},
   "source": [
    "<center><b>Tensorflow Keras model to train on the GTEx data</b></center>"
   ]
  },
  {
   "cell_type": "markdown",
   "metadata": {},
   "source": [
    "#### __Aim__: To build a TensorFlow Keras model, train on the available gene expression data to identify the age of the owner of the gene expression."
   ]
  },
  {
   "cell_type": "code",
   "execution_count": 1,
   "metadata": {},
   "outputs": [],
   "source": [
    "#Import the required packages\n",
    "\n",
    "import os\n",
    "from pathlib import Path\n",
    "import pandas as pd\n",
    "import numpy as np\n",
    "\n",
    "import tensorflow as tf\n",
    "from tensorflow.keras.models import Sequential\n",
    "from tensorflow.keras.layers import Dense, Dropout, Activation, Flatten, Conv2D, MaxPooling2D\n",
    "from tensorflow.keras.callbacks import EarlyStopping\n",
    "from tensorflow.keras.models import load_model\n",
    "from sklearn.preprocessing import LabelEncoder\n",
    "from sklearn import preprocessing"
   ]
  },
  {
   "cell_type": "markdown",
   "metadata": {},
   "source": [
    "#### Extract the meta information from the data"
   ]
  },
  {
   "cell_type": "code",
   "execution_count": 2,
   "metadata": {},
   "outputs": [],
   "source": [
    "def GTEx_sample_shrinker(meta,by_col,n=20):\n",
    "    by=meta[by_col].unique()\n",
    "    ans=[]\n",
    "    for i in by:\n",
    "        nTissue=len(meta[meta[by_col]==i])\n",
    "        if nTissue<n:\n",
    "            nn=nTissue\n",
    "        else:\n",
    "            nn=n\n",
    "        ans.append(meta[meta[by_col]==i].sample(nn))\n",
    "    selectedMeta=pd.concat(ans)\n",
    "    return selectedMeta\n",
    "\n",
    "current_dir = os.getcwd() #current directory\n",
    "data_dir = os.path.join(current_dir, \"data\")\n",
    "manifest={\"data\":\"All_Tissue_Site_Details.combined.reads.gct\",\n",
    "          \"sample_meta\":\"GTEx_v7_Annotations_SampleAttributesDS.txt\",\n",
    "          \"subject_meta\":\"GTEx_v7_Annotations_SubjectPhenotypesDS.txt\",\n",
    "           \"merged_meta\":\"merged_meta.tsv\"}\n",
    "meta=pd.read_csv(os.path.join(data_dir, manifest['merged_meta']),sep=\"\\t\",dtype={'SMUBRID':object})\n",
    "y=GTEx_sample_shrinker(meta,'SMTS',20)\n",
    "y.to_csv(os.path.join(data_dir,\"filteredMeta.tsv\"),sep=\"\\t\",index=False)\n",
    "y['SAMPID'].to_csv(os.path.join(data_dir,\"filteredSAMPID.tsv\"),sep=\"\\t\",index=False)"
   ]
  },
  {
   "cell_type": "markdown",
   "metadata": {},
   "source": [
    "#### Identify all the unique tissue types before building the DL model"
   ]
  },
  {
   "cell_type": "code",
   "execution_count": 3,
   "metadata": {},
   "outputs": [
    {
     "name": "stdout",
     "output_type": "stream",
     "text": [
      "Unique tissue types in the GTEx data:  ['Adipose Tissue', 'Blood Vessel', 'Brain', 'Breast', 'Blood', 'Skin', 'Colon', 'Esophagus', 'Heart', 'Lung', 'Muscle', 'Nerve', 'Pancreas', 'Stomach', 'Testis', 'Thyroid']\n"
     ]
    }
   ],
   "source": [
    "fileName = os.path.join(data_dir, \"merged_meta.tsv\")\n",
    "meta=pd.read_csv(os.path.join(data_dir,manifest['merged_meta']),sep=\"\\t\",dtype={'SMUBRID':object,'SEX':object,'DTHHRDY':object})\n",
    "\n",
    "meta=meta[~(meta['AGE'].isnull())] # removes all samples without age\n",
    "\n",
    "#Extract only the tissue types with count > 200\n",
    "counts=pd.DataFrame(meta['SMTS'].value_counts())\n",
    "df=meta[meta['SMTS'].isin(counts[counts['SMTS'] > 200].index)]\n",
    "\n",
    "#Identify the unique tissue types\n",
    "tissue_types = df['SMTS'].unique()\n",
    "\n",
    "print(\"Unique tissue types in the GTEx data: \", [t for t in tissue_types])"
   ]
  },
  {
   "cell_type": "markdown",
   "metadata": {},
   "source": [
    "#### Building the keras model"
   ]
  },
  {
   "cell_type": "code",
   "execution_count": 4,
   "metadata": {},
   "outputs": [],
   "source": [
    "from tensorflow.keras.models import Sequential\n",
    "from tensorflow.keras.layers import Dense, Dropout, Activation, Flatten, Conv2D, MaxPooling2D\n",
    "from tensorflow.keras.callbacks import EarlyStopping\n",
    "from tensorflow.keras.models import load_model\n",
    "\n",
    "class keras_model:\n",
    "    DATA_DIR = \"keras_models\"\n",
    "    \n",
    "    def __init__(self):\n",
    "        self.early_stopping_monitor = EarlyStopping(patience=3) #Hyperparameter tuning\n",
    "        \n",
    "    def construct_model(self, x_train, y_train):\n",
    "        self.model = tf.keras.models.Sequential() #Sequential model\n",
    "        self.model.add(tf.keras.layers.Flatten())\n",
    "        self.model.add(tf.keras.layers.Dense(1024, input_dim=x_train.shape[1], activation=tf.nn.relu))\n",
    "        self.model.add(tf.keras.layers.Dense(512, activation=tf.nn.relu))\n",
    "        #self.model.add(tf.keras.layers.Dense(256, activation=tf.nn.relu))\n",
    "        #self.model.add(tf.keras.layers.Dense(128, activation=tf.nn.relu))\n",
    "        self.model.add(tf.keras.layers.Dense(y_train.shape[1], activation=tf.nn.softmax))\n",
    "        #Note: Output layer is designed to hold the number of neurons equivalent to the number of classes of age groups\n",
    "\n",
    "        self.model.compile(optimizer='adam', loss='categorical_crossentropy', metrics=['accuracy'])\n",
    "        \n",
    "    def model_train(self, x_train, y_train):\n",
    "        if x_train.shape[0] == y_train.shape[0]: #Checking shape since there are tissues with missing gene expressions\n",
    "            try:\n",
    "                print(\"Training Keras model...\")\n",
    "                \n",
    "                self.construct_model(x_train, y_train) #Constructing the model\n",
    "                self.model.fit(x_train, \n",
    "                               y_train, \n",
    "                               batch_size=32, #Setting batch size for ease of processing in local machines\n",
    "                               epochs=30, #Maximum of 30 epochs\n",
    "                               validation_split=0.1, \n",
    "                               callbacks=[self.early_stopping_monitor]) #Early stopping hyperparameter\n",
    "                \n",
    "                print(\"Evaluating training accuracy...\")\n",
    "                loss, accuracy = self.model.evaluate(x_train, y_train)\n",
    "                \n",
    "                try:\n",
    "                    #Persisting the model trained for the corresponding tissue type\n",
    "                    fileName = TISSUE + \"_keras_model.h5\"\n",
    "                    filePath = os.path.join(self.DATA_DIR, fileName)\n",
    "                    self.model.save(filePath)\n",
    "                    return accuracy, fileName\n",
    "                except:\n",
    "                    print(\"Exception while saving the model.\")\n",
    "                    return accuracy, None\n",
    "            except:\n",
    "                print(\"Exception while processing!\")\n",
    "                return -1, None\n",
    "        else:\n",
    "            print(\"Shape mismatch encountered!\")\n",
    "            return -1, None"
   ]
  },
  {
   "cell_type": "markdown",
   "metadata": {},
   "source": [
    "#### Train the model for each tissue type"
   ]
  },
  {
   "cell_type": "code",
   "execution_count": 5,
   "metadata": {
    "scrolled": false
   },
   "outputs": [
    {
     "name": "stdout",
     "output_type": "stream",
     "text": [
      "Tissue type:  Adipose Tissue\n"
     ]
    },
    {
     "name": "stderr",
     "output_type": "stream",
     "text": [
      "C:\\Users\\suji1\\Anaconda3\\envs\\cs418env\\lib\\site-packages\\sklearn\\preprocessing\\data.py:323: DataConversionWarning: Data with input dtype int64, float64 were all converted to float64 by MinMaxScaler.\n",
      "  return self.partial_fit(X, y)\n"
     ]
    },
    {
     "name": "stdout",
     "output_type": "stream",
     "text": [
      "Training Keras model...\n",
      "WARNING:tensorflow:From C:\\Users\\suji1\\Anaconda3\\envs\\cs418env\\lib\\site-packages\\tensorflow\\python\\ops\\resource_variable_ops.py:435: colocate_with (from tensorflow.python.framework.ops) is deprecated and will be removed in a future version.\n",
      "Instructions for updating:\n",
      "Colocations handled automatically by placer.\n"
     ]
    },
    {
     "name": "stderr",
     "output_type": "stream",
     "text": [
      "C:\\Users\\suji1\\Anaconda3\\envs\\cs418env\\lib\\site-packages\\ipykernel_launcher.py:26: FutureWarning: Method .as_matrix will be removed in a future version. Use .values instead.\n"
     ]
    },
    {
     "name": "stdout",
     "output_type": "stream",
     "text": [
      "Train on 717 samples, validate on 80 samples\n",
      "WARNING:tensorflow:From C:\\Users\\suji1\\Anaconda3\\envs\\cs418env\\lib\\site-packages\\tensorflow\\python\\ops\\math_ops.py:3066: to_int32 (from tensorflow.python.ops.math_ops) is deprecated and will be removed in a future version.\n",
      "Instructions for updating:\n",
      "Use tf.cast instead.\n",
      "Epoch 1/30\n",
      "717/717 [==============================] - 10s 15ms/sample - loss: 10.4230 - acc: 0.3040 - val_loss: 12.0886 - val_acc: 0.2500\n",
      "Epoch 2/30\n",
      "717/717 [==============================] - 10s 14ms/sample - loss: 11.0601 - acc: 0.3138 - val_loss: 12.0886 - val_acc: 0.2500\n",
      "Epoch 3/30\n",
      "717/717 [==============================] - 11s 15ms/sample - loss: 11.0601 - acc: 0.3138 - val_loss: 12.0886 - val_acc: 0.2500\n",
      "Epoch 4/30\n",
      "717/717 [==============================] - 10s 14ms/sample - loss: 11.0601 - acc: 0.3138 - val_loss: 12.0886 - val_acc: 0.2500\n",
      "Evaluating training accuracy...\n",
      "797/797 [==============================] - 1s 2ms/sample - loss: 11.1633 - acc: 0.3074\n",
      "Final accuracy: 30.740275979042053\n",
      "\n",
      "\n",
      "Tissue type:  Blood Vessel\n"
     ]
    },
    {
     "name": "stderr",
     "output_type": "stream",
     "text": [
      "C:\\Users\\suji1\\Anaconda3\\envs\\cs418env\\lib\\site-packages\\sklearn\\preprocessing\\data.py:323: DataConversionWarning: Data with input dtype int64, float64 were all converted to float64 by MinMaxScaler.\n",
      "  return self.partial_fit(X, y)\n",
      "C:\\Users\\suji1\\Anaconda3\\envs\\cs418env\\lib\\site-packages\\ipykernel_launcher.py:26: FutureWarning: Method .as_matrix will be removed in a future version. Use .values instead.\n"
     ]
    },
    {
     "name": "stdout",
     "output_type": "stream",
     "text": [
      "Training Keras model...\n",
      "Train on 821 samples, validate on 92 samples\n",
      "Epoch 1/30\n",
      "821/821 [==============================] - 12s 14ms/sample - loss: 10.6363 - acc: 0.2996 - val_loss: 13.1398 - val_acc: 0.1848\n",
      "Epoch 2/30\n",
      "821/821 [==============================] - 11s 14ms/sample - loss: 11.0922 - acc: 0.3118 - val_loss: 13.1398 - val_acc: 0.1848\n",
      "Epoch 3/30\n",
      "821/821 [==============================] - 11s 14ms/sample - loss: 11.0922 - acc: 0.3118 - val_loss: 13.1398 - val_acc: 0.1848\n",
      "Epoch 4/30\n",
      "821/821 [==============================] - 11s 14ms/sample - loss: 11.0922 - acc: 0.3118 - val_loss: 13.1398 - val_acc: 0.1848\n",
      "Epoch 5/30\n",
      "821/821 [==============================] - 11s 14ms/sample - loss: 11.0922 - acc: 0.3118 - val_loss: 13.1398 - val_acc: 0.1848\n",
      "Epoch 6/30\n",
      "821/821 [==============================] - 11s 14ms/sample - loss: 11.0922 - acc: 0.3118 - val_loss: 13.1398 - val_acc: 0.1848\n",
      "Epoch 7/30\n",
      "821/821 [==============================] - 11s 14ms/sample - loss: 11.0922 - acc: 0.3118 - val_loss: 13.1398 - val_acc: 0.1848\n",
      "Epoch 8/30\n",
      "821/821 [==============================] - 11s 14ms/sample - loss: 11.0922 - acc: 0.3118 - val_loss: 13.1398 - val_acc: 0.1848\n",
      "Epoch 9/30\n",
      "821/821 [==============================] - 11s 14ms/sample - loss: 11.0922 - acc: 0.3118 - val_loss: 13.1398 - val_acc: 0.1848\n",
      "Evaluating training accuracy...\n",
      "913/913 [==============================] - 2s 2ms/sample - loss: 11.2986 - acc: 0.2990\n",
      "Final accuracy: 29.901424050331116\n",
      "\n",
      "\n",
      "Tissue type:  Brain\n"
     ]
    },
    {
     "name": "stderr",
     "output_type": "stream",
     "text": [
      "C:\\Users\\suji1\\Anaconda3\\envs\\cs418env\\lib\\site-packages\\sklearn\\preprocessing\\data.py:323: DataConversionWarning: Data with input dtype int64, float64 were all converted to float64 by MinMaxScaler.\n",
      "  return self.partial_fit(X, y)\n",
      "C:\\Users\\suji1\\Anaconda3\\envs\\cs418env\\lib\\site-packages\\ipykernel_launcher.py:26: FutureWarning: Method .as_matrix will be removed in a future version. Use .values instead.\n"
     ]
    },
    {
     "name": "stdout",
     "output_type": "stream",
     "text": [
      "Training Keras model...\n",
      "Train on 297 samples, validate on 34 samples\n",
      "Epoch 1/30\n",
      "297/297 [==============================] - 5s 16ms/sample - loss: 8.0228 - acc: 0.4141 - val_loss: 9.9553 - val_acc: 0.3824\n",
      "Epoch 2/30\n",
      "297/297 [==============================] - 4s 15ms/sample - loss: 8.5746 - acc: 0.4680 - val_loss: 9.9553 - val_acc: 0.3824\n",
      "Epoch 3/30\n",
      "297/297 [==============================] - 4s 15ms/sample - loss: 8.5746 - acc: 0.4680 - val_loss: 9.9553 - val_acc: 0.3824\n",
      "Epoch 4/30\n",
      "297/297 [==============================] - 4s 15ms/sample - loss: 8.5746 - acc: 0.4680 - val_loss: 9.9553 - val_acc: 0.3824\n",
      "Epoch 5/30\n",
      "297/297 [==============================] - 4s 15ms/sample - loss: 8.5746 - acc: 0.4680 - val_loss: 9.9553 - val_acc: 0.3824\n",
      "Evaluating training accuracy...\n",
      "331/331 [==============================] - 1s 2ms/sample - loss: 8.7164 - acc: 0.4592\n",
      "Final accuracy: 45.92145085334778\n",
      "\n",
      "\n",
      "Tissue type:  Breast\n"
     ]
    },
    {
     "name": "stderr",
     "output_type": "stream",
     "text": [
      "C:\\Users\\suji1\\Anaconda3\\envs\\cs418env\\lib\\site-packages\\sklearn\\preprocessing\\data.py:323: DataConversionWarning: Data with input dtype int64, float64 were all converted to float64 by MinMaxScaler.\n",
      "  return self.partial_fit(X, y)\n",
      "C:\\Users\\suji1\\Anaconda3\\envs\\cs418env\\lib\\site-packages\\ipykernel_launcher.py:26: FutureWarning: Method .as_matrix will be removed in a future version. Use .values instead.\n"
     ]
    },
    {
     "name": "stdout",
     "output_type": "stream",
     "text": [
      "Training Keras model...\n",
      "Train on 261 samples, validate on 29 samples\n",
      "Epoch 1/30\n",
      "261/261 [==============================] - 4s 17ms/sample - loss: 9.9314 - acc: 0.2874 - val_loss: 9.4485 - val_acc: 0.4138\n",
      "Epoch 2/30\n",
      "261/261 [==============================] - 4s 15ms/sample - loss: 11.4247 - acc: 0.2912 - val_loss: 9.4485 - val_acc: 0.4138\n",
      "Epoch 3/30\n",
      "261/261 [==============================] - 4s 15ms/sample - loss: 11.4247 - acc: 0.2912 - val_loss: 9.4485 - val_acc: 0.4138\n",
      "Epoch 4/30\n",
      "261/261 [==============================] - 4s 15ms/sample - loss: 11.4247 - acc: 0.2912 - val_loss: 9.4485 - val_acc: 0.4138\n",
      "Evaluating training accuracy...\n",
      "290/290 [==============================] - 1s 2ms/sample - loss: 11.2271 - acc: 0.3034\n",
      "Final accuracy: 30.344828963279724\n",
      "\n",
      "\n",
      "Tissue type:  Blood\n"
     ]
    },
    {
     "name": "stderr",
     "output_type": "stream",
     "text": [
      "C:\\Users\\suji1\\Anaconda3\\envs\\cs418env\\lib\\site-packages\\sklearn\\preprocessing\\data.py:323: DataConversionWarning: Data with input dtype int64, float64 were all converted to float64 by MinMaxScaler.\n",
      "  return self.partial_fit(X, y)\n",
      "C:\\Users\\suji1\\Anaconda3\\envs\\cs418env\\lib\\site-packages\\ipykernel_launcher.py:26: FutureWarning: Method .as_matrix will be removed in a future version. Use .values instead.\n"
     ]
    },
    {
     "name": "stdout",
     "output_type": "stream",
     "text": [
      "Shape mismatch encountered!\n",
      "\n",
      "\n",
      "Tissue type:  Skin\n"
     ]
    },
    {
     "name": "stderr",
     "output_type": "stream",
     "text": [
      "C:\\Users\\suji1\\Anaconda3\\envs\\cs418env\\lib\\site-packages\\sklearn\\preprocessing\\data.py:323: DataConversionWarning: Data with input dtype int64, float64 were all converted to float64 by MinMaxScaler.\n",
      "  return self.partial_fit(X, y)\n",
      "C:\\Users\\suji1\\Anaconda3\\envs\\cs418env\\lib\\site-packages\\ipykernel_launcher.py:26: FutureWarning: Method .as_matrix will be removed in a future version. Use .values instead.\n"
     ]
    },
    {
     "name": "stdout",
     "output_type": "stream",
     "text": [
      "Training Keras model...\n",
      "Train on 1081 samples, validate on 121 samples\n",
      "Epoch 1/30\n",
      "1081/1081 [==============================] - 15s 14ms/sample - loss: 10.5372 - acc: 0.3182 - val_loss: 10.5234 - val_acc: 0.3471\n",
      "Epoch 2/30\n",
      "1081/1081 [==============================] - 15s 14ms/sample - loss: 10.8100 - acc: 0.3293 - val_loss: 10.5234 - val_acc: 0.3471\n",
      "Epoch 3/30\n",
      "1081/1081 [==============================] - 15s 14ms/sample - loss: 10.8100 - acc: 0.3293 - val_loss: 10.5234 - val_acc: 0.3471\n",
      "Epoch 4/30\n",
      "1081/1081 [==============================] - 15s 14ms/sample - loss: 10.8100 - acc: 0.3293 - val_loss: 10.5234 - val_acc: 0.3471\n",
      "Evaluating training accuracy...\n",
      "1202/1202 [==============================] - 2s 2ms/sample - loss: 10.7812 - acc: 0.3311\n",
      "Final accuracy: 33.1114798784256\n",
      "\n",
      "\n",
      "Tissue type:  Colon\n"
     ]
    },
    {
     "name": "stderr",
     "output_type": "stream",
     "text": [
      "C:\\Users\\suji1\\Anaconda3\\envs\\cs418env\\lib\\site-packages\\sklearn\\preprocessing\\data.py:323: DataConversionWarning: Data with input dtype int64, float64 were all converted to float64 by MinMaxScaler.\n",
      "  return self.partial_fit(X, y)\n",
      "C:\\Users\\suji1\\Anaconda3\\envs\\cs418env\\lib\\site-packages\\ipykernel_launcher.py:26: FutureWarning: Method .as_matrix will be removed in a future version. Use .values instead.\n"
     ]
    },
    {
     "name": "stdout",
     "output_type": "stream",
     "text": [
      "Training Keras model...\n",
      "Train on 456 samples, validate on 51 samples\n",
      "Epoch 1/30\n",
      "456/456 [==============================] - 7s 16ms/sample - loss: 10.4025 - acc: 0.2851 - val_loss: 14.2218 - val_acc: 0.1176\n",
      "Epoch 2/30\n",
      "456/456 [==============================] - 7s 15ms/sample - loss: 11.3816 - acc: 0.2939 - val_loss: 14.2218 - val_acc: 0.1176\n",
      "Epoch 3/30\n",
      "456/456 [==============================] - 7s 14ms/sample - loss: 11.3816 - acc: 0.2939 - val_loss: 14.2218 - val_acc: 0.1176\n",
      "Epoch 4/30\n",
      "456/456 [==============================] - 7s 14ms/sample - loss: 11.3816 - acc: 0.2939 - val_loss: 14.2218 - val_acc: 0.1176\n",
      "Epoch 5/30\n",
      "456/456 [==============================] - 7s 15ms/sample - loss: 11.3816 - acc: 0.2939 - val_loss: 14.2218 - val_acc: 0.1176\n",
      "Evaluating training accuracy...\n",
      "507/507 [==============================] - 1s 2ms/sample - loss: 11.6673 - acc: 0.2761\n",
      "Final accuracy: 27.613413333892822\n",
      "\n",
      "\n",
      "Tissue type:  Esophagus\n"
     ]
    },
    {
     "name": "stderr",
     "output_type": "stream",
     "text": [
      "C:\\Users\\suji1\\Anaconda3\\envs\\cs418env\\lib\\site-packages\\sklearn\\preprocessing\\data.py:323: DataConversionWarning: Data with input dtype int64, float64 were all converted to float64 by MinMaxScaler.\n",
      "  return self.partial_fit(X, y)\n",
      "C:\\Users\\suji1\\Anaconda3\\envs\\cs418env\\lib\\site-packages\\ipykernel_launcher.py:26: FutureWarning: Method .as_matrix will be removed in a future version. Use .values instead.\n"
     ]
    },
    {
     "name": "stdout",
     "output_type": "stream",
     "text": [
      "Training Keras model...\n",
      "Train on 918 samples, validate on 103 samples\n",
      "Epoch 1/30\n",
      "918/918 [==============================] - 13s 14ms/sample - loss: 10.3339 - acc: 0.3322 - val_loss: 9.8586 - val_acc: 0.3883\n",
      "Epoch 2/30\n",
      "918/918 [==============================] - 13s 14ms/sample - loss: 10.5698 - acc: 0.3442 - val_loss: 9.8586 - val_acc: 0.3883\n",
      "Epoch 3/30\n",
      "918/918 [==============================] - 13s 14ms/sample - loss: 10.5698 - acc: 0.3442 - val_loss: 9.8586 - val_acc: 0.3883\n",
      "Epoch 4/30\n",
      "918/918 [==============================] - 13s 14ms/sample - loss: 10.5698 - acc: 0.3442 - val_loss: 9.8586 - val_acc: 0.3883\n",
      "Evaluating training accuracy...\n",
      "1021/1021 [==============================] - 2s 2ms/sample - loss: 10.4981 - acc: 0.34870s - loss: 10.55\n",
      "Final accuracy: 34.867775440216064\n",
      "\n",
      "\n",
      "Tissue type:  Heart\n"
     ]
    },
    {
     "name": "stderr",
     "output_type": "stream",
     "text": [
      "C:\\Users\\suji1\\Anaconda3\\envs\\cs418env\\lib\\site-packages\\sklearn\\preprocessing\\data.py:323: DataConversionWarning: Data with input dtype int64, float64 were all converted to float64 by MinMaxScaler.\n",
      "  return self.partial_fit(X, y)\n",
      "C:\\Users\\suji1\\Anaconda3\\envs\\cs418env\\lib\\site-packages\\ipykernel_launcher.py:26: FutureWarning: Method .as_matrix will be removed in a future version. Use .values instead.\n"
     ]
    },
    {
     "name": "stdout",
     "output_type": "stream",
     "text": [
      "Training Keras model...\n",
      "Train on 540 samples, validate on 60 samples\n",
      "Epoch 1/30\n",
      "540/540 [==============================] - 8s 15ms/sample - loss: 9.6145 - acc: 0.3556 - val_loss: 7.7904 - val_acc: 0.5167\n",
      "Epoch 2/30\n",
      "540/540 [==============================] - 7s 14ms/sample - loss: 10.4768 - acc: 0.3500 - val_loss: 7.7904 - val_acc: 0.5167\n",
      "Epoch 3/30\n",
      "540/540 [==============================] - 7s 14ms/sample - loss: 10.4768 - acc: 0.3500 - val_loss: 7.7904 - val_acc: 0.5167\n",
      "Epoch 4/30\n",
      "540/540 [==============================] - 7s 14ms/sample - loss: 10.4768 - acc: 0.3500 - val_loss: 7.7904 - val_acc: 0.5167\n",
      "Evaluating training accuracy...\n",
      "600/600 [==============================] - 1s 2ms/sample - loss: 10.2081 - acc: 0.3667\n",
      "Final accuracy: 36.666667461395264\n",
      "\n",
      "\n",
      "Tissue type:  Lung\n"
     ]
    },
    {
     "name": "stderr",
     "output_type": "stream",
     "text": [
      "C:\\Users\\suji1\\Anaconda3\\envs\\cs418env\\lib\\site-packages\\sklearn\\preprocessing\\data.py:323: DataConversionWarning: Data with input dtype int64, float64 were all converted to float64 by MinMaxScaler.\n",
      "  return self.partial_fit(X, y)\n",
      "C:\\Users\\suji1\\Anaconda3\\envs\\cs418env\\lib\\site-packages\\ipykernel_launcher.py:26: FutureWarning: Method .as_matrix will be removed in a future version. Use .values instead.\n"
     ]
    },
    {
     "name": "stdout",
     "output_type": "stream",
     "text": [
      "Training Keras model...\n",
      "Train on 384 samples, validate on 43 samples\n",
      "Epoch 1/30\n",
      "384/384 [==============================] - 6s 15ms/sample - loss: 10.1904 - acc: 0.3021 - val_loss: 10.8703 - val_acc: 0.3256\n",
      "Epoch 2/30\n",
      "384/384 [==============================] - 5s 14ms/sample - loss: 10.8713 - acc: 0.3255 - val_loss: 10.8703 - val_acc: 0.3256\n",
      "Epoch 3/30\n",
      "384/384 [==============================] - 5s 14ms/sample - loss: 10.8713 - acc: 0.3255 - val_loss: 10.8703 - val_acc: 0.3256\n",
      "Epoch 4/30\n",
      "384/384 [==============================] - 5s 14ms/sample - loss: 10.8713 - acc: 0.3255 - val_loss: 10.8703 - val_acc: 0.3256\n",
      "Epoch 5/30\n",
      "384/384 [==============================] - 5s 14ms/sample - loss: 10.8713 - acc: 0.3255 - val_loss: 10.8703 - val_acc: 0.3256\n",
      "Evaluating training accuracy...\n",
      "427/427 [==============================] - 1s 2ms/sample - loss: 10.8712 - acc: 0.3255\n",
      "Final accuracy: 32.55269229412079\n",
      "\n",
      "\n",
      "Tissue type:  Muscle\n"
     ]
    },
    {
     "name": "stderr",
     "output_type": "stream",
     "text": [
      "C:\\Users\\suji1\\Anaconda3\\envs\\cs418env\\lib\\site-packages\\sklearn\\preprocessing\\data.py:323: DataConversionWarning: Data with input dtype int64, float64 were all converted to float64 by MinMaxScaler.\n",
      "  return self.partial_fit(X, y)\n",
      "C:\\Users\\suji1\\Anaconda3\\envs\\cs418env\\lib\\site-packages\\ipykernel_launcher.py:26: FutureWarning: Method .as_matrix will be removed in a future version. Use .values instead.\n"
     ]
    },
    {
     "name": "stdout",
     "output_type": "stream",
     "text": [
      "Training Keras model...\n",
      "Train on 507 samples, validate on 57 samples\n",
      "Epoch 1/30\n",
      "507/507 [==============================] - 7s 15ms/sample - loss: 10.4177 - acc: 0.2978 - val_loss: 9.6143 - val_acc: 0.4035\n",
      "Epoch 2/30\n",
      "507/507 [==============================] - 7s 14ms/sample - loss: 10.8726 - acc: 0.3254 - val_loss: 9.6143 - val_acc: 0.4035\n",
      "Epoch 3/30\n",
      "507/507 [==============================] - 7s 14ms/sample - loss: 10.8726 - acc: 0.3254 - val_loss: 9.6143 - val_acc: 0.4035\n",
      "Epoch 4/30\n",
      "507/507 [==============================] - 7s 14ms/sample - loss: 10.8726 - acc: 0.3254 - val_loss: 9.6143 - val_acc: 0.4035\n",
      "Evaluating training accuracy...\n",
      "564/564 [==============================] - 1s 2ms/sample - loss: 10.7454 - acc: 0.3333\n",
      "Final accuracy: 33.33333432674408\n",
      "\n",
      "\n",
      "Tissue type:  Nerve\n"
     ]
    },
    {
     "name": "stderr",
     "output_type": "stream",
     "text": [
      "C:\\Users\\suji1\\Anaconda3\\envs\\cs418env\\lib\\site-packages\\sklearn\\preprocessing\\data.py:323: DataConversionWarning: Data with input dtype int64, float64 were all converted to float64 by MinMaxScaler.\n",
      "  return self.partial_fit(X, y)\n",
      "C:\\Users\\suji1\\Anaconda3\\envs\\cs418env\\lib\\site-packages\\ipykernel_launcher.py:26: FutureWarning: Method .as_matrix will be removed in a future version. Use .values instead.\n"
     ]
    },
    {
     "name": "stdout",
     "output_type": "stream",
     "text": [
      "Training Keras model...\n",
      "Train on 372 samples, validate on 42 samples\n",
      "Epoch 1/30\n",
      "372/372 [==============================] - 6s 16ms/sample - loss: 9.6398 - acc: 0.3280 - val_loss: 11.8967 - val_acc: 0.2619\n",
      "Epoch 2/30\n",
      "372/372 [==============================] - 5s 14ms/sample - loss: 10.8321 - acc: 0.3280 - val_loss: 11.8967 - val_acc: 0.2619\n",
      "Epoch 3/30\n",
      "372/372 [==============================] - 5s 14ms/sample - loss: 10.8321 - acc: 0.3280 - val_loss: 11.8967 - val_acc: 0.2619\n",
      "Epoch 4/30\n",
      "372/372 [==============================] - 5s 15ms/sample - loss: 10.8321 - acc: 0.3280 - val_loss: 11.8967 - val_acc: 0.2619\n",
      "Epoch 5/30\n",
      "372/372 [==============================] - 5s 14ms/sample - loss: 10.8321 - acc: 0.3280 - val_loss: 11.8967 - val_acc: 0.2619\n",
      "Epoch 6/30\n",
      "372/372 [==============================] - 5s 14ms/sample - loss: 10.8321 - acc: 0.3280 - val_loss: 11.8967 - val_acc: 0.2619\n",
      "Evaluating training accuracy...\n",
      "414/414 [==============================] - 1s 2ms/sample - loss: 10.9401 - acc: 0.3213\n",
      "Final accuracy: 32.12560415267944\n",
      "\n",
      "\n",
      "Tissue type:  Pancreas\n"
     ]
    },
    {
     "name": "stderr",
     "output_type": "stream",
     "text": [
      "C:\\Users\\suji1\\Anaconda3\\envs\\cs418env\\lib\\site-packages\\sklearn\\preprocessing\\data.py:323: DataConversionWarning: Data with input dtype int64, float64 were all converted to float64 by MinMaxScaler.\n",
      "  return self.partial_fit(X, y)\n",
      "C:\\Users\\suji1\\Anaconda3\\envs\\cs418env\\lib\\site-packages\\ipykernel_launcher.py:26: FutureWarning: Method .as_matrix will be removed in a future version. Use .values instead.\n"
     ]
    },
    {
     "name": "stdout",
     "output_type": "stream",
     "text": [
      "Training Keras model...\n",
      "Train on 223 samples, validate on 25 samples\n",
      "Epoch 1/30\n",
      "223/223 [==============================] - 5s 21ms/sample - loss: 9.3144 - acc: 0.3049 - val_loss: 7.7367 - val_acc: 0.5200\n",
      "Epoch 2/30\n",
      "223/223 [==============================] - 3s 14ms/sample - loss: 10.1913 - acc: 0.3677 - val_loss: 7.7367 - val_acc: 0.5200\n",
      "Epoch 3/30\n",
      "223/223 [==============================] - 3s 14ms/sample - loss: 10.1913 - acc: 0.3677 - val_loss: 7.7367 - val_acc: 0.5200\n",
      "Epoch 4/30\n",
      "223/223 [==============================] - 3s 14ms/sample - loss: 10.1913 - acc: 0.3677 - val_loss: 7.7367 - val_acc: 0.5200\n",
      "Evaluating training accuracy...\n",
      "248/248 [==============================] - 0s 2ms/sample - loss: 9.9438 - acc: 0.3831\n",
      "Final accuracy: 38.306450843811035\n",
      "\n",
      "\n",
      "Tissue type:  Stomach\n"
     ]
    },
    {
     "name": "stderr",
     "output_type": "stream",
     "text": [
      "C:\\Users\\suji1\\Anaconda3\\envs\\cs418env\\lib\\site-packages\\sklearn\\preprocessing\\data.py:323: DataConversionWarning: Data with input dtype int64, float64 were all converted to float64 by MinMaxScaler.\n",
      "  return self.partial_fit(X, y)\n",
      "C:\\Users\\suji1\\Anaconda3\\envs\\cs418env\\lib\\site-packages\\ipykernel_launcher.py:26: FutureWarning: Method .as_matrix will be removed in a future version. Use .values instead.\n"
     ]
    },
    {
     "name": "stdout",
     "output_type": "stream",
     "text": [
      "Training Keras model...\n",
      "Train on 234 samples, validate on 27 samples\n",
      "Epoch 1/30\n",
      "234/234 [==============================] - 5s 20ms/sample - loss: 9.2648 - acc: 0.3291 - val_loss: 8.9545 - val_acc: 0.4444\n",
      "Epoch 2/30\n",
      "234/234 [==============================] - 3s 15ms/sample - loss: 10.5388 - acc: 0.3462 - val_loss: 8.9545 - val_acc: 0.4444\n",
      "Epoch 3/30\n",
      "234/234 [==============================] - 4s 15ms/sample - loss: 10.5388 - acc: 0.3462 - val_loss: 8.9545 - val_acc: 0.4444\n",
      "Epoch 4/30\n",
      "234/234 [==============================] - 4s 15ms/sample - loss: 10.5388 - acc: 0.3462 - val_loss: 8.9545 - val_acc: 0.4444\n",
      "Epoch 5/30\n",
      "234/234 [==============================] - 3s 15ms/sample - loss: 10.5388 - acc: 0.3462 - val_loss: 8.9545 - val_acc: 0.4444\n",
      "Evaluating training accuracy...\n",
      "261/261 [==============================] - 0s 2ms/sample - loss: 10.3749 - acc: 0.3563\n",
      "Final accuracy: 35.63218414783478\n",
      "\n",
      "\n",
      "Tissue type:  Testis\n"
     ]
    },
    {
     "name": "stderr",
     "output_type": "stream",
     "text": [
      "C:\\Users\\suji1\\Anaconda3\\envs\\cs418env\\lib\\site-packages\\sklearn\\preprocessing\\data.py:323: DataConversionWarning: Data with input dtype int64, float64 were all converted to float64 by MinMaxScaler.\n",
      "  return self.partial_fit(X, y)\n",
      "C:\\Users\\suji1\\Anaconda3\\envs\\cs418env\\lib\\site-packages\\ipykernel_launcher.py:26: FutureWarning: Method .as_matrix will be removed in a future version. Use .values instead.\n"
     ]
    },
    {
     "name": "stdout",
     "output_type": "stream",
     "text": [
      "Training Keras model...\n",
      "Train on 233 samples, validate on 26 samples\n",
      "Epoch 1/30\n",
      "233/233 [==============================] - 5s 23ms/sample - loss: 9.6060 - acc: 0.2961 - val_loss: 10.5388 - val_acc: 0.3462\n",
      "Epoch 2/30\n",
      "233/233 [==============================] - 5s 20ms/sample - loss: 10.5148 - acc: 0.3476 - val_loss: 10.5388 - val_acc: 0.3462\n",
      "Epoch 3/30\n",
      "233/233 [==============================] - 4s 15ms/sample - loss: 10.5148 - acc: 0.3476 - val_loss: 10.5388 - val_acc: 0.3462\n",
      "Epoch 4/30\n",
      "233/233 [==============================] - 4s 16ms/sample - loss: 10.5148 - acc: 0.3476 - val_loss: 10.5388 - val_acc: 0.3462\n",
      "Evaluating training accuracy...\n",
      "259/259 [==============================] - 0s 2ms/sample - loss: 10.5172 - acc: 0.3475\n",
      "Final accuracy: 34.74903404712677\n",
      "\n",
      "\n",
      "Tissue type:  Thyroid\n"
     ]
    },
    {
     "name": "stderr",
     "output_type": "stream",
     "text": [
      "C:\\Users\\suji1\\Anaconda3\\envs\\cs418env\\lib\\site-packages\\sklearn\\preprocessing\\data.py:323: DataConversionWarning: Data with input dtype int64, float64 were all converted to float64 by MinMaxScaler.\n",
      "  return self.partial_fit(X, y)\n",
      "C:\\Users\\suji1\\Anaconda3\\envs\\cs418env\\lib\\site-packages\\ipykernel_launcher.py:26: FutureWarning: Method .as_matrix will be removed in a future version. Use .values instead.\n"
     ]
    },
    {
     "name": "stdout",
     "output_type": "stream",
     "text": [
      "Training Keras model...\n",
      "Train on 401 samples, validate on 45 samples\n",
      "Epoch 1/30\n",
      "401/401 [==============================] - 6s 16ms/sample - loss: 10.0720 - acc: 0.3117 - val_loss: 10.3872 - val_acc: 0.3556\n",
      "Epoch 2/30\n",
      "401/401 [==============================] - 6s 14ms/sample - loss: 10.6918 - acc: 0.3367 - val_loss: 10.3872 - val_acc: 0.3556\n",
      "Epoch 3/30\n",
      "401/401 [==============================] - 6s 14ms/sample - loss: 10.6918 - acc: 0.3367 - val_loss: 10.3872 - val_acc: 0.3556\n",
      "Epoch 4/30\n",
      "401/401 [==============================] - 6s 14ms/sample - loss: 10.6918 - acc: 0.3367 - val_loss: 10.3872 - val_acc: 0.3556\n",
      "Epoch 5/30\n",
      "401/401 [==============================] - 6s 14ms/sample - loss: 10.6918 - acc: 0.3367 - val_loss: 10.3872 - val_acc: 0.3556\n",
      "Epoch 6/30\n",
      "401/401 [==============================] - 6s 14ms/sample - loss: 10.6918 - acc: 0.3367 - val_loss: 10.3872 - val_acc: 0.3556\n",
      "Evaluating training accuracy...\n",
      "446/446 [==============================] - 1s 2ms/sample - loss: 10.6611 - acc: 0.3386\n",
      "Final accuracy: 33.856502175331116\n",
      "\n",
      "\n"
     ]
    }
   ],
   "source": [
    "tissue_specific_path = \"tissue-specific\"\n",
    "\n",
    "tissue_type = []\n",
    "tissue_model_persist = []\n",
    "tissue_model_accuracy = []\n",
    "\n",
    "for tissue in tissue_types:\n",
    "    k_model = keras_model()\n",
    "    TISSUE=tissue\n",
    "    infiles=os.listdir(tissue_specific_path)\n",
    "    TISSUE_files=[f for f in infiles if  TISSUE in f]\n",
    "    for entry in TISSUE_files:\n",
    "        if \"_cpm\" in entry: #Identify the file with _cpm suffix; cpm stands for Counts Per Million\n",
    "            pdd = pd.read_csv(os.path.join(tissue_specific_path,entry), sep='\\t')\n",
    "            \n",
    "            print(\"Tissue type: \", TISSUE)\n",
    "\n",
    "            #Dropping the gene id colunm since it plays no role in classification\n",
    "            pdd = pdd.drop(pdd.columns[0], axis='columns')\n",
    "\n",
    "            #Min_max normalization\n",
    "            min_max_scaler = preprocessing.MinMaxScaler()\n",
    "            np_scaled = min_max_scaler.fit_transform(pdd)\n",
    "            pdd = pd.DataFrame(np_scaled)\n",
    "            \n",
    "            numpy_matrix = pdd.as_matrix()\n",
    "            #Categorizing the target column and performing one-hot encoding\n",
    "            tissue_meta=meta[meta['SMTS']==TISSUE]\n",
    "            encoder = LabelEncoder()\n",
    "            age_y = tissue_meta['AGE']\n",
    "            encoder.fit(tissue_meta['AGE'])\n",
    "            encoded_Y = encoder.transform(tissue_meta['AGE'])\n",
    "            dummy_y = tf.keras.utils.to_categorical(encoded_Y)\n",
    "            \n",
    "            #Training the model for the current tissue type\n",
    "            acc, fileName = k_model.model_train(numpy_matrix, dummy_y)\n",
    "            if acc != -1:\n",
    "                try:\n",
    "                    acc = acc * 100\n",
    "                    tissue_type.append(TISSUE)\n",
    "                    tissue_model_persist.append(fileName)\n",
    "                    tissue_model_accuracy.append(acc)\n",
    "                    print(\"Final accuracy:\", acc)\n",
    "                except:\n",
    "                    print(\"Error occurred for tissue type: \", TISSUE)\n",
    "            print(\"\\n\")\n",
    "            break"
   ]
  },
  {
   "cell_type": "markdown",
   "metadata": {},
   "source": [
    "#### Persist the results of the model in a TSV file for evaluation later"
   ]
  },
  {
   "cell_type": "code",
   "execution_count": 6,
   "metadata": {},
   "outputs": [
    {
     "data": {
      "text/html": [
       "<div>\n",
       "<style scoped>\n",
       "    .dataframe tbody tr th:only-of-type {\n",
       "        vertical-align: middle;\n",
       "    }\n",
       "\n",
       "    .dataframe tbody tr th {\n",
       "        vertical-align: top;\n",
       "    }\n",
       "\n",
       "    .dataframe thead th {\n",
       "        text-align: right;\n",
       "    }\n",
       "</style>\n",
       "<table border=\"1\" class=\"dataframe\">\n",
       "  <thead>\n",
       "    <tr style=\"text-align: right;\">\n",
       "      <th></th>\n",
       "      <th>tissue_type</th>\n",
       "      <th>model_file</th>\n",
       "      <th>model_accuracy</th>\n",
       "    </tr>\n",
       "  </thead>\n",
       "  <tbody>\n",
       "    <tr>\n",
       "      <th>0</th>\n",
       "      <td>Adipose Tissue</td>\n",
       "      <td>Adipose Tissue_keras_model.h5</td>\n",
       "      <td>30.740276</td>\n",
       "    </tr>\n",
       "    <tr>\n",
       "      <th>1</th>\n",
       "      <td>Blood Vessel</td>\n",
       "      <td>Blood Vessel_keras_model.h5</td>\n",
       "      <td>29.901424</td>\n",
       "    </tr>\n",
       "    <tr>\n",
       "      <th>2</th>\n",
       "      <td>Brain</td>\n",
       "      <td>Brain_keras_model.h5</td>\n",
       "      <td>45.921451</td>\n",
       "    </tr>\n",
       "    <tr>\n",
       "      <th>3</th>\n",
       "      <td>Breast</td>\n",
       "      <td>Breast_keras_model.h5</td>\n",
       "      <td>30.344829</td>\n",
       "    </tr>\n",
       "    <tr>\n",
       "      <th>5</th>\n",
       "      <td>Colon</td>\n",
       "      <td>Colon_keras_model.h5</td>\n",
       "      <td>27.613413</td>\n",
       "    </tr>\n",
       "    <tr>\n",
       "      <th>6</th>\n",
       "      <td>Esophagus</td>\n",
       "      <td>Esophagus_keras_model.h5</td>\n",
       "      <td>34.867775</td>\n",
       "    </tr>\n",
       "    <tr>\n",
       "      <th>7</th>\n",
       "      <td>Heart</td>\n",
       "      <td>Heart_keras_model.h5</td>\n",
       "      <td>36.666667</td>\n",
       "    </tr>\n",
       "    <tr>\n",
       "      <th>8</th>\n",
       "      <td>Lung</td>\n",
       "      <td>Lung_keras_model.h5</td>\n",
       "      <td>32.552692</td>\n",
       "    </tr>\n",
       "    <tr>\n",
       "      <th>9</th>\n",
       "      <td>Muscle</td>\n",
       "      <td>Muscle_keras_model.h5</td>\n",
       "      <td>33.333334</td>\n",
       "    </tr>\n",
       "    <tr>\n",
       "      <th>10</th>\n",
       "      <td>Nerve</td>\n",
       "      <td>Nerve_keras_model.h5</td>\n",
       "      <td>32.125604</td>\n",
       "    </tr>\n",
       "    <tr>\n",
       "      <th>11</th>\n",
       "      <td>Pancreas</td>\n",
       "      <td>Pancreas_keras_model.h5</td>\n",
       "      <td>38.306451</td>\n",
       "    </tr>\n",
       "    <tr>\n",
       "      <th>4</th>\n",
       "      <td>Skin</td>\n",
       "      <td>Skin_keras_model.h5</td>\n",
       "      <td>33.111480</td>\n",
       "    </tr>\n",
       "    <tr>\n",
       "      <th>12</th>\n",
       "      <td>Stomach</td>\n",
       "      <td>Stomach_keras_model.h5</td>\n",
       "      <td>35.632184</td>\n",
       "    </tr>\n",
       "    <tr>\n",
       "      <th>13</th>\n",
       "      <td>Testis</td>\n",
       "      <td>Testis_keras_model.h5</td>\n",
       "      <td>34.749034</td>\n",
       "    </tr>\n",
       "    <tr>\n",
       "      <th>14</th>\n",
       "      <td>Thyroid</td>\n",
       "      <td>Thyroid_keras_model.h5</td>\n",
       "      <td>33.856502</td>\n",
       "    </tr>\n",
       "  </tbody>\n",
       "</table>\n",
       "</div>"
      ],
      "text/plain": [
       "       tissue_type                     model_file  model_accuracy\n",
       "0   Adipose Tissue  Adipose Tissue_keras_model.h5       30.740276\n",
       "1     Blood Vessel    Blood Vessel_keras_model.h5       29.901424\n",
       "2            Brain           Brain_keras_model.h5       45.921451\n",
       "3           Breast          Breast_keras_model.h5       30.344829\n",
       "5            Colon           Colon_keras_model.h5       27.613413\n",
       "6        Esophagus       Esophagus_keras_model.h5       34.867775\n",
       "7            Heart           Heart_keras_model.h5       36.666667\n",
       "8             Lung            Lung_keras_model.h5       32.552692\n",
       "9           Muscle          Muscle_keras_model.h5       33.333334\n",
       "10           Nerve           Nerve_keras_model.h5       32.125604\n",
       "11        Pancreas        Pancreas_keras_model.h5       38.306451\n",
       "4             Skin            Skin_keras_model.h5       33.111480\n",
       "12         Stomach         Stomach_keras_model.h5       35.632184\n",
       "13          Testis          Testis_keras_model.h5       34.749034\n",
       "14         Thyroid         Thyroid_keras_model.h5       33.856502"
      ]
     },
     "execution_count": 6,
     "metadata": {},
     "output_type": "execute_result"
    }
   ],
   "source": [
    "keras_model_pd = pd.DataFrame(\n",
    "    data = {\n",
    "        'tissue_type': tissue_type,\n",
    "        'model_file': tissue_model_persist,\n",
    "        'model_accuracy': tissue_model_accuracy\n",
    "    }\n",
    ")\n",
    "\n",
    "keras_model_pd = keras_model_pd.sort_values('tissue_type')\n",
    "\n",
    "keras_model_pd.to_csv(\"keras_model_results.tsv\",sep=\"\\t\",index=False)\n",
    "\n",
    "keras_model_pd"
   ]
  }
 ],
 "metadata": {
  "kernelspec": {
   "display_name": "Python 3",
   "language": "python",
   "name": "python3"
  },
  "language_info": {
   "codemirror_mode": {
    "name": "ipython",
    "version": 3
   },
   "file_extension": ".py",
   "mimetype": "text/x-python",
   "name": "python",
   "nbconvert_exporter": "python",
   "pygments_lexer": "ipython3",
   "version": "3.7.1"
  }
 },
 "nbformat": 4,
 "nbformat_minor": 2
}
